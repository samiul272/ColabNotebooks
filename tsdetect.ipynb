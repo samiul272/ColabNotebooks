{
  "nbformat": 4,
  "nbformat_minor": 0,
  "metadata": {
    "kernelspec": {
      "display_name": "Python 3",
      "language": "python",
      "name": "python3"
    },
    "language_info": {
      "codemirror_mode": {
        "name": "ipython",
        "version": 3
      },
      "file_extension": ".py",
      "mimetype": "text/x-python",
      "name": "python",
      "nbconvert_exporter": "python",
      "pygments_lexer": "ipython3",
      "version": "3.7.5"
    },
    "colab": {
      "name": "tsdetect[1].ipynb",
      "provenance": [],
      "include_colab_link": true
    }
  },
  "cells": [
    {
      "cell_type": "markdown",
      "metadata": {
        "id": "view-in-github",
        "colab_type": "text"
      },
      "source": [
        "<a href=\"https://colab.research.google.com/github/samiul272/ColabNotebooks/blob/master/tsdetect.ipynb\" target=\"_parent\"><img src=\"https://colab.research.google.com/assets/colab-badge.svg\" alt=\"Open In Colab\"/></a>"
      ]
    },
    {
      "cell_type": "code",
      "metadata": {
        "id": "SqL0F2dhzL55",
        "colab_type": "code",
        "colab": {},
        "outputId": "83f1d51b-143d-43aa-9e0f-5654639e5d21"
      },
      "source": [
        "import numpy  as np\n",
        "import pandas as pd\n",
        "import os\n",
        "import re\n",
        "import matplotlib.pyplot as plt\n",
        "import matplotlib.style  as style\n",
        "import tensorflow as tf\n",
        "import tensorflow.keras.backend as K\n",
        "\n",
        "from tqdm  import tqdm\n",
        "import sklearn as sk\n",
        "from sklearn.metrics import accuracy_score, roc_auc_score\n",
        "from tensorflow.keras import layers, models, callbacks, activations, applications, optimizers, regularizers\n",
        "from tensorflow.keras.preprocessing import image\n",
        "from sklearn.linear_model import LogisticRegression\n",
        "from sklearn.model_selection import train_test_split\n",
        "from tensorflow.keras.preprocessing.image import ImageDataGenerator\n",
        "from collections import namedtuple\n",
        "tf.__version__"
      ],
      "execution_count": 0,
      "outputs": [
        {
          "output_type": "execute_result",
          "data": {
            "text/plain": [
              "'2.0.0'"
            ]
          },
          "metadata": {
            "tags": []
          },
          "execution_count": 1
        }
      ]
    },
    {
      "cell_type": "code",
      "metadata": {
        "id": "jOqVzN29zs-N",
        "colab_type": "code",
        "colab": {}
      },
      "source": [
        ""
      ],
      "execution_count": 0,
      "outputs": []
    },
    {
      "cell_type": "code",
      "metadata": {
        "id": "9PxNqfcnzL6C",
        "colab_type": "code",
        "colab": {},
        "outputId": "8bfd07a7-6703-4e2d-f8e6-7dc997532d96"
      },
      "source": [
        "for i in zip((1,2,3,4),(3,4,5,6)):\n",
        "    print(i)"
      ],
      "execution_count": 0,
      "outputs": [
        {
          "output_type": "stream",
          "text": [
            "(1, 3)\n",
            "(2, 4)\n",
            "(3, 5)\n",
            "(4, 6)\n"
          ],
          "name": "stdout"
        }
      ]
    },
    {
      "cell_type": "code",
      "metadata": {
        "id": "sLIz4rBvzL6E",
        "colab_type": "code",
        "colab": {}
      },
      "source": [
        "class SignAnnotation:\n",
        "    def __init__(self, name, n_frame):\n",
        "        self.name = name\n",
        "        self.frameAnnotations = []\n",
        "        self.start_frame = n_frame\n",
        "        self.end_frame = -1\n",
        "    def add_annotation(self, n_frame, bounding_box):\n",
        "        self.frameAnnotations.append((n_frame, bounding_box))\n",
        "        if(self.end_frame<n_frame):\n",
        "            self.end_frame = n_frame\n",
        "    @staticmethod\n",
        "    def _withinBounds(value, bounds):\n",
        "        return value >= bounds[0] and value < bounds[1]\n",
        "    @staticmethod\n",
        "    def _interp(x1, x2, n_frame, bound):\n",
        "        alpha = (bound[1] - n_frame)/(bound[1]-bound[0])\n",
        "        return int(alpha*x1 + (1-alpha)*x2)\n",
        "    def get_bbox(self, n_frame):\n",
        "        if n_frame <= self.start_frame or n_frame >= self.end_frame:\n",
        "            return None\n",
        "        bounds = [i[0] for i in self.frameAnnotations]\n",
        "        bounds = zip(bounds[:-1], bounds[1:])\n",
        "        bboxes = [i[1] for i in self.frameAnnotations]\n",
        "        bboxes = zip(bboxes[:-1], bboxes[1:])\n",
        "        for bound, bbox in zip(bounds, bboxes):\n",
        "            if self._withinBounds(n_frame, bound):\n",
        "                bbox = [self._interp(i, j, n_frame, bound) for i, j in zip(bbox[0], bbox[1])]\n",
        "                return (n_frame, bbox)\n",
        "                "
      ],
      "execution_count": 0,
      "outputs": []
    },
    {
      "cell_type": "code",
      "metadata": {
        "id": "-TXbePE8zL6K",
        "colab_type": "code",
        "colab": {}
      },
      "source": [
        "prev_signs = []\n",
        "all_signs = []\n",
        "with open('TS2010video.vse','r') as f:\n",
        "    x = f.readlines()\n",
        "    for i in x:\n",
        "        if re.search('\\[(.*?)\\]', i) != None:\n",
        "            i = i.replace('\\n','').split(':')\n",
        "            n_frame = int(re.sub('\\[|\\]|F','',i[0]))\n",
        "            i = i[-1].split('&')\n",
        "            sign_name = ''\n",
        "            curr_signs = []\n",
        "            for j in i:\n",
        "                k = j.split('@')\n",
        "                sign_name = sign_name if k[0] == '' else k[0]\n",
        "                sign_bounds = k[-1]\n",
        "                sign_bounds = re.sub('x|y|w|h|=|\\(|\\)','',sign_bounds).split(',')\n",
        "                sign_bounds = [int(i) for i in sign_bounds]\n",
        "                sign = None\n",
        "                for prev_sign in prev_signs:\n",
        "                    if prev_sign.name == sign_name:\n",
        "                        prev_sign.add_annotation(n_frame, sign_bounds)\n",
        "                        sign = prev_sign\n",
        "                if sign is None:\n",
        "                    sign = SignAnnotation(sign_name, n_frame)\n",
        "                    all_signs.append(sign)\n",
        "                    sign.add_annotation(n_frame, sign_bounds)\n",
        "                curr_signs.append(sign)\n",
        "            prev_signs = curr_signs"
      ],
      "execution_count": 0,
      "outputs": []
    },
    {
      "cell_type": "code",
      "metadata": {
        "id": "k0Ae5qokzL6M",
        "colab_type": "code",
        "colab": {},
        "outputId": "f9f2d85a-2ed5-4aa0-864f-e622e4ff1e0a"
      },
      "source": [
        "def get_signs_in_range(n_frame_start, n_frame_end):\n",
        "    signs = []\n",
        "    for sign in all_signs:\n",
        "        if sign.start_frame > n_frame_start:\n",
        "            signs.append(sign)\n",
        "        if sign.start_frame > n_frame_end:\n",
        "            break\n",
        "    return signs\n",
        "\n",
        "[sign.name for sign in get_signs_in_range(550, 570)]"
      ],
      "execution_count": 0,
      "outputs": [
        {
          "output_type": "execute_result",
          "data": {
            "text/plain": [
              "['B31']"
            ]
          },
          "metadata": {
            "tags": []
          },
          "execution_count": 74
        }
      ]
    },
    {
      "cell_type": "code",
      "metadata": {
        "id": "C2XP1w5qzL6O",
        "colab_type": "code",
        "colab": {},
        "outputId": "e7f69aaf-8b48-4311-c4ff-abc281593965"
      },
      "source": [
        "list(range(2,8))"
      ],
      "execution_count": 0,
      "outputs": [
        {
          "output_type": "execute_result",
          "data": {
            "text/plain": [
              "[2, 3, 4, 5, 6, 7]"
            ]
          },
          "metadata": {
            "tags": []
          },
          "execution_count": 67
        }
      ]
    }
  ]
}