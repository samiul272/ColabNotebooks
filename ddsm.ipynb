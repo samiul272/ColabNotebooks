{
  "nbformat": 4,
  "nbformat_minor": 0,
  "metadata": {
    "colab": {
      "name": "ddsm.ipynb",
      "provenance": [],
      "include_colab_link": true
    },
    "kernelspec": {
      "name": "python2",
      "display_name": "Python 2"
    },
    "accelerator": "GPU"
  },
  "cells": [
    {
      "cell_type": "markdown",
      "metadata": {
        "id": "view-in-github",
        "colab_type": "text"
      },
      "source": [
        "<a href=\"https://colab.research.google.com/github/samiul272/ColabNotebooks/blob/master/ddsm.ipynb\" target=\"_parent\"><img src=\"https://colab.research.google.com/assets/colab-badge.svg\" alt=\"Open In Colab\"/></a>"
      ]
    },
    {
      "cell_type": "code",
      "metadata": {
        "id": "5FM2O1srIiCt",
        "colab_type": "code",
        "outputId": "3ad67f40-bff5-4493-e59a-ffc1770e04a7",
        "colab": {
          "base_uri": "https://localhost:8080/",
          "height": 84
        }
      },
      "source": [
        "!git clone https://github.com/josephdviviano/pyddsm.git\n",
        "!cd pyddsm/"
      ],
      "execution_count": 0,
      "outputs": [
        {
          "output_type": "stream",
          "text": [
            "Cloning into 'pyddsm'...\n",
            "remote: Enumerating objects: 78, done.\u001b[K\n",
            "remote: Total 78 (delta 0), reused 0 (delta 0), pack-reused 78\u001b[K\n",
            "Unpacking objects: 100% (78/78), done.\n"
          ],
          "name": "stdout"
        }
      ]
    },
    {
      "cell_type": "code",
      "metadata": {
        "id": "f3FReEEzS06H",
        "colab_type": "code",
        "outputId": "229afcd0-99ff-4c8e-ce6d-048abe62e368",
        "colab": {
          "base_uri": "https://localhost:8080/",
          "height": 101
        }
      },
      "source": [
        "!git clone https://github.com/jimmyyhwu/ddsm-visual-primitives.git"
      ],
      "execution_count": 0,
      "outputs": [
        {
          "output_type": "stream",
          "text": [
            "Cloning into 'ddsm-visual-primitives'...\n",
            "remote: Enumerating objects: 447, done.\u001b[K\n",
            "Receiving objects:   0% (1/447)   \rReceiving objects:   1% (5/447)   \rReceiving objects:   2% (9/447)   \rReceiving objects:   3% (14/447)   \rReceiving objects:   4% (18/447)   \rReceiving objects:   5% (23/447)   \rReceiving objects:   6% (27/447)   \rReceiving objects:   7% (32/447)   \rReceiving objects:   8% (36/447)   \rReceiving objects:   9% (41/447)   \rReceiving objects:  10% (45/447)   \rReceiving objects:  11% (50/447)   \rReceiving objects:  12% (54/447)   \rReceiving objects:  13% (59/447)   \rReceiving objects:  14% (63/447)   \rReceiving objects:  15% (68/447)   \rReceiving objects:  16% (72/447)   \rReceiving objects:  17% (76/447)   \rReceiving objects:  18% (81/447)   \rReceiving objects:  19% (85/447)   \rReceiving objects:  20% (90/447)   \rReceiving objects:  21% (94/447)   \rReceiving objects:  22% (99/447)   \rReceiving objects:  23% (103/447)   \rReceiving objects:  24% (108/447)   \rReceiving objects:  25% (112/447)   \rReceiving objects:  26% (117/447)   \rReceiving objects:  27% (121/447)   \rReceiving objects:  28% (126/447)   \rReceiving objects:  29% (130/447)   \rReceiving objects:  30% (135/447)   \rReceiving objects:  31% (139/447)   \rReceiving objects:  32% (144/447)   \rReceiving objects:  33% (148/447)   \rReceiving objects:  34% (152/447)   \rReceiving objects:  35% (157/447)   \rReceiving objects:  36% (161/447)   \rReceiving objects:  37% (166/447)   \rReceiving objects:  38% (170/447)   \rReceiving objects:  39% (175/447)   \rReceiving objects:  40% (179/447)   \rReceiving objects:  41% (184/447)   \rReceiving objects:  42% (188/447)   \rReceiving objects:  43% (193/447)   \rReceiving objects:  44% (197/447)   \rReceiving objects:  45% (202/447)   \rReceiving objects:  46% (206/447)   \rReceiving objects:  47% (211/447)   \rReceiving objects:  48% (215/447)   \rReceiving objects:  49% (220/447)   \rReceiving objects:  50% (224/447)   \rReceiving objects:  51% (228/447)   \rReceiving objects:  52% (233/447)   \rReceiving objects:  53% (237/447)   \rReceiving objects:  54% (242/447)   \rReceiving objects:  55% (246/447)   \rReceiving objects:  56% (251/447)   \rReceiving objects:  57% (255/447)   \rReceiving objects:  58% (260/447)   \rReceiving objects:  59% (264/447)   \rReceiving objects:  60% (269/447)   \rReceiving objects:  61% (273/447)   \rReceiving objects:  62% (278/447)   \rReceiving objects:  63% (282/447)   \rReceiving objects:  64% (287/447)   \rReceiving objects:  65% (291/447)   \rReceiving objects:  66% (296/447)   \rReceiving objects:  67% (300/447)   \rReceiving objects:  68% (304/447)   \rReceiving objects:  69% (309/447)   \rReceiving objects:  70% (313/447)   \rReceiving objects:  71% (318/447)   \rReceiving objects:  72% (322/447)   \rReceiving objects:  73% (327/447)   \rReceiving objects:  74% (331/447)   \rReceiving objects:  75% (336/447)   \rReceiving objects:  76% (340/447)   \rReceiving objects:  77% (345/447)   \rReceiving objects:  78% (349/447)   \rReceiving objects:  79% (354/447)   \rReceiving objects:  80% (358/447)   \rReceiving objects:  81% (363/447)   \rReceiving objects:  82% (367/447)   \rReceiving objects:  83% (372/447)   \rReceiving objects:  84% (376/447)   \rReceiving objects:  85% (380/447)   \rReceiving objects:  86% (385/447)   \rReceiving objects:  87% (389/447)   \rReceiving objects:  88% (394/447)   \rReceiving objects:  89% (398/447)   \rremote: Total 447 (delta 0), reused 0 (delta 0), pack-reused 447\u001b[K\n",
            "Receiving objects:  90% (403/447)   \rReceiving objects:  91% (407/447)   \rReceiving objects:  92% (412/447)   \rReceiving objects:  93% (416/447)   \rReceiving objects:  94% (421/447)   \rReceiving objects:  95% (425/447)   \rReceiving objects:  96% (430/447)   \rReceiving objects:  97% (434/447)   \rReceiving objects:  98% (439/447)   \rReceiving objects:  99% (443/447)   \rReceiving objects: 100% (447/447)   \rReceiving objects: 100% (447/447), 3.73 MiB | 11.99 MiB/s, done.\n",
            "Resolving deltas:   0% (0/81)   \rResolving deltas:  16% (13/81)   \rResolving deltas:  18% (15/81)   \rResolving deltas:  24% (20/81)   \rResolving deltas:  28% (23/81)   \rResolving deltas:  29% (24/81)   \rResolving deltas:  30% (25/81)   \rResolving deltas:  32% (26/81)   \rResolving deltas:  33% (27/81)   \rResolving deltas:  34% (28/81)   \rResolving deltas:  35% (29/81)   \rResolving deltas:  37% (30/81)   \rResolving deltas:  38% (31/81)   \rResolving deltas:  39% (32/81)   \rResolving deltas:  53% (43/81)   \rResolving deltas:  54% (44/81)   \rResolving deltas:  67% (55/81)   \rResolving deltas:  69% (56/81)   \rResolving deltas:  70% (57/81)   \rResolving deltas:  71% (58/81)   \rResolving deltas:  72% (59/81)   \rResolving deltas:  75% (61/81)   \rResolving deltas:  79% (64/81)   \rResolving deltas:  80% (65/81)   \rResolving deltas:  81% (66/81)   \rResolving deltas:  83% (68/81)   \rResolving deltas:  85% (69/81)   \rResolving deltas:  86% (70/81)   \rResolving deltas:  90% (73/81)   \rResolving deltas:  92% (75/81)   \rResolving deltas:  93% (76/81)   \rResolving deltas:  96% (78/81)   \rResolving deltas: 100% (81/81)   \rResolving deltas: 100% (81/81), done.\n"
          ],
          "name": "stdout"
        }
      ]
    },
    {
      "cell_type": "code",
      "metadata": {
        "id": "H5Tg-HkaOi73",
        "colab_type": "code",
        "outputId": "252ebcf1-49c9-48f7-fad3-66f2145c8708",
        "colab": {
          "base_uri": "https://localhost:8080/",
          "height": 34
        }
      },
      "source": [
        "cd ddsm-visual-primitives/"
      ],
      "execution_count": 0,
      "outputs": [
        {
          "output_type": "stream",
          "text": [
            "/content/ddsm-visual-primitives\n"
          ],
          "name": "stdout"
        }
      ]
    },
    {
      "cell_type": "code",
      "metadata": {
        "id": "UpdoDyFCS-EP",
        "colab_type": "code",
        "outputId": "d7b837af-02d4-4629-96b3-6914701635f7",
        "colab": {
          "base_uri": "https://localhost:8080/",
          "height": 958
        }
      },
      "source": [
        "!./download_data.sh"
      ],
      "execution_count": 0,
      "outputs": [
        {
          "output_type": "stream",
          "text": [
            "--2019-11-02 18:06:28--  http://data.csail.mit.edu/places/medical/data/ddsm_patches.tar.gz\n",
            "Resolving data.csail.mit.edu (data.csail.mit.edu)... 128.52.129.40\n",
            "Connecting to data.csail.mit.edu (data.csail.mit.edu)|128.52.129.40|:80... connected.\n",
            "HTTP request sent, awaiting response... 200 OK\n",
            "Length: 3642019840 (3.4G) [application/octet-stream]\n",
            "Saving to: ‘ddsm_patches.tar.gz’\n",
            "\n",
            "ddsm_patches.tar.gz 100%[===================>]   3.39G  21.7MB/s    in 2m 47s  \n",
            "\n",
            "2019-11-02 18:09:15 (20.8 MB/s) - ‘ddsm_patches.tar.gz’ saved [3642019840/3642019840]\n",
            "\n",
            "--2019-11-02 18:09:15--  http://data.csail.mit.edu/places/medical/data/ddsm_labels.tar.gz\n",
            "Resolving data.csail.mit.edu (data.csail.mit.edu)... 128.52.129.40\n",
            "Connecting to data.csail.mit.edu (data.csail.mit.edu)|128.52.129.40|:80... connected.\n",
            "HTTP request sent, awaiting response... 200 OK\n",
            "Length: 90255360 (86M) [application/octet-stream]\n",
            "Saving to: ‘ddsm_labels.tar.gz’\n",
            "\n",
            "ddsm_labels.tar.gz  100%[===================>]  86.07M  20.4MB/s    in 4.1s    \n",
            "\n",
            "2019-11-02 18:09:19 (21.2 MB/s) - ‘ddsm_labels.tar.gz’ saved [90255360/90255360]\n",
            "\n",
            "--2019-11-02 18:09:19--  http://data.csail.mit.edu/places/medical/data/ddsm_raw.tar.gz\n",
            "Resolving data.csail.mit.edu (data.csail.mit.edu)... 128.52.129.40\n",
            "Connecting to data.csail.mit.edu (data.csail.mit.edu)|128.52.129.40|:80... connected.\n",
            "HTTP request sent, awaiting response... 200 OK\n",
            "Length: 11009566720 (10G) [application/octet-stream]\n",
            "Saving to: ‘ddsm_raw.tar.gz’\n",
            "\n",
            "ddsm_raw.tar.gz     100%[===================>]  10.25G  16.4MB/s    in 8m 43s  \n",
            "\n",
            "2019-11-02 18:18:02 (20.1 MB/s) - ‘ddsm_raw.tar.gz’ saved [11009566720/11009566720]\n",
            "\n",
            "--2019-11-02 18:18:03--  http://data.csail.mit.edu/places/medical/data/ddsm_raw_image_lists.tar.gz\n",
            "Resolving data.csail.mit.edu (data.csail.mit.edu)... 128.52.129.40\n",
            "Connecting to data.csail.mit.edu (data.csail.mit.edu)|128.52.129.40|:80... connected.\n",
            "HTTP request sent, awaiting response... 200 OK\n",
            "Length: 430080 (420K) [application/octet-stream]\n",
            "Saving to: ‘ddsm_raw_image_lists.tar.gz’\n",
            "\n",
            "ddsm_raw_image_list 100%[===================>] 420.00K  --.-KB/s    in 0.1s    \n",
            "\n",
            "2019-11-02 18:18:03 (2.93 MB/s) - ‘ddsm_raw_image_lists.tar.gz’ saved [430080/430080]\n",
            "\n",
            "--2019-11-02 18:18:03--  http://data.csail.mit.edu/places/medical/data/ddsm_masks.tar.gz\n",
            "Resolving data.csail.mit.edu (data.csail.mit.edu)... 128.52.129.40\n",
            "Connecting to data.csail.mit.edu (data.csail.mit.edu)|128.52.129.40|:80... connected.\n",
            "HTTP request sent, awaiting response... 200 OK\n",
            "Length: 159365120 (152M) [application/octet-stream]\n",
            "Saving to: ‘ddsm_masks.tar.gz’\n",
            "\n",
            "ddsm_masks.tar.gz   100%[===================>] 151.98M  15.2MB/s    in 11s     \n",
            "\n",
            "2019-11-02 18:18:14 (14.1 MB/s) - ‘ddsm_masks.tar.gz’ saved [159365120/159365120]\n",
            "\n",
            "^C\n"
          ],
          "name": "stdout"
        }
      ]
    },
    {
      "cell_type": "code",
      "metadata": {
        "id": "cEhqcVFtV2TD",
        "colab_type": "code",
        "outputId": "042817ca-9b88-429b-82b2-1906734cf078",
        "colab": {
          "base_uri": "https://localhost:8080/",
          "height": 34
        }
      },
      "source": [
        "cd ../pyddsm/utils/"
      ],
      "execution_count": 0,
      "outputs": [
        {
          "output_type": "stream",
          "text": [
            "/content/pyddsm/utils\n"
          ],
          "name": "stdout"
        }
      ]
    },
    {
      "cell_type": "code",
      "metadata": {
        "id": "7l70vv2TV81e",
        "colab_type": "code",
        "outputId": "83f7d64c-5f15-4a0c-a377-9e9908e4a834",
        "colab": {
          "base_uri": "https://localhost:8080/",
          "height": 302
        }
      },
      "source": [
        "!apt-get install ncftp"
      ],
      "execution_count": 0,
      "outputs": [
        {
          "output_type": "stream",
          "text": [
            "Reading package lists... Done\n",
            "Building dependency tree       \n",
            "Reading state information... Done\n",
            "The following NEW packages will be installed:\n",
            "  ncftp\n",
            "0 upgraded, 1 newly installed, 0 to remove and 28 not upgraded.\n",
            "Need to get 270 kB of archives.\n",
            "After this operation, 1,563 kB of additional disk space will be used.\n",
            "Get:1 http://archive.ubuntu.com/ubuntu bionic/universe amd64 ncftp amd64 2:3.2.5-2 [270 kB]\n",
            "Fetched 270 kB in 1s (401 kB/s)\n",
            "Selecting previously unselected package ncftp.\n",
            "(Reading database ... 132681 files and directories currently installed.)\n",
            "Preparing to unpack .../ncftp_2%3a3.2.5-2_amd64.deb ...\n",
            "Unpacking ncftp (2:3.2.5-2) ...\n",
            "Setting up ncftp (2:3.2.5-2) ...\n",
            "update-alternatives: using /usr/bin/ncftp3 to provide /usr/bin/ncftp (ncftp) in auto mode\n",
            "Processing triggers for man-db (2.8.3-2ubuntu0.1) ...\n"
          ],
          "name": "stdout"
        }
      ]
    },
    {
      "cell_type": "code",
      "metadata": {
        "id": "9XYEskcwWkCR",
        "colab_type": "code",
        "colab": {}
      },
      "source": [
        "!cd pyddsm/\n",
        "!ls\n",
        "!./download.sh"
      ],
      "execution_count": 0,
      "outputs": []
    },
    {
      "cell_type": "code",
      "metadata": {
        "id": "WjPBMNcCZ8BN",
        "colab_type": "code",
        "colab": {}
      },
      "source": [
        "import pandas as pd\n",
        "\n",
        "pd.read_html('http://www.eng.usf.edu/cvprg/Mammography/Database.html')[0]"
      ],
      "execution_count": 0,
      "outputs": []
    },
    {
      "cell_type": "code",
      "metadata": {
        "id": "f8YfgACU-MqH",
        "colab_type": "code",
        "colab": {
          "base_uri": "https://localhost:8080/",
          "height": 70
        },
        "outputId": "11de58e3-c1cb-4e99-845c-6bf204c3c84a"
      },
      "source": [
        "from urllib.request import urlopen\n",
        "\n",
        "import pandas as pd\n",
        "import numpy as np\n",
        "from PIL import Image\n",
        "\n",
        "\n",
        "def getClass(x):\n",
        "    if 'normal' in x:\n",
        "        return 'normals'\n",
        "    elif 'cancer' in x:\n",
        "        return 'cancers'\n",
        "    else:\n",
        "        return 'benigns'\n",
        "\n",
        "\n",
        "df = pd.read_html('http://www.eng.usf.edu/cvprg/Mammography/Database.html')[0]\n",
        "volumes = df['VOLUME']\n",
        "scanner = df['SCANNER']\n",
        "cls = volumes.apply(getClass)\n",
        "cdf = pd.read_html(f'http://www.eng.usf.edu/cvprg/Mammography/DDSM/thumbnails/{cls[1]}/{volumes[1]}/overview.html')[0] \\\n",
        "    .values.flatten()\n",
        "cdf = [i for i in cdf if type(i) == str]\n",
        "\n",
        "links = [\n",
        "    f'ftp://figment.csee.usf.edu/pub/DDSM/cases/{cls[1]}/{volumes[1]}/{cdf[1]}/{cdf[1].upper()}_1.LEFT_CC.LJPEG',\n",
        "    f'ftp://figment.csee.usf.edu/pub/DDSM/cases/{cls[1]}/{volumes[1]}/{cdf[1]}/{cdf[1]}_1.RIGHT_CC.LJPEG',\n",
        "    f'ftp://figment.csee.usf.edu/pub/DDSM/cases/{cls[1]}/{volumes[1]}/{cdf[1]}/{cdf[1]}_1.LEFT_MLO.LJPEG',\n",
        "    f'ftp://figment.csee.usf.edu/pub/DDSM/cases/{cls[1]}/{volumes[1]}/{cdf[1]}/{cdf[1]}_1.RIGHT_MLO.LJPEG'\n",
        "]\n",
        "# im = Image.open(urlopen(links[0]).read())\n",
        "# im.show()\n",
        "\n",
        "print(links[0])\n",
        "print(cdf)\n"
      ],
      "execution_count": 9,
      "outputs": [
        {
          "output_type": "stream",
          "text": [
            "ftp://figment.csee.usf.edu/pub/DDSM/cases/normals/normal_02/case0201/CASE0201_1.LEFT_CC.LJPEG\n",
            "['case0200', 'case0201', 'case0202', 'case0203', 'case0204', 'case0205', 'case0206', 'case0207', 'case0208', 'case0209', 'case0210', 'case0211', 'case0212', 'case0214', 'case0215', 'case0216', 'case0217', 'case0218', 'case0219', 'case0220', 'case0221', 'case0222', 'case0223', 'case0224', 'case0225', 'case0226', 'case0227', 'case0229', 'case0230', 'case0232', 'case0233', 'case0234', 'case0235', 'case0236', 'case0237', 'case0238', 'case0239', 'case0240', 'case0241', 'case0242', 'case0243', 'case0244', 'case0245', 'case0246', 'case0247', 'case0249', 'case0250', 'case0251', 'case0252', 'case0253', 'case0254', 'case0255', 'case0256', 'case0257', 'case0258', 'case0259', 'case0260', 'case0261', 'case0262', 'case0263', 'case0264', 'case0265', 'case0266', 'case0267', 'case0268', 'case0269', 'case0270', 'case0271', 'case0272', 'case0273', 'case0274', 'case0275', 'case0276', 'case0277', 'case0278', 'case0279', 'case0280', 'case0282', 'case0283', 'case0284', 'case0285', 'case0286', 'case0287', 'case0290', 'case0292', 'case0293', 'case0294', 'case0295', 'case0296', 'case0297', 'case0298', 'case0299', 'case0302', 'case0303', 'case0304', 'case0305', 'case0306', 'case0307', 'case0309', 'case0310', 'case0311', 'case0312', 'case0313', 'case0314', 'case0315', 'case0317', 'case0318', 'case0319', 'case0320', 'case0321', 'case0322', 'case0323', 'case0325', 'case0326', 'case0327', 'case0328', 'case0329']\n"
          ],
          "name": "stdout"
        }
      ]
    },
    {
      "cell_type": "code",
      "metadata": {
        "id": "_4V-r8QG_Bj0",
        "colab_type": "code",
        "colab": {
          "base_uri": "https://localhost:8080/",
          "height": 269
        },
        "outputId": "93f78db1-87d4-498a-c1f1-246f9ba3bde7"
      },
      "source": [
        "!wget ftp://figment.csee.usf.edu/pub/DDSM/cases/normals/normal_01/case0002/A_0002_1.LEFT_CC.LJPEG"
      ],
      "execution_count": 11,
      "outputs": [
        {
          "output_type": "stream",
          "text": [
            "--2019-11-03 16:02:36--  ftp://figment.csee.usf.edu/pub/DDSM/cases/normals/normal_01/case0002/A_0002_1.LEFT_CC.LJPEG\n",
            "           => ‘A_0002_1.LEFT_CC.LJPEG’\n",
            "Resolving figment.csee.usf.edu (figment.csee.usf.edu)... 131.247.2.111\n",
            "Connecting to figment.csee.usf.edu (figment.csee.usf.edu)|131.247.2.111|:21... connected.\n",
            "Logging in as anonymous ... Logged in!\n",
            "==> SYST ... done.    ==> PWD ... done.\n",
            "==> TYPE I ... done.  ==> CWD (1) /pub/DDSM/cases/normals/normal_01/case0002 ... done.\n",
            "==> SIZE A_0002_1.LEFT_CC.LJPEG ... 7473601\n",
            "==> PASV ... done.    ==> RETR A_0002_1.LEFT_CC.LJPEG ... done.\n",
            "Length: 7473601 (7.1M) (unauthoritative)\n",
            "\n",
            "A_0002_1.LEFT_CC.LJ 100%[===================>]   7.13M  1.86MB/s    in 4.2s    \n",
            "\n",
            "2019-11-03 16:02:43 (1.70 MB/s) - ‘A_0002_1.LEFT_CC.LJPEG’ saved [7473601]\n",
            "\n"
          ],
          "name": "stdout"
        }
      ]
    },
    {
      "cell_type": "code",
      "metadata": {
        "id": "vcjoZr-oAVTx",
        "colab_type": "code",
        "colab": {
          "base_uri": "https://localhost:8080/",
          "height": 1000
        },
        "outputId": "b5e1ab50-cc2e-4f3e-bdb3-53975c33de6d"
      },
      "source": [
        "# !git clone https://github.com/aaalgo/ljpeg.git\n",
        "!apt-get install flex\n",
        "!cd ljpeg/jpegdir/; make"
      ],
      "execution_count": 5,
      "outputs": [
        {
          "output_type": "stream",
          "text": [
            "Reading package lists... Done\n",
            "Building dependency tree       \n",
            "Reading state information... Done\n",
            "flex is already the newest version (2.6.4-6).\n",
            "0 upgraded, 0 newly installed, 0 to remove and 28 not upgraded.\n",
            "cc -O3   -c jpeg.c \n",
            "\u001b[01m\u001b[Kjpeg.c:102:18:\u001b[m\u001b[K \u001b[01;35m\u001b[Kwarning: \u001b[m\u001b[Kinitialization makes integer from pointer without a cast [\u001b[01;35m\u001b[K-Wint-conversion\u001b[m\u001b[K]\n",
            " int HuffmanTrace=\u001b[01;35m\u001b[KNULL\u001b[m\u001b[K;        /* When set, dumps Huffman statistics */\n",
            "                  \u001b[01;35m\u001b[K^~~~\u001b[m\u001b[K\n",
            "\u001b[01m\u001b[Kjpeg.c:\u001b[m\u001b[K In function ‘\u001b[01m\u001b[KJpegEncodeScan\u001b[m\u001b[K’:\n",
            "\u001b[01m\u001b[Kjpeg.c:735:5:\u001b[m\u001b[K \u001b[01;35m\u001b[Kwarning: \u001b[m\u001b[Kimplicit declaration of function ‘\u001b[01m\u001b[KWriteDnl\u001b[m\u001b[K’; did you mean ‘\u001b[01m\u001b[KWriteDht\u001b[m\u001b[K’? [\u001b[01;35m\u001b[K-Wimplicit-function-declaration\u001b[m\u001b[K]\n",
            "     \u001b[01;35m\u001b[KWriteDnl\u001b[m\u001b[K();  /* Automatically write a dnl if no resync is enabled.*/\n",
            "     \u001b[01;35m\u001b[K^~~~~~~~\u001b[m\u001b[K\n",
            "     \u001b[32m\u001b[KWriteDht\u001b[m\u001b[K\n",
            "\u001b[01m\u001b[Kjpeg.c:\u001b[m\u001b[K In function ‘\u001b[01m\u001b[KJpegLosslessDecodeScan\u001b[m\u001b[K’:\n",
            "\u001b[01m\u001b[Kjpeg.c:1405:11:\u001b[m\u001b[K \u001b[01;35m\u001b[Kwarning: \u001b[m\u001b[Kimplicit declaration of function ‘\u001b[01m\u001b[KCheckMarker\u001b[m\u001b[K’; did you mean ‘\u001b[01m\u001b[KDoAllMarker\u001b[m\u001b[K’? [\u001b[01;35m\u001b[K-Wimplicit-function-declaration\u001b[m\u001b[K]\n",
            "       if (\u001b[01;35m\u001b[KCheckMarker\u001b[m\u001b[K()==0xdc)\n",
            "           \u001b[01;35m\u001b[K^~~~~~~~~~~\u001b[m\u001b[K\n",
            "           \u001b[32m\u001b[KDoAllMarker\u001b[m\u001b[K\n",
            "\u001b[01m\u001b[Kjpeg.c:\u001b[m\u001b[K In function ‘\u001b[01m\u001b[KPrintImage\u001b[m\u001b[K’:\n",
            "\u001b[01m\u001b[Kjpeg.c:1723:26:\u001b[m\u001b[K \u001b[01;35m\u001b[Kwarning: \u001b[m\u001b[Kformat ‘\u001b[01m\u001b[K%x\u001b[m\u001b[K’ expects argument of type ‘\u001b[01m\u001b[Kunsigned int\u001b[m\u001b[K’, but argument 2 has type ‘\u001b[01m\u001b[Kstruct Image_Definition *\u001b[m\u001b[K’ [\u001b[01;35m\u001b[K-Wformat=\u001b[m\u001b[K]\n",
            "   printf(\"*** Image ID: \u001b[01;35m\u001b[K%x\u001b[m\u001b[K ***\\n\",CImage);\n",
            "                         \u001b[01;35m\u001b[K~^\u001b[m\u001b[K\n",
            "\u001b[01m\u001b[Kjpeg.c:\u001b[m\u001b[K In function ‘\u001b[01m\u001b[KPrintFrame\u001b[m\u001b[K’:\n",
            "\u001b[01m\u001b[Kjpeg.c:1773:26:\u001b[m\u001b[K \u001b[01;35m\u001b[Kwarning: \u001b[m\u001b[Kformat ‘\u001b[01m\u001b[K%x\u001b[m\u001b[K’ expects argument of type ‘\u001b[01m\u001b[Kunsigned int\u001b[m\u001b[K’, but argument 2 has type ‘\u001b[01m\u001b[Kstruct Frame_Definition *\u001b[m\u001b[K’ [\u001b[01;35m\u001b[K-Wformat=\u001b[m\u001b[K]\n",
            "   printf(\"*** Frame ID: \u001b[01;35m\u001b[K%x\u001b[m\u001b[K *** (TYPE: %d)\\n\",CFrame,CFrame->Type);\n",
            "                         \u001b[01;35m\u001b[K~^\u001b[m\u001b[K\n",
            "\u001b[01m\u001b[Kjpeg.c:1780:39:\u001b[m\u001b[K \u001b[01;35m\u001b[Kwarning: \u001b[m\u001b[Kformat ‘\u001b[01m\u001b[K%x\u001b[m\u001b[K’ expects argument of type ‘\u001b[01m\u001b[Kunsigned int\u001b[m\u001b[K’, but argument 3 has type ‘\u001b[01m\u001b[Kstruct Image_Definition *\u001b[m\u001b[K’ [\u001b[01;35m\u001b[K-Wformat=\u001b[m\u001b[K]\n",
            "       printf(\"BufferSize: %d  Image: \u001b[01;35m\u001b[K%x\u001b[m\u001b[K\\n\",CFrame->BufferSize,\u001b[32m\u001b[KCFrame->Image\u001b[m\u001b[K);\n",
            "                                      \u001b[01;35m\u001b[K~^\u001b[m\u001b[K                       \u001b[32m\u001b[K~~~~~~~~~~~~~\u001b[m\u001b[K\n",
            "\u001b[01m\u001b[Kjpeg.c:\u001b[m\u001b[K In function ‘\u001b[01m\u001b[KPrintScan\u001b[m\u001b[K’:\n",
            "\u001b[01m\u001b[Kjpeg.c:1811:25:\u001b[m\u001b[K \u001b[01;35m\u001b[Kwarning: \u001b[m\u001b[Kformat ‘\u001b[01m\u001b[K%x\u001b[m\u001b[K’ expects argument of type ‘\u001b[01m\u001b[Kunsigned int\u001b[m\u001b[K’, but argument 2 has type ‘\u001b[01m\u001b[Kstruct Scan_Definition *\u001b[m\u001b[K’ [\u001b[01;35m\u001b[K-Wformat=\u001b[m\u001b[K]\n",
            "   printf(\"*** Scan ID: \u001b[01;35m\u001b[K%x\u001b[m\u001b[K ***\\n\",CScan);\n",
            "                        \u001b[01;35m\u001b[K~^\u001b[m\u001b[K\n",
            "\u001b[01m\u001b[Kjpeg.c:1822:33:\u001b[m\u001b[K \u001b[01;35m\u001b[Kwarning: \u001b[m\u001b[Kformat ‘\u001b[01m\u001b[K%x\u001b[m\u001b[K’ expects argument of type ‘\u001b[01m\u001b[Kunsigned int\u001b[m\u001b[K’, but argument 3 has type ‘\u001b[01m\u001b[Kstruct io_buffer_list *\u001b[m\u001b[K’ [\u001b[01;35m\u001b[K-Wformat=\u001b[m\u001b[K]\n",
            "       printf(\"LastDC: %d  Iob: \u001b[01;35m\u001b[K%x\u001b[m\u001b[K\\n\",\n",
            "                                \u001b[01;35m\u001b[K~^\u001b[m\u001b[K\n",
            "          *(CScan->LastDC[i]),\u001b[32m\u001b[KCScan->Iob[i]\u001b[m\u001b[K);\n",
            "                              \u001b[32m\u001b[K~~~~~~~~~~~~~\u001b[m\u001b[K\n",
            "cc -O3   -c codec.c \n",
            "cc -O3   -c huffman.c \n",
            "\u001b[01m\u001b[Khuffman.c:\u001b[m\u001b[K In function ‘\u001b[01m\u001b[KDecodeHuffman\u001b[m\u001b[K’:\n",
            "\u001b[01m\u001b[Khuffman.c:545:38:\u001b[m\u001b[K \u001b[01;35m\u001b[Kwarning: \u001b[m\u001b[Kformat ‘\u001b[01m\u001b[K%d\u001b[m\u001b[K’ expects a matching ‘\u001b[01m\u001b[Kint\u001b[m\u001b[K’ argument [\u001b[01;35m\u001b[K-Wformat=\u001b[m\u001b[K]\n",
            "       printf(\"Huffman read error: l=\u001b[01;35m\u001b[K%d\u001b[m\u001b[K code=%d\\n\");\n",
            "                                     \u001b[01;35m\u001b[K~^\u001b[m\u001b[K\n",
            "\u001b[01m\u001b[Khuffman.c:545:46:\u001b[m\u001b[K \u001b[01;35m\u001b[Kwarning: \u001b[m\u001b[Kformat ‘\u001b[01m\u001b[K%d\u001b[m\u001b[K’ expects a matching ‘\u001b[01m\u001b[Kint\u001b[m\u001b[K’ argument [\u001b[01;35m\u001b[K-Wformat=\u001b[m\u001b[K]\n",
            "       printf(\"Huffman read error: l=%d code=\u001b[01;35m\u001b[K%d\u001b[m\u001b[K\\n\");\n",
            "                                             \u001b[01;35m\u001b[K~^\u001b[m\u001b[K\n",
            "\u001b[01m\u001b[Khuffman.c:\u001b[m\u001b[K In function ‘\u001b[01m\u001b[KPrintHuffman\u001b[m\u001b[K’:\n",
            "\u001b[01m\u001b[Khuffman.c:739:26:\u001b[m\u001b[K \u001b[01;35m\u001b[Kwarning: \u001b[m\u001b[Kformat ‘\u001b[01m\u001b[K%x\u001b[m\u001b[K’ expects argument of type ‘\u001b[01m\u001b[Kunsigned int\u001b[m\u001b[K’, but argument 2 has type ‘\u001b[01m\u001b[Kstruct huffman_standard_structure *\u001b[m\u001b[K’ [\u001b[01;35m\u001b[K-Wformat=\u001b[m\u001b[K]\n",
            "       printf(\"Xhuff ID: \u001b[01;35m\u001b[K%x\u001b[m\u001b[K\\n\",Xhuff);\n",
            "                         \u001b[01;35m\u001b[K~^\u001b[m\u001b[K\n",
            "\u001b[01m\u001b[Khuffman.c:757:26:\u001b[m\u001b[K \u001b[01;35m\u001b[Kwarning: \u001b[m\u001b[Kformat ‘\u001b[01m\u001b[K%x\u001b[m\u001b[K’ expects argument of type ‘\u001b[01m\u001b[Kunsigned int\u001b[m\u001b[K’, but argument 2 has type ‘\u001b[01m\u001b[Kstruct huffman_encoder *\u001b[m\u001b[K’ [\u001b[01;35m\u001b[K-Wformat=\u001b[m\u001b[K]\n",
            "       printf(\"Ehuff ID: \u001b[01;35m\u001b[K%x\u001b[m\u001b[K\\n\",Ehuff);\n",
            "                         \u001b[01;35m\u001b[K~^\u001b[m\u001b[K\n",
            "\u001b[01m\u001b[Khuffman.c:765:26:\u001b[m\u001b[K \u001b[01;35m\u001b[Kwarning: \u001b[m\u001b[Kformat ‘\u001b[01m\u001b[K%x\u001b[m\u001b[K’ expects argument of type ‘\u001b[01m\u001b[Kunsigned int\u001b[m\u001b[K’, but argument 2 has type ‘\u001b[01m\u001b[Kstruct huffman_decoder *\u001b[m\u001b[K’ [\u001b[01;35m\u001b[K-Wformat=\u001b[m\u001b[K]\n",
            "       printf(\"Dhuff ID: \u001b[01;35m\u001b[K%x\u001b[m\u001b[K\\n\",Dhuff);\n",
            "                         \u001b[01;35m\u001b[K~^\u001b[m\u001b[K\n",
            "cc -O3   -c io.c \n",
            "\u001b[01m\u001b[Kio.c:\u001b[m\u001b[K In function ‘\u001b[01m\u001b[KPrintIob\u001b[m\u001b[K’:\n",
            "\u001b[01m\u001b[Kio.c:255:28:\u001b[m\u001b[K \u001b[01;35m\u001b[Kwarning: \u001b[m\u001b[Kformat ‘\u001b[01m\u001b[K%x\u001b[m\u001b[K’ expects argument of type ‘\u001b[01m\u001b[Kunsigned int\u001b[m\u001b[K’, but argument 2 has type ‘\u001b[01m\u001b[Kstruct io_buffer_list *\u001b[m\u001b[K’ [\u001b[01;35m\u001b[K-Wformat=\u001b[m\u001b[K]\n",
            "       printf(\"*** Iob ID: \u001b[01;35m\u001b[K%x\u001b[m\u001b[K ***\\n\",Iob);\n",
            "                           \u001b[01;35m\u001b[K~^\u001b[m\u001b[K\n",
            "\u001b[01m\u001b[Kio.c:260:52:\u001b[m\u001b[K \u001b[01;35m\u001b[Kwarning: \u001b[m\u001b[Kformat ‘\u001b[01m\u001b[K%x\u001b[m\u001b[K’ expects argument of type ‘\u001b[01m\u001b[Kunsigned int\u001b[m\u001b[K’, but argument 4 has type ‘\u001b[01m\u001b[Kstruct io_buffer **\u001b[m\u001b[K’ [\u001b[01;35m\u001b[K-Wformat=\u001b[m\u001b[K]\n",
            "       printf(\"filed: %d  flags: %d  BufferListId: \u001b[01;35m\u001b[K%x\u001b[m\u001b[K\\n\",\n",
            "                                                   \u001b[01;35m\u001b[K~^\u001b[m\u001b[K\n",
            "       Iob->file,Iob->flags,\u001b[32m\u001b[KIob->blist\u001b[m\u001b[K);\n",
            "                            \u001b[32m\u001b[K~~~~~~~~~~\u001b[m\u001b[K               \n",
            "\u001b[01m\u001b[Kio.c:\u001b[m\u001b[K In function ‘\u001b[01m\u001b[KReadResizeBuffer\u001b[m\u001b[K’:\n",
            "\u001b[01m\u001b[Kio.c:461:3:\u001b[m\u001b[K \u001b[01;35m\u001b[Kwarning: \u001b[m\u001b[Kimplicit declaration of function ‘\u001b[01m\u001b[Klseek\u001b[m\u001b[K’; did you mean ‘\u001b[01m\u001b[Kfseek\u001b[m\u001b[K’? [\u001b[01;35m\u001b[K-Wimplicit-function-declaration\u001b[m\u001b[K]\n",
            "   \u001b[01;35m\u001b[Klseek\u001b[m\u001b[K(buffer->iob->file,location,L_SET);\n",
            "   \u001b[01;35m\u001b[K^~~~~\u001b[m\u001b[K\n",
            "   \u001b[32m\u001b[Kfseek\u001b[m\u001b[K\n",
            "\u001b[01m\u001b[Kio.c:466:17:\u001b[m\u001b[K \u001b[01;35m\u001b[Kwarning: \u001b[m\u001b[Kimplicit declaration of function ‘\u001b[01m\u001b[Kread\u001b[m\u001b[K’; did you mean ‘\u001b[01m\u001b[Kfread\u001b[m\u001b[K’? [\u001b[01;35m\u001b[K-Wimplicit-function-declaration\u001b[m\u001b[K]\n",
            "   if ((retval = \u001b[01;35m\u001b[Kread\u001b[m\u001b[K(buffer->iob->file,      /* Do the read */\n",
            "                 \u001b[01;35m\u001b[K^~~~\u001b[m\u001b[K\n",
            "                 \u001b[32m\u001b[Kfread\u001b[m\u001b[K\n",
            "\u001b[01m\u001b[Kio.c:\u001b[m\u001b[K In function ‘\u001b[01m\u001b[KFlushBuffer\u001b[m\u001b[K’:\n",
            "\u001b[01m\u001b[Kio.c:498:17:\u001b[m\u001b[K \u001b[01;35m\u001b[Kwarning: \u001b[m\u001b[Kimplicit declaration of function ‘\u001b[01m\u001b[Kwrite\u001b[m\u001b[K’; did you mean ‘\u001b[01m\u001b[Kfwrite\u001b[m\u001b[K’? [\u001b[01;35m\u001b[K-Wimplicit-function-declaration\u001b[m\u001b[K]\n",
            "   if ((retval = \u001b[01;35m\u001b[Kwrite\u001b[m\u001b[K(buffer->iob->file,\n",
            "                 \u001b[01;35m\u001b[K^~~~~\u001b[m\u001b[K\n",
            "                 \u001b[32m\u001b[Kfwrite\u001b[m\u001b[K\n",
            "\u001b[01m\u001b[Kio.c:\u001b[m\u001b[K In function ‘\u001b[01m\u001b[KBlockMoveTo\u001b[m\u001b[K’:\n",
            "\u001b[01m\u001b[Kio.c:625:16:\u001b[m\u001b[K \u001b[01;35m\u001b[Kwarning: \u001b[m\u001b[Kformat ‘\u001b[01m\u001b[K%x\u001b[m\u001b[K’ expects argument of type ‘\u001b[01m\u001b[Kunsigned int\u001b[m\u001b[K’, but argument 2 has type ‘\u001b[01m\u001b[Kstruct io_buffer_list *\u001b[m\u001b[K’ [\u001b[01;35m\u001b[K-Wformat=\u001b[m\u001b[K]\n",
            "       printf(\"\u001b[01;35m\u001b[K%x\u001b[m\u001b[K  Moving To [Horizontal:Vertical] [%d:%d] \\n\",\n",
            "               \u001b[01;35m\u001b[K~^\u001b[m\u001b[K\n",
            "\u001b[01m\u001b[Kio.c:\u001b[m\u001b[K In function ‘\u001b[01m\u001b[KFlushIob\u001b[m\u001b[K’:\n",
            "\u001b[01m\u001b[Kio.c:718:19:\u001b[m\u001b[K \u001b[01;35m\u001b[Kwarning: \u001b[m\u001b[Kformat ‘\u001b[01m\u001b[K%x\u001b[m\u001b[K’ expects argument of type ‘\u001b[01m\u001b[Kunsigned int\u001b[m\u001b[K’, but argument 2 has type ‘\u001b[01m\u001b[Kstruct io_buffer_list *\u001b[m\u001b[K’ [\u001b[01;35m\u001b[K-Wformat=\u001b[m\u001b[K]\n",
            "     printf(\"IOB: \u001b[01;35m\u001b[K%x\u001b[m\u001b[K  Flushing buffers\\n\",Iob);\n",
            "                  \u001b[01;35m\u001b[K~^\u001b[m\u001b[K\n",
            "\u001b[01m\u001b[Kio.c:\u001b[m\u001b[K In function ‘\u001b[01m\u001b[KSeekEndIob\u001b[m\u001b[K’:\n",
            "\u001b[01m\u001b[Kio.c:773:4:\u001b[m\u001b[K \u001b[01;35m\u001b[Kwarning: \u001b[m\u001b[Kimplicit declaration of function ‘\u001b[01m\u001b[Kftruncate\u001b[m\u001b[K’; did you mean ‘\u001b[01m\u001b[Kstrncat\u001b[m\u001b[K’? [\u001b[01;35m\u001b[K-Wimplicit-function-declaration\u001b[m\u001b[K]\n",
            "    \u001b[01;35m\u001b[Kftruncate\u001b[m\u001b[K(Iob->file,tsize);                   /* simply truncate*/\n",
            "    \u001b[01;35m\u001b[K^~~~~~~~~\u001b[m\u001b[K\n",
            "    \u001b[32m\u001b[Kstrncat\u001b[m\u001b[K\n",
            "\u001b[01m\u001b[Kio.c:\u001b[m\u001b[K In function ‘\u001b[01m\u001b[KCloseIob\u001b[m\u001b[K’:\n",
            "\u001b[01m\u001b[Kio.c:790:3:\u001b[m\u001b[K \u001b[01;35m\u001b[Kwarning: \u001b[m\u001b[Kimplicit declaration of function ‘\u001b[01m\u001b[Kclose\u001b[m\u001b[K’; did you mean ‘\u001b[01m\u001b[Kpclose\u001b[m\u001b[K’? [\u001b[01;35m\u001b[K-Wimplicit-function-declaration\u001b[m\u001b[K]\n",
            "   \u001b[01;35m\u001b[Kclose\u001b[m\u001b[K(Iob->file);\n",
            "   \u001b[01;35m\u001b[K^~~~~\u001b[m\u001b[K\n",
            "   \u001b[32m\u001b[Kpclose\u001b[m\u001b[K\n",
            "\u001b[01m\u001b[Kio.c:\u001b[m\u001b[K In function ‘\u001b[01m\u001b[KLineMoveTo\u001b[m\u001b[K’:\n",
            "\u001b[01m\u001b[Kio.c:1112:16:\u001b[m\u001b[K \u001b[01;35m\u001b[Kwarning: \u001b[m\u001b[Kformat ‘\u001b[01m\u001b[K%x\u001b[m\u001b[K’ expects argument of type ‘\u001b[01m\u001b[Kunsigned int\u001b[m\u001b[K’, but argument 2 has type ‘\u001b[01m\u001b[Kstruct io_buffer_list *\u001b[m\u001b[K’ [\u001b[01;35m\u001b[K-Wformat=\u001b[m\u001b[K]\n",
            "       printf(\"\u001b[01;35m\u001b[K%x\u001b[m\u001b[K  Moving To [Horizontal:Vertical] [%d:%d] \\n\",\n",
            "               \u001b[01;35m\u001b[K~^\u001b[m\u001b[K\n",
            "cc -O3   -c chendct.c \n",
            "cc -O3   -c leedct.c \n",
            "lex  -t lexer.l > lexer.c\n",
            "cc -O3   -c lexer.c \n",
            "\u001b[01m\u001b[Klexer.l:\u001b[m\u001b[K In function ‘\u001b[01m\u001b[Kparser\u001b[m\u001b[K’:\n",
            "\u001b[01m\u001b[Klexer.l:1008:4:\u001b[m\u001b[K \u001b[01;35m\u001b[Kwarning: \u001b[m\u001b[Kimplicit declaration of function ‘\u001b[01m\u001b[KWriteDnl\u001b[m\u001b[K’; did you mean ‘\u001b[01m\u001b[KWriteDht\u001b[m\u001b[K’? [\u001b[01;35m\u001b[K-Wimplicit-function-declaration\u001b[m\u001b[K]\n",
            "    \u001b[01;35m\u001b[KWriteDnl\u001b[m\u001b[K();\n",
            "    \u001b[01;35m\u001b[K^~~~~~~~\u001b[m\u001b[K\n",
            "    \u001b[32m\u001b[KWriteDht\u001b[m\u001b[K\n",
            "cc -O3   -c marker.c \n",
            "\u001b[01m\u001b[Kmarker.c:201:1:\u001b[m\u001b[K \u001b[01;35m\u001b[Kwarning: \u001b[m\u001b[Kreturn type defaults to ‘\u001b[01m\u001b[Kint\u001b[m\u001b[K’ [\u001b[01;35m\u001b[K-Wimplicit-int\u001b[m\u001b[K]\n",
            " \u001b[01;35m\u001b[KWriteDnl\u001b[m\u001b[K()\n",
            " \u001b[01;35m\u001b[K^~~~~~~~\u001b[m\u001b[K\n",
            "\u001b[01m\u001b[Kmarker.c:\u001b[m\u001b[K In function ‘\u001b[01m\u001b[KReadSof\u001b[m\u001b[K’:\n",
            "\u001b[01m\u001b[Kmarker.c:364:12:\u001b[m\u001b[K \u001b[01;35m\u001b[Kwarning: \u001b[m\u001b[Kimplicit declaration of function ‘\u001b[01m\u001b[Kbgetw\u001b[m\u001b[K’; did you mean ‘\u001b[01m\u001b[Kbgetc\u001b[m\u001b[K’? [\u001b[01;35m\u001b[K-Wimplicit-function-declaration\u001b[m\u001b[K]\n",
            "   Length = \u001b[01;35m\u001b[Kbgetw\u001b[m\u001b[K();\n",
            "            \u001b[01;35m\u001b[K^~~~~\u001b[m\u001b[K\n",
            "            \u001b[32m\u001b[Kbgetc\u001b[m\u001b[K\n",
            "\u001b[01m\u001b[Kmarker.c:\u001b[m\u001b[K In function ‘\u001b[01m\u001b[KCheckMarker\u001b[m\u001b[K’:\n",
            "\u001b[01m\u001b[Kmarker.c:599:12:\u001b[m\u001b[K \u001b[01;35m\u001b[Kwarning: \u001b[m\u001b[Kimplicit declaration of function ‘\u001b[01m\u001b[Kbrtell\u001b[m\u001b[K’; did you mean ‘\u001b[01m\u001b[Kmrtell\u001b[m\u001b[K’? [\u001b[01;35m\u001b[K-Wimplicit-function-declaration\u001b[m\u001b[K]\n",
            "   Length = \u001b[01;35m\u001b[Kbrtell\u001b[m\u001b[K();\n",
            "            \u001b[01;35m\u001b[K^~~~~~\u001b[m\u001b[K\n",
            "            \u001b[32m\u001b[Kmrtell\u001b[m\u001b[K\n",
            "\u001b[01m\u001b[Kmarker.c:604:7:\u001b[m\u001b[K \u001b[01;35m\u001b[Kwarning: \u001b[m\u001b[Kimplicit declaration of function ‘\u001b[01m\u001b[Kbrseek\u001b[m\u001b[K’; did you mean ‘\u001b[01m\u001b[Kmrseek\u001b[m\u001b[K’? [\u001b[01;35m\u001b[K-Wimplicit-function-declaration\u001b[m\u001b[K]\n",
            "       \u001b[01;35m\u001b[Kbrseek\u001b[m\u001b[K(Length,0L);\n",
            "       \u001b[01;35m\u001b[K^~~~~~\u001b[m\u001b[K\n",
            "       \u001b[32m\u001b[Kmrseek\u001b[m\u001b[K\n",
            "cc -O3   -c stream.c \n",
            "\u001b[01m\u001b[Kstream.c:\u001b[m\u001b[K In function ‘\u001b[01m\u001b[KDoMarker\u001b[m\u001b[K’:\n",
            "\u001b[01m\u001b[Kstream.c:678:17:\u001b[m\u001b[K \u001b[01;35m\u001b[Kwarning: \u001b[m\u001b[Kextra tokens at end of #ifdef directive\n",
            " #ifdef VERSION_1\u001b[01;35m\u001b[K.0\u001b[m\u001b[K\n",
            "                 \u001b[01;35m\u001b[K^~\u001b[m\u001b[K\n",
            "cc -O3   -c transform.c \n",
            "cc  -O3  jpeg.o codec.o huffman.o io.o chendct.o leedct.o lexer.o marker.o stream.o transform.o -lm -o jpeg\n"
          ],
          "name": "stdout"
        }
      ]
    },
    {
      "cell_type": "code",
      "metadata": {
        "id": "GQ6iCITjB8Pa",
        "colab_type": "code",
        "colab": {}
      },
      "source": [
        "from ljpeg import ljpeg\n",
        "\n",
        "x = ljpeg.read('A_0002_1.LEFT_CC.LJPEG').astype('float')"
      ],
      "execution_count": 0,
      "outputs": []
    },
    {
      "cell_type": "code",
      "metadata": {
        "id": "k6vggZpiDI4t",
        "colab_type": "code",
        "colab": {}
      },
      "source": [
        "import numpy as np\n",
        "x = np.array(x)\n",
        "x = x/np.max(x)"
      ],
      "execution_count": 0,
      "outputs": []
    },
    {
      "cell_type": "code",
      "metadata": {
        "id": "p0TsrGVsDZIQ",
        "colab_type": "code",
        "colab": {
          "base_uri": "https://localhost:8080/",
          "height": 286
        },
        "outputId": "273ca5f0-2446-4e71-cbd9-510da016595f"
      },
      "source": [
        "import matplotlib.pyplot as plt\n",
        "plt.imshow(x, cmap = 'gray')"
      ],
      "execution_count": 17,
      "outputs": [
        {
          "output_type": "execute_result",
          "data": {
            "text/plain": [
              "<matplotlib.image.AxesImage at 0x7fa059dbdc10>"
            ]
          },
          "metadata": {
            "tags": []
          },
          "execution_count": 17
        },
        {
          "output_type": "display_data",
          "data": {
            "image/png": "[encoded data removed]",
            "text/plain": [
              "<Figure size 432x288 with 1 Axes>"
            ]
          },
          "metadata": {
            "tags": []
          }
        }
      ]
    },
    {
      "cell_type": "code",
      "metadata": {
        "id": "K0-ef7L3Djwc",
        "colab_type": "code",
        "colab": {
          "base_uri": "https://localhost:8080/",
          "height": 134
        },
        "outputId": "adea6efb-86f0-4fd7-9898-3be71bf96002"
      },
      "source": [
        "x"
      ],
      "execution_count": 12,
      "outputs": [
        {
          "output_type": "execute_result",
          "data": {
            "text/plain": [
              "array([[0, 0, 0, ..., 0, 0, 0],\n",
              "       [0, 0, 0, ..., 0, 0, 0],\n",
              "       [0, 0, 0, ..., 0, 0, 0],\n",
              "       ...,\n",
              "       [0, 0, 0, ..., 0, 0, 0],\n",
              "       [0, 0, 0, ..., 0, 0, 0],\n",
              "       [0, 0, 0, ..., 0, 0, 0]], dtype=uint16)"
            ]
          },
          "metadata": {
            "tags": []
          },
          "execution_count": 12
        }
      ]
    }
  ]
}