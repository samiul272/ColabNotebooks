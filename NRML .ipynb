{
 "cells": [
  {
   "cell_type": "code",
   "execution_count": 6,
   "metadata": {
    "ExecuteTime": {
     "end_time": "2019-07-25T10:10:06.229899Z",
     "start_time": "2019-07-25T10:10:06.222782Z"
    }
   },
   "outputs": [
    {
     "data": {
      "text/plain": [
       "'1.14.0'"
      ]
     },
     "execution_count": 6,
     "metadata": {},
     "output_type": "execute_result"
    }
   ],
   "source": [
    "import tensorflow as tf\n",
    "\n",
    "url_info = 'https://github.com/GMDays/Kinship/blob/master/NRML/NRML/nrml/nrml_train.m'\n",
    "tf.__version__"
   ]
  },
  {
   "cell_type": "code",
   "execution_count": 8,
   "metadata": {
    "ExecuteTime": {
     "end_time": "2019-07-25T10:10:21.838798Z",
     "start_time": "2019-07-25T10:10:21.115621Z"
    },
    "code_folding": []
   },
   "outputs": [
    {
     "name": "stdout",
     "output_type": "stream",
     "text": [
      "Default GPU Device: /device:GPU:0\n"
     ]
    },
    {
     "data": {
      "text/plain": [
       "True"
      ]
     },
     "execution_count": 8,
     "metadata": {},
     "output_type": "execute_result"
    }
   ],
   "source": [
    "from tensorflow.python.client import device_lib\n",
    "import tensorflow as tf\n",
    "if tf.test.gpu_device_name():\n",
    "    print('Default GPU Device: {}'.format(tf.test.gpu_device_name()))\n",
    "else:\n",
    "    print(\"Please install GPU version of TF\")\n",
    "    \n",
    "tf.test.is_built_with_cuda()"
   ]
  },
  {
   "cell_type": "code",
   "execution_count": 9,
   "metadata": {
    "ExecuteTime": {
     "end_time": "2019-07-25T10:10:23.533527Z",
     "start_time": "2019-07-25T10:10:22.349197Z"
    }
   },
   "outputs": [
    {
     "name": "stdout",
     "output_type": "stream",
     "text": [
      "# conda environments:\r\n",
      "#\r\n",
      "base                     /home/monowar.a/anaconda3\r\n",
      "tf-gpu-cuda9          *  /home/monowar.a/anaconda3/envs/tf-gpu-cuda9\r\n",
      "tf_gpu_nrml              /home/monowar.a/anaconda3/envs/tf_gpu_nrml\r\n",
      "\r\n"
     ]
    }
   ],
   "source": [
    "!conda env list"
   ]
  },
  {
   "cell_type": "code",
   "execution_count": 10,
   "metadata": {
    "ExecuteTime": {
     "end_time": "2019-07-25T10:10:23.909532Z",
     "start_time": "2019-07-25T10:10:23.552630Z"
    }
   },
   "outputs": [
    {
     "name": "stdout",
     "output_type": "stream",
     "text": [
      "[name: \"/device:CPU:0\"\n",
      "device_type: \"CPU\"\n",
      "memory_limit: 268435456\n",
      "locality {\n",
      "}\n",
      "incarnation: 1413097744693103260\n",
      ", name: \"/device:XLA_CPU:0\"\n",
      "device_type: \"XLA_CPU\"\n",
      "memory_limit: 17179869184\n",
      "locality {\n",
      "}\n",
      "incarnation: 9555004386842362810\n",
      "physical_device_desc: \"device: XLA_CPU device\"\n",
      ", name: \"/device:GPU:0\"\n",
      "device_type: \"GPU\"\n",
      "memory_limit: 10818532148\n",
      "locality {\n",
      "  bus_id: 1\n",
      "  links {\n",
      "    link {\n",
      "      device_id: 1\n",
      "      type: \"StreamExecutor\"\n",
      "      strength: 1\n",
      "    }\n",
      "    link {\n",
      "      device_id: 2\n",
      "      type: \"StreamExecutor\"\n",
      "      strength: 1\n",
      "    }\n",
      "  }\n",
      "}\n",
      "incarnation: 4062803833199052138\n",
      "physical_device_desc: \"device: 0, name: GeForce GTX 1080 Ti, pci bus id: 0000:01:00.0, compute capability: 6.1\"\n",
      ", name: \"/device:GPU:1\"\n",
      "device_type: \"GPU\"\n",
      "memory_limit: 10818532148\n",
      "locality {\n",
      "  bus_id: 1\n",
      "  links {\n",
      "    link {\n",
      "      type: \"StreamExecutor\"\n",
      "      strength: 1\n",
      "    }\n",
      "    link {\n",
      "      device_id: 2\n",
      "      type: \"StreamExecutor\"\n",
      "      strength: 1\n",
      "    }\n",
      "  }\n",
      "}\n",
      "incarnation: 12124616745306904436\n",
      "physical_device_desc: \"device: 1, name: GeForce GTX 1080 Ti, pci bus id: 0000:02:00.0, compute capability: 6.1\"\n",
      ", name: \"/device:GPU:2\"\n",
      "device_type: \"GPU\"\n",
      "memory_limit: 10818158592\n",
      "locality {\n",
      "  bus_id: 1\n",
      "  links {\n",
      "    link {\n",
      "      type: \"StreamExecutor\"\n",
      "      strength: 1\n",
      "    }\n",
      "    link {\n",
      "      device_id: 1\n",
      "      type: \"StreamExecutor\"\n",
      "      strength: 1\n",
      "    }\n",
      "  }\n",
      "}\n",
      "incarnation: 9569107487508567448\n",
      "physical_device_desc: \"device: 2, name: GeForce GTX 1080 Ti, pci bus id: 0000:03:00.0, compute capability: 6.1\"\n",
      ", name: \"/device:XLA_GPU:0\"\n",
      "device_type: \"XLA_GPU\"\n",
      "memory_limit: 17179869184\n",
      "locality {\n",
      "}\n",
      "incarnation: 622042392558149976\n",
      "physical_device_desc: \"device: XLA_GPU device\"\n",
      ", name: \"/device:XLA_GPU:1\"\n",
      "device_type: \"XLA_GPU\"\n",
      "memory_limit: 17179869184\n",
      "locality {\n",
      "}\n",
      "incarnation: 16718584596755194917\n",
      "physical_device_desc: \"device: XLA_GPU device\"\n",
      ", name: \"/device:XLA_GPU:2\"\n",
      "device_type: \"XLA_GPU\"\n",
      "memory_limit: 17179869184\n",
      "locality {\n",
      "}\n",
      "incarnation: 13612946880646080719\n",
      "physical_device_desc: \"device: XLA_GPU device\"\n",
      "]\n"
     ]
    },
    {
     "name": "stderr",
     "output_type": "stream",
     "text": [
      "Using TensorFlow backend.\n"
     ]
    }
   ],
   "source": [
    "# from tensorflow.python.client import device_lib\n",
    "import tensorflow as tf\n",
    "import numpy as np \n",
    "import pandas as pd\n",
    "from tqdm import tnrange\n",
    "from tqdm import tqdm_notebook as tqdm\n",
    "import seaborn as sns\n",
    "from numpy.linalg import norm\n",
    "import pdb\n",
    "\n",
    "import keras.backend as K\n",
    "from keras.models import load_model, Model\n",
    "from keras.layers import *\n",
    "from keras.optimizers import *\n",
    "from keras.backend import clear_session\n",
    "from keras.preprocessing.image import ImageDataGenerator as IDG\n",
    "from keras.utils import Sequence\n",
    "from keras.applications.inception_resnet_v2 import InceptionResNetV2\n",
    "from keras.callbacks import TensorBoard\n",
    "from keras.losses import *\n",
    "\n",
    "# import tensorflow.keras.backend as K\n",
    "# from tensorflow.keras.models import load_model, Model\n",
    "# from tensorflow.keras.layers import *\n",
    "# from tensorflow.keras.optimizers import Adam\n",
    "# from tensorflow.keras.backend import clear_session\n",
    "# from tensorflow.keras.preprocessing.image import ImageDataGenerator as IDG\n",
    "# from tensorflow.keras.utils import Sequence\n",
    "# from tensorflow.keras.applications.inception_resnet_v2 import InceptionResNetV2\n",
    "# from tensorflow.keras.callbacks import TensorBoard\n",
    "\n",
    "from PIL import Image\n",
    "import matplotlib.pyplot as plt\n",
    "import os\n",
    "\n",
    "from PIL import Image\n",
    "import os\n",
    "\n",
    "\n",
    "from tensorflow.python.client import device_lib\n",
    "print(device_lib.list_local_devices())\n",
    "config = tf.ConfigProto()\n",
    "config = tf.ConfigProto( device_count = {'GPU': 2 , 'CPU': 1} )\n",
    "config.gpu_options.allow_growth = True\n",
    "config.graph_options.optimizer_options.global_jit_level = tf.OptimizerOptions.ON_1\n",
    "session = tf.Session(config=config)\n",
    "K.set_session(session)"
   ]
  },
  {
   "cell_type": "code",
   "execution_count": 11,
   "metadata": {
    "ExecuteTime": {
     "end_time": "2019-07-25T10:10:24.860941Z",
     "start_time": "2019-07-25T10:10:24.852574Z"
    }
   },
   "outputs": [
    {
     "name": "stderr",
     "output_type": "stream",
     "text": [
      "WARNING: Logging before flag parsing goes to stderr.\n",
      "W0725 16:10:24.855671 140283755095808 deprecation_wrapper.py:119] From /home/monowar.a/anaconda3/envs/tf-gpu-cuda9/lib/python3.7/site-packages/keras/backend/tensorflow_backend.py:174: The name tf.get_default_session is deprecated. Please use tf.compat.v1.get_default_session instead.\n",
      "\n",
      "W0725 16:10:24.857640 140283755095808 deprecation_wrapper.py:119] From /home/monowar.a/anaconda3/envs/tf-gpu-cuda9/lib/python3.7/site-packages/keras/backend/tensorflow_backend.py:190: The name tf.global_variables is deprecated. Please use tf.compat.v1.global_variables instead.\n",
      "\n"
     ]
    }
   ],
   "source": [
    "from keras import backend as K\n",
    "tb_path = \"./logs/\"\n",
    "# Get the sessions graph\n",
    "graph = K.get_session().graph\n",
    "\n",
    "# Display with the tensorflow file writer\n",
    "# writer = tf.summary.FileWriter(logdir=tb_path, graph=graph)\n",
    "# writer.flush()"
   ]
  },
  {
   "cell_type": "code",
   "execution_count": 12,
   "metadata": {
    "ExecuteTime": {
     "end_time": "2019-07-25T10:10:26.434822Z",
     "start_time": "2019-07-25T10:10:26.012273Z"
    }
   },
   "outputs": [],
   "source": [
    "tcb = TensorBoard(log_dir='./Graph', histogram_freq=1,  \n",
    "          write_graph=True, write_images=True)"
   ]
  },
  {
   "cell_type": "code",
   "execution_count": 13,
   "metadata": {
    "ExecuteTime": {
     "end_time": "2019-07-25T10:10:26.957808Z",
     "start_time": "2019-07-25T10:10:26.951799Z"
    }
   },
   "outputs": [
    {
     "data": {
      "text/plain": [
       "'1.14.0'"
      ]
     },
     "execution_count": 13,
     "metadata": {},
     "output_type": "execute_result"
    }
   ],
   "source": [
    "tf.__version__"
   ]
  },
  {
   "cell_type": "code",
   "execution_count": 14,
   "metadata": {
    "ExecuteTime": {
     "end_time": "2019-07-25T10:10:27.688674Z",
     "start_time": "2019-07-25T10:10:27.500435Z"
    }
   },
   "outputs": [
    {
     "name": "stdout",
     "output_type": "stream",
     "text": [
      "Thu Jul 25 16:10:27 2019       \r\n",
      "+-----------------------------------------------------------------------------+\r\n",
      "| NVIDIA-SMI 384.130                Driver Version: 384.130                   |\r\n",
      "|-------------------------------+----------------------+----------------------+\r\n",
      "| GPU  Name        Persistence-M| Bus-Id        Disp.A | Volatile Uncorr. ECC |\r\n",
      "| Fan  Temp  Perf  Pwr:Usage/Cap|         Memory-Usage | GPU-Util  Compute M. |\r\n",
      "|===============================+======================+======================|\r\n",
      "|   0  GeForce GTX 108...  Off  | 00000000:01:00.0 Off |                  N/A |\r\n",
      "|  0%   48C    P2    61W / 250W |    312MiB / 11172MiB |      0%      Default |\r\n",
      "+-------------------------------+----------------------+----------------------+\r\n",
      "|   1  GeForce GTX 108...  Off  | 00000000:02:00.0 Off |                  N/A |\r\n",
      "|  0%   48C    P2    61W / 250W |    312MiB / 11172MiB |      0%      Default |\r\n",
      "+-------------------------------+----------------------+----------------------+\r\n",
      "|   2  GeForce GTX 108...  Off  | 00000000:03:00.0 Off |                  N/A |\r\n",
      "|  0%   46C    P2    61W / 250W |    312MiB / 11172MiB |      0%      Default |\r\n",
      "+-------------------------------+----------------------+----------------------+\r\n",
      "                                                                               \r\n",
      "+-----------------------------------------------------------------------------+\r\n",
      "| Processes:                                                       GPU Memory |\r\n",
      "|  GPU       PID   Type   Process name                             Usage      |\r\n",
      "|=============================================================================|\r\n",
      "|    0     22346      C   .../anaconda3/envs/tf-gpu-cuda9/bin/python   151MiB |\r\n",
      "|    0     28515      C   /usr/bin/python                              151MiB |\r\n",
      "|    1     22346      C   .../anaconda3/envs/tf-gpu-cuda9/bin/python   151MiB |\r\n",
      "|    1     28515      C   /usr/bin/python                              151MiB |\r\n",
      "|    2     22346      C   .../anaconda3/envs/tf-gpu-cuda9/bin/python   151MiB |\r\n",
      "|    2     28515      C   /usr/bin/python                              151MiB |\r\n",
      "+-----------------------------------------------------------------------------+\r\n"
     ]
    }
   ],
   "source": [
    "!nvidia-smi"
   ]
  },
  {
   "cell_type": "code",
   "execution_count": 15,
   "metadata": {
    "ExecuteTime": {
     "end_time": "2019-07-25T10:10:27.916427Z",
     "start_time": "2019-07-25T10:10:27.903483Z"
    },
    "code_folding": []
   },
   "outputs": [],
   "source": [
    "def dist_mat(P1, P2 = None):\n",
    "    if P2 is not None:\n",
    "        X1 = tf.tile(tf.expand_dims(tf.reduce_sum(P1**2, axis= -1), axis= -1), [1, tf.shape(P2)[0]])\n",
    "        X2 = tf.tile(tf.expand_dims(tf.reduce_sum(P2**2, axis= -1), axis= -1), [1, tf.shape(P1)[0]])\n",
    "        R = P1 @ tf.transpose(P2)\n",
    "        D = X1 + tf.transpose(X2) - 2*R\n",
    "        D = tf.sqrt(D)\n",
    "        return D\n",
    "    else:\n",
    "        X1 = tf.tile(tf.expand_dims(tf.reduce_sum(P1**2, axis= -1), axis= -1), [1, tf.shape(P1)[0]])\n",
    "        R = P1 @ tf.transpose(P1)\n",
    "        D = X1 + tf.transpose(X1) - 2*R\n",
    "        D = tf.real(tf.sqrt(tf.cast(D, dtype=tf.complex64)))\n",
    "        return D"
   ]
  },
  {
   "cell_type": "code",
   "execution_count": 16,
   "metadata": {
    "ExecuteTime": {
     "end_time": "2019-07-25T10:10:28.400225Z",
     "start_time": "2019-07-25T10:10:28.384525Z"
    }
   },
   "outputs": [],
   "source": [
    "class NRML:\n",
    "    def __init__(self, N, K, d):\n",
    "        self.N = N\n",
    "        self.K = K\n",
    "        self.convergence_data = []\n",
    "        self.W = 0\n",
    "        self.Wt = tf.Variable(np.zeros(shape = (d,d), dtype = np.float32))\n",
    "        self.X = tf.placeholder(tf.float32, shape=[N, d])\n",
    "        self.Y = tf.placeholder(tf.float32, shape=[N, d])\n",
    "\n",
    "    def fit(self, X, Y, T = 10, plot_convergence = False, epsilon = 0.0015):\n",
    "        deltas = []\n",
    "        W = 0\n",
    "        with tf.Session() as sess:\n",
    "            sess.run(tf.global_variables_initializer())\n",
    "            for r in tqdm(range(T)):\n",
    "                sess.run(self.step, {self.X: X, self.Y: Y})\n",
    "                Wt = sess.run(self.Wt)\n",
    "                deltas.append(np.mean(np.abs(Wt - W)))\n",
    "                X = X @ Wt\n",
    "                Y = Y @ Wt\n",
    "                W = Wt\n",
    "                if r>3 and deltas[-1] < epsilon:\n",
    "                    break\n",
    "        self.convergence_data = deltas\n",
    "        self.W = W\n",
    "        return (W, deltas)\n",
    "\n",
    "    def build_model(self):\n",
    "        X = self.X\n",
    "        Y = self.Y      \n",
    "        with tf.variable_scope('nrml'):\n",
    "            with tf.variable_scope('dist_H1'):\n",
    "                H1 = self.__diff(X, Y)/(self.K*self.N)\n",
    "            with tf.variable_scope('dist_H2'):\n",
    "                H2 = self.__diff(Y, X)/(self.K*self.N)\n",
    "            with tf.variable_scope('dist_H3'):\n",
    "                D = X - Y\n",
    "                H3 = (tf.transpose(D) @ D)/self.N\n",
    "                \n",
    "            H = (H1 + H2 - H3)\n",
    "\n",
    "            e, Wt = tf.linalg.eigh(H)\n",
    "            Wt = tf.reverse(Wt, axis=[-1])\n",
    "            self.step = self.Wt.assign(Wt)\n",
    "        return (X, Y, self.Wt)\n",
    "    \n",
    "    def __diff(self, x, y):\n",
    "        D = dist_mat(y)\n",
    "        I = tf.argsort(D)\n",
    "        y_knn_idx = I[:, 1:self.K+1]\n",
    "        yt = tf.stack([tf.gather(y, i) for i in tf.unstack(y_knn_idx)], 1)\n",
    "        x = tf.expand_dims(x, 0)\n",
    "        d = x - yt\n",
    "        return tf.reduce_sum(tf.transpose(d, perm = [0, 2, 1]) @ d, axis = 0)\n",
    "    \n",
    "    def plot_convergence_curve(self):\n",
    "            data = pd.DataFrame({'Iterations' : range(len(self.convergence_data)), \n",
    "                                 '$\\Delta$' : self.convergence_data})\n",
    "            sns.lineplot(x = 'Iterations', \n",
    "                         y = '$\\Delta$', \n",
    "                         data = data)"
   ]
  },
  {
   "cell_type": "code",
   "execution_count": 17,
   "metadata": {
    "ExecuteTime": {
     "end_time": "2019-07-25T10:10:29.212707Z",
     "start_time": "2019-07-25T10:10:29.205967Z"
    }
   },
   "outputs": [],
   "source": [
    "from keras.preprocessing.image import apply_affine_transform\n",
    "def get_files_in_dir(directory):\n",
    "    dirs = []\n",
    "    for path, subdirs, files in os.walk(directory):\n",
    "        for name in files:\n",
    "            dirs.append(os.path.join(path, name))\n",
    "    return dirs\n",
    "\n",
    "def get_image_samples(directory_list, num_samples = 32, img_size = (160,160)):\n",
    "    C = np.random.choice(class_dirs, size=num_samples)\n",
    "    I = [np.random.choice(get_files_in_dir(j)) for j in C]\n",
    "    params = {\n",
    "        'theta': np.random.random()*10 - 5,\n",
    "        'tx': np.random.random()*20 - 10,\n",
    "        'ty': np.random.random()*20 - 10\n",
    "    }\n",
    "    return np.array([apply_affine_transform(np.array(Image.open(i).resize(img_size)), **params) for i in I])"
   ]
  },
  {
   "cell_type": "code",
   "execution_count": 18,
   "metadata": {
    "ExecuteTime": {
     "end_time": "2019-07-25T10:10:30.899437Z",
     "start_time": "2019-07-25T10:10:30.534424Z"
    }
   },
   "outputs": [],
   "source": [
    "import os\n",
    "data_dir = '../NorthEastern_SMILE_dataset/Data/'\n",
    "tr_dir = '../NorthEastern_SMILE_dataset/Data/Train/'\n",
    "class_dirs = [tr_dir + j for j in os.listdir(tr_dir)]\n",
    "img_dirs = get_files_in_dir(tr_dir)\n",
    "tr_df = pd.read_csv('filtered_train_relationships.csv')\n",
    "\n",
    "class TripletSequence(Sequence):\n",
    "\n",
    "    def __init__(self, tr_dir, tr_df, W, model, batch_size=16, Nt=8, K = 4):\n",
    "        self.tr_dir, self.tr_df = tr_dir, tr_df\n",
    "        self.batch_size, self.Nt, self.K = batch_size, Nt, K\n",
    "        self.W = W\n",
    "        self.model = model\n",
    "\n",
    "    def __len__(self):\n",
    "        return 100\n",
    "\n",
    "    def __getitem__(self, idx):\n",
    "        batch_df = self.tr_df.sample(self.batch_size, replace=False)\n",
    "        anchors, positives, negatives = [], [], []\n",
    "        for i in tnrange(self.batch_size):\n",
    "            anchor_dir = batch_df.iloc[i]['p1']\n",
    "            pos_dir = batch_df.iloc[i]['p2']\n",
    "            anchor_img = get_image_samples(self.tr_dir + anchor_dir, num_samples=1)\n",
    "            pos_img = get_image_samples(self.tr_dir + pos_dir, num_samples=1)\n",
    "            anchors.append(anchor_img[0])\n",
    "            positives.append(pos_img[0])\n",
    "        inp = np.array(anchors + positives)\n",
    "        out = feature_model.predict(inp, batch_size=100, verbose=1)\n",
    "        an, pos = out[:self.batch_size,:], out[self.batch_size:,:]\n",
    "        an = an@self.W\n",
    "        pos = pos@self.W\n",
    "#         for i in tnrange(self.batch_size):\n",
    "#             pool = np.concatenate([an[:i, :], an[i+1:, :], pos[:i, :], pos[i+1:, :]])\n",
    "#             pool_img = anchors[:i] + anchors[i+1:] + positives[:i] + positives[i+1:]\n",
    "#             ind = np.random.choice(len(pool_img), size=self.Nt, replace=False)\n",
    "#             neg = np.array([pool[i] for i in ind])\n",
    "#             neg_img = pool_img[np.argmin(norm(neg - an[i,:], axis=-1, ord=2))]\n",
    "#             negatives.append(neg_img)\n",
    "        anchors = np.array(anchors)\n",
    "        positives = np.array(positives)\n",
    "#         negatives = np.array(negatives)\n",
    "        return [[anchors, positives], [an, pos]]"
   ]
  },
  {
   "cell_type": "code",
   "execution_count": 24,
   "metadata": {
    "ExecuteTime": {
     "end_time": "2019-07-25T11:17:02.101203Z",
     "start_time": "2019-07-25T11:16:16.215516Z"
    }
   },
   "outputs": [
    {
     "name": "stderr",
     "output_type": "stream",
     "text": [
      "/home/monowar.a/anaconda3/envs/tf-gpu-cuda9/lib/python3.7/site-packages/keras/engine/saving.py:292: UserWarning: No training configuration found in save file: the model was *not* compiled. Compile it manually.\n",
      "  warnings.warn('No training configuration found in save file: '\n"
     ]
    },
    {
     "name": "stdout",
     "output_type": "stream",
     "text": [
      "__________________________________________________________________________________________________\n",
      "Layer (type)                    Output Shape         Param #     Connected to                     \n",
      "==================================================================================================\n",
      "input_12 (InputLayer)           (None, 160, 160, 3)  0                                            \n",
      "__________________________________________________________________________________________________\n",
      "input_10 (InputLayer)           (None, 160, 160, 3)  0                                            \n",
      "__________________________________________________________________________________________________\n",
      "input_11 (InputLayer)           (None, 160, 160, 3)  0                                            \n",
      "__________________________________________________________________________________________________\n",
      "model_5 (Model)                 (None, 128)          22808144    input_10[0][0]                   \n",
      "                                                                 input_11[0][0]                   \n",
      "                                                                 input_12[0][0]                   \n",
      "__________________________________________________________________________________________________\n",
      "triplet_loss_layer (TripletLoss (None,)              0           model_5[3][0]                    \n",
      "                                                                 model_5[1][0]                    \n",
      "                                                                 model_5[2][0]                    \n",
      "==================================================================================================\n",
      "Total params: 22,808,144\n",
      "Trainable params: 22,779,312\n",
      "Non-trainable params: 28,832\n",
      "__________________________________________________________________________________________________\n"
     ]
    }
   ],
   "source": [
    "from keras.applications.mobilenetv2 import MobileNetV2\n",
    "from keras.applications.inception_resnet_v2 import InceptionResNetV2\n",
    "from functools import partial\n",
    "ALPHA = 0.2\n",
    "# K.clear_session()\n",
    "\n",
    "def arr_metric(i, inputs, outputs):\n",
    "    return outputs[i]\n",
    "\n",
    "class TripletLossLayer(Layer):\n",
    "    def __init__(self, alpha, **kwargs):\n",
    "        self.alpha = alpha\n",
    "        super(TripletLossLayer, self).__init__(**kwargs)\n",
    "\n",
    "    def triplet_loss(self, inputs):\n",
    "        a, p, n = inputs\n",
    "        p_dist = K.sum((a - p)**2, axis=-1)\n",
    "        n_dist = K.sum((a - n)**2, axis=-1)\n",
    "        return K.mean(K.maximum(p_dist - n_dist + self.alpha, 0), axis=0)\n",
    "\n",
    "    def call(self, inputs):\n",
    "        loss = self.triplet_loss(inputs)\n",
    "        self.add_loss(loss)\n",
    "        return loss\n",
    "\n",
    "    def compute_output_shape(self, input_shape):\n",
    "        assert isinstance(input_shape, list)\n",
    "        return (None,)\n",
    "\n",
    "\n",
    "def build_facenet_model(embedding_network, classifier):\n",
    "    input_shape = embedding_network.input_shape[1:]\n",
    "    embedding_network.layers.pop(0)\n",
    "    embedding_network.layers[0]._inbound_nodes = []\n",
    "    positive_sample = Input(shape=input_shape)\n",
    "    negative_sample = Input(shape=input_shape)\n",
    "    anchor_sample = Input(shape=input_shape)\n",
    "    \n",
    "    embedding_p = embedding_network(positive_sample)\n",
    "    embedding_n = embedding_network(negative_sample)\n",
    "    embedding_a = embedding_network(anchor_sample)\n",
    "    triplet_loss = TripletLossLayer(alpha=0.2, \n",
    "                                          name='triplet_loss_layer')([embedding_a, embedding_p, embedding_n])\n",
    "    model = Model(inputs=[anchor_sample, positive_sample, negative_sample],\n",
    "                  outputs=triplet_loss)\n",
    "    \n",
    "    model.compile(optimizer=\"adam\", loss=None)\n",
    "    return model\n",
    "\n",
    "def build_classifier_model():\n",
    "    x1 = Input(shape=(128,))\n",
    "    x2 = Input(shape=(128,))\n",
    "    x = Lambda(lambda _x: K.concatenate([K.expand_dims(i, -1) for i in _x], axis = -1))([x1, x2])\n",
    "    x = Lambda(lambda _x: K.expand_dims(x, -1))(x)\n",
    "    x = Conv2D(64,kernel_size=2, activation = 'relu', padding = 'same')(x)\n",
    "    x = MaxPool2D((8,1))(x)\n",
    "    x = BatchNormalization()(x)\n",
    "    x = Flatten()(x)\n",
    "    x = Dropout(rate=0.2)(x)\n",
    "    x = Dense(32, name ='classifier_dense_1', \n",
    "              activation='relu', \n",
    "              use_bias=False, \n",
    "              kernel_initializer='VarianceScaling', kernel_regularizer='l2')(x)\n",
    "    x = Dropout(rate=0.2)(x)\n",
    "    x = BatchNormalization()(x)\n",
    "    x = Dense(8, name ='classifier_dense_2', \n",
    "              activation='relu', \n",
    "              use_bias=False, \n",
    "              kernel_initializer='VarianceScaling', kernel_regularizer='l2')(x)\n",
    "    x = BatchNormalization()(x)\n",
    "    c = Dense(1, name ='classifier_dense_3', \n",
    "              activation='sigmoid', \n",
    "              use_bias=False, \n",
    "              kernel_initializer='VarianceScaling', kernel_regularizer='l2')(x)\n",
    "    m = Model(inputs = [x1, x2], outputs = c)\n",
    "    m.compile(optimizer=\"adam\",loss=binary_crossentropy, metrics = ['acc'])\n",
    "    return m\n",
    "\n",
    "def build_feature_model():\n",
    "    input_tensor = Input(shape=(160, 160, 3))\n",
    "#     base_model = InceptionResNetV2(input_tensor=input_tensor, weights='imagenet', include_top=False)\n",
    "#     x = base_model.output\n",
    "#     x = GlobalAveragePooling2D()(x)\n",
    "#     x = Dropout(rate=0.2)(x)\n",
    "    base_model = load_model('facenet_keras.h5')\n",
    "    x = base_model.layers[-1].output\n",
    "#     x = Dense(386, name ='Bottleneck', \n",
    "#               activation='linear', \n",
    "#               use_bias=True, \n",
    "#               kernel_initializer='VarianceScaling')(x)\n",
    "#     x = BatchNormalization(name='Bottleneck_BatchNorm')(x)\n",
    "    model = Model(inputs=base_model.input, outputs=x)\n",
    "    model.compile(optimizer= Adam(0.00075) ,loss='binary_crossentropy')\n",
    "    return model\n",
    "\n",
    "classifier = build_classifier_model()\n",
    "feature_model = build_feature_model()\n",
    "model = build_facenet_model(feature_model, classifier)\n",
    "model.summary()\n"
   ]
  },
  {
   "cell_type": "code",
   "execution_count": 25,
   "metadata": {
    "ExecuteTime": {
     "end_time": "2019-07-25T12:49:57.149795Z",
     "start_time": "2019-07-25T11:17:12.425234Z"
    },
    "scrolled": false
   },
   "outputs": [
    {
     "name": "stdout",
     "output_type": "stream",
     "text": [
      "Training Loop 0\n",
      "Fetching Data: \n"
     ]
    },
    {
     "data": {
      "application/vnd.jupyter.widget-view+json": {
       "model_id": "a6f1fe13d7444f45b6da9ea00bc5062a",
       "version_major": 2,
       "version_minor": 0
      },
      "text/plain": [
       "HBox(children=(IntProgress(value=0, max=2048), HTML(value='')))"
      ]
     },
     "metadata": {},
     "output_type": "display_data"
    },
    {
     "name": "stdout",
     "output_type": "stream",
     "text": [
      "4096/4096 [==============================] - 24s 6ms/step\n"
     ]
    },
    {
     "data": {
      "application/vnd.jupyter.widget-view+json": {
       "model_id": "322f35071bb247b68aa080a28b2b63c0",
       "version_major": 2,
       "version_minor": 0
      },
      "text/plain": [
       "HBox(children=(IntProgress(value=0, max=512), HTML(value='')))"
      ]
     },
     "metadata": {},
     "output_type": "display_data"
    },
    {
     "name": "stdout",
     "output_type": "stream",
     "text": [
      "1024/1024 [==============================] - 1s 842us/step\n",
      "Fitting Classifier: \n",
      "Train on 8192 samples, validate on 2048 samples\n",
      "Epoch 1/20\n",
      "8192/8192 [==============================] - 17s 2ms/step - loss: 1.0892 - acc: 0.4927 - val_loss: 0.9784 - val_acc: 0.5029\n",
      "Epoch 2/20\n",
      "8192/8192 [==============================] - 1s 111us/step - loss: 0.9159 - acc: 0.5001 - val_loss: 0.8641 - val_acc: 0.4932\n",
      "Epoch 3/20\n",
      "8192/8192 [==============================] - 1s 121us/step - loss: 0.8343 - acc: 0.4995 - val_loss: 0.8048 - val_acc: 0.5044\n",
      "Epoch 4/20\n",
      "8192/8192 [==============================] - 1s 113us/step - loss: 0.7894 - acc: 0.5017 - val_loss: 0.7711 - val_acc: 0.5039\n",
      "Epoch 5/20\n",
      "8192/8192 [==============================] - 1s 119us/step - loss: 0.7629 - acc: 0.4983 - val_loss: 0.7513 - val_acc: 0.5010\n",
      "Epoch 6/20\n",
      "8192/8192 [==============================] - 1s 115us/step - loss: 0.7456 - acc: 0.4966 - val_loss: 0.7371 - val_acc: 0.4902\n",
      "Epoch 7/20\n",
      "8192/8192 [==============================] - 1s 113us/step - loss: 0.7343 - acc: 0.5026 - val_loss: 0.7299 - val_acc: 0.5000\n",
      "Epoch 8/20\n",
      "8192/8192 [==============================] - 1s 118us/step - loss: 0.7282 - acc: 0.5088 - val_loss: 0.7274 - val_acc: 0.5020\n",
      "Epoch 9/20\n",
      "8192/8192 [==============================] - 1s 117us/step - loss: 0.7254 - acc: 0.5073 - val_loss: 0.7212 - val_acc: 0.5020\n",
      "Epoch 10/20\n",
      "8192/8192 [==============================] - 1s 119us/step - loss: 0.7187 - acc: 0.4941 - val_loss: 0.7153 - val_acc: 0.4927\n",
      "Epoch 11/20\n",
      "8192/8192 [==============================] - 1s 121us/step - loss: 0.7132 - acc: 0.4994 - val_loss: 0.7124 - val_acc: 0.4980\n",
      "Epoch 12/20\n",
      "8192/8192 [==============================] - 1s 117us/step - loss: 0.7143 - acc: 0.5023 - val_loss: 0.7152 - val_acc: 0.5029\n",
      "Epoch 13/20\n",
      "8192/8192 [==============================] - 1s 117us/step - loss: 0.7154 - acc: 0.5050 - val_loss: 0.7149 - val_acc: 0.5044\n",
      "Epoch 14/20\n",
      "8192/8192 [==============================] - 1s 120us/step - loss: 0.7136 - acc: 0.4917 - val_loss: 0.7091 - val_acc: 0.4956\n",
      "Epoch 15/20\n",
      "8192/8192 [==============================] - 1s 118us/step - loss: 0.7082 - acc: 0.4960 - val_loss: 0.7054 - val_acc: 0.5010\n",
      "Epoch 16/20\n",
      "8192/8192 [==============================] - 1s 120us/step - loss: 0.7059 - acc: 0.4972 - val_loss: 0.8534 - val_acc: 0.4995\n",
      "Epoch 17/20\n",
      "8192/8192 [==============================] - 1s 121us/step - loss: 0.7099 - acc: 0.5021 - val_loss: 0.7083 - val_acc: 0.5142\n",
      "Epoch 18/20\n",
      "8192/8192 [==============================] - 1s 119us/step - loss: 0.7072 - acc: 0.4907 - val_loss: 0.7064 - val_acc: 0.5122\n",
      "Epoch 19/20\n",
      "8192/8192 [==============================] - 1s 121us/step - loss: 0.7075 - acc: 0.4935 - val_loss: 0.7108 - val_acc: 0.5063\n",
      "Epoch 20/20\n",
      "8192/8192 [==============================] - 1s 120us/step - loss: 0.7113 - acc: 0.4972 - val_loss: 0.7059 - val_acc: 0.5054\n"
     ]
    },
    {
     "data": {
      "application/vnd.jupyter.widget-view+json": {
       "model_id": "a2192d72daea4c8580575a4ec27b1dd1",
       "version_major": 2,
       "version_minor": 0
      },
      "text/plain": [
       "HBox(children=(IntProgress(value=0, max=2048), HTML(value='')))"
      ]
     },
     "metadata": {},
     "output_type": "display_data"
    },
    {
     "name": "stdout",
     "output_type": "stream",
     "text": [
      "Fitting Feature Model: \n",
      "Epoch 1/7\n",
      "2048/2048 [==============================] - 145s 71ms/step - loss: 42.3957\n",
      "Epoch 2/7\n",
      "2048/2048 [==============================] - 22s 11ms/step - loss: 37.3602\n",
      "Epoch 3/7\n",
      "2048/2048 [==============================] - 22s 11ms/step - loss: 35.5965\n",
      "Epoch 4/7\n",
      "2048/2048 [==============================] - 22s 11ms/step - loss: 31.8477\n",
      "Epoch 5/7\n",
      "2048/2048 [==============================] - 22s 11ms/step - loss: 23.6537\n",
      "Epoch 6/7\n",
      "2048/2048 [==============================] - 22s 11ms/step - loss: 16.8286\n",
      "Epoch 7/7\n",
      "2048/2048 [==============================] - 22s 11ms/step - loss: 13.5817\n",
      "Fine tuning Distance matrix: \n"
     ]
    },
    {
     "data": {
      "application/vnd.jupyter.widget-view+json": {
       "model_id": "78bb1923387543d2acbd8932bdc2e4cf",
       "version_major": 2,
       "version_minor": 0
      },
      "text/plain": [
       "HBox(children=(IntProgress(value=0), HTML(value='')))"
      ]
     },
     "metadata": {},
     "output_type": "display_data"
    },
    {
     "name": "stdout",
     "output_type": "stream",
     "text": [
      "---------------------------------------------------------\n",
      "\n",
      "\n",
      "\n",
      "Training Loop 1\n",
      "Fetching Data: \n"
     ]
    },
    {
     "data": {
      "application/vnd.jupyter.widget-view+json": {
       "model_id": "463ef03a2aca41d1a1245f798ce22478",
       "version_major": 2,
       "version_minor": 0
      },
      "text/plain": [
       "HBox(children=(IntProgress(value=0, max=2048), HTML(value='')))"
      ]
     },
     "metadata": {},
     "output_type": "display_data"
    },
    {
     "name": "stdout",
     "output_type": "stream",
     "text": [
      "4096/4096 [==============================] - 8s 2ms/step\n"
     ]
    },
    {
     "data": {
      "application/vnd.jupyter.widget-view+json": {
       "model_id": "f611d64f61d7479d8379678252c3414a",
       "version_major": 2,
       "version_minor": 0
      },
      "text/plain": [
       "HBox(children=(IntProgress(value=0, max=512), HTML(value='')))"
      ]
     },
     "metadata": {},
     "output_type": "display_data"
    },
    {
     "name": "stdout",
     "output_type": "stream",
     "text": [
      "1024/1024 [==============================] - 6s 6ms/step\n",
      "Fitting Classifier: \n",
      "Train on 8192 samples, validate on 2048 samples\n",
      "Epoch 1/20\n",
      "8192/8192 [==============================] - 1s 110us/step - loss: 0.7290 - acc: 0.4878 - val_loss: 0.7165 - val_acc: 0.4932\n",
      "Epoch 2/20\n",
      "8192/8192 [==============================] - 1s 121us/step - loss: 0.7086 - acc: 0.4907 - val_loss: 0.7032 - val_acc: 0.5020\n",
      "Epoch 3/20\n",
      "8192/8192 [==============================] - 1s 120us/step - loss: 0.7061 - acc: 0.4948 - val_loss: 0.7078 - val_acc: 0.5034\n",
      "Epoch 4/20\n",
      "8192/8192 [==============================] - 1s 119us/step - loss: 0.7094 - acc: 0.5007 - val_loss: 0.7067 - val_acc: 0.4971\n",
      "Epoch 5/20\n",
      "8192/8192 [==============================] - 1s 122us/step - loss: 0.7084 - acc: 0.5029 - val_loss: 0.7096 - val_acc: 0.5093\n",
      "Epoch 6/20\n",
      "8192/8192 [==============================] - 1s 121us/step - loss: 0.7065 - acc: 0.5056 - val_loss: 0.7040 - val_acc: 0.4971\n",
      "Epoch 7/20\n",
      "8192/8192 [==============================] - 1s 121us/step - loss: 0.7054 - acc: 0.4996 - val_loss: 0.7030 - val_acc: 0.5068\n",
      "Epoch 8/20\n",
      "8192/8192 [==============================] - 1s 124us/step - loss: 0.7057 - acc: 0.5000 - val_loss: 0.7070 - val_acc: 0.5049\n",
      "Epoch 9/20\n",
      "8192/8192 [==============================] - 1s 118us/step - loss: 0.7040 - acc: 0.5106 - val_loss: 0.7034 - val_acc: 0.5010\n",
      "Epoch 10/20\n",
      "8192/8192 [==============================] - 1s 122us/step - loss: 0.7024 - acc: 0.5034 - val_loss: 0.7017 - val_acc: 0.5054\n",
      "Epoch 11/20\n",
      "8192/8192 [==============================] - 1s 121us/step - loss: 0.7020 - acc: 0.5023 - val_loss: 0.7013 - val_acc: 0.5044\n",
      "Epoch 12/20\n",
      "8192/8192 [==============================] - 1s 121us/step - loss: 0.7005 - acc: 0.4879 - val_loss: 0.6988 - val_acc: 0.5015\n",
      "Epoch 13/20\n",
      "8192/8192 [==============================] - 1s 122us/step - loss: 0.6999 - acc: 0.5022 - val_loss: 0.6993 - val_acc: 0.5093\n",
      "Epoch 14/20\n",
      "8192/8192 [==============================] - 1s 125us/step - loss: 0.7017 - acc: 0.4913 - val_loss: 0.7032 - val_acc: 0.5068\n",
      "Epoch 15/20\n",
      "8192/8192 [==============================] - 1s 119us/step - loss: 0.7012 - acc: 0.4996 - val_loss: 0.6998 - val_acc: 0.4995\n",
      "Epoch 16/20\n",
      "8192/8192 [==============================] - 1s 120us/step - loss: 0.6999 - acc: 0.5005 - val_loss: 0.6993 - val_acc: 0.5034\n",
      "Epoch 17/20\n",
      "8192/8192 [==============================] - 1s 124us/step - loss: 0.6978 - acc: 0.5012 - val_loss: 0.6977 - val_acc: 0.5029\n",
      "Epoch 18/20\n",
      "8192/8192 [==============================] - 1s 123us/step - loss: 0.7004 - acc: 0.4937 - val_loss: 0.6992 - val_acc: 0.5005\n",
      "Epoch 19/20\n",
      "8192/8192 [==============================] - 1s 122us/step - loss: 0.6975 - acc: 0.5039 - val_loss: 0.6971 - val_acc: 0.5039\n",
      "Epoch 20/20\n",
      "8192/8192 [==============================] - 1s 121us/step - loss: 0.6994 - acc: 0.4905 - val_loss: 0.6996 - val_acc: 0.5000\n"
     ]
    },
    {
     "data": {
      "application/vnd.jupyter.widget-view+json": {
       "model_id": "846100ccc4cc4d0ba123539d990d2e4e",
       "version_major": 2,
       "version_minor": 0
      },
      "text/plain": [
       "HBox(children=(IntProgress(value=0, max=2048), HTML(value='')))"
      ]
     },
     "metadata": {},
     "output_type": "display_data"
    },
    {
     "name": "stdout",
     "output_type": "stream",
     "text": [
      "Fitting Feature Model: \n",
      "Epoch 1/7\n",
      "2048/2048 [==============================] - 22s 11ms/step - loss: 40.1912\n",
      "Epoch 2/7\n",
      "2048/2048 [==============================] - 22s 11ms/step - loss: 30.2141\n",
      "Epoch 3/7\n",
      "2048/2048 [==============================] - 22s 11ms/step - loss: 26.6234\n",
      "Epoch 4/7\n",
      "2048/2048 [==============================] - 22s 11ms/step - loss: 19.0807\n",
      "Epoch 5/7\n",
      "2048/2048 [==============================] - 22s 11ms/step - loss: 16.6024\n",
      "Epoch 6/7\n",
      "2048/2048 [==============================] - 22s 11ms/step - loss: 13.6098\n",
      "Epoch 7/7\n",
      "2048/2048 [==============================] - 22s 11ms/step - loss: 12.3283\n",
      "Fine tuning Distance matrix: \n"
     ]
    },
    {
     "data": {
      "application/vnd.jupyter.widget-view+json": {
       "model_id": "7934040890124605ab32b589e067c18f",
       "version_major": 2,
       "version_minor": 0
      },
      "text/plain": [
       "HBox(children=(IntProgress(value=0), HTML(value='')))"
      ]
     },
     "metadata": {},
     "output_type": "display_data"
    },
    {
     "name": "stdout",
     "output_type": "stream",
     "text": [
      "---------------------------------------------------------\n",
      "\n",
      "\n",
      "\n",
      "Training Loop 2\n",
      "Fetching Data: \n"
     ]
    },
    {
     "data": {
      "application/vnd.jupyter.widget-view+json": {
       "model_id": "3543e8344f504d0c8574b1b89086c439",
       "version_major": 2,
       "version_minor": 0
      },
      "text/plain": [
       "HBox(children=(IntProgress(value=0, max=2048), HTML(value='')))"
      ]
     },
     "metadata": {},
     "output_type": "display_data"
    },
    {
     "name": "stdout",
     "output_type": "stream",
     "text": [
      "4096/4096 [==============================] - 3s 817us/step\n"
     ]
    },
    {
     "data": {
      "application/vnd.jupyter.widget-view+json": {
       "model_id": "adc1cec28873483cba7db49f631e1cf1",
       "version_major": 2,
       "version_minor": 0
      },
      "text/plain": [
       "HBox(children=(IntProgress(value=0, max=512), HTML(value='')))"
      ]
     },
     "metadata": {},
     "output_type": "display_data"
    },
    {
     "name": "stdout",
     "output_type": "stream",
     "text": [
      "1024/1024 [==============================] - 1s 815us/step\n",
      "Fitting Classifier: \n",
      "Train on 8192 samples, validate on 2048 samples\n",
      "Epoch 1/20\n",
      "8192/8192 [==============================] - 1s 103us/step - loss: 0.7024 - acc: 0.4907 - val_loss: 0.6989 - val_acc: 0.5020\n",
      "Epoch 2/20\n",
      "8192/8192 [==============================] - 1s 121us/step - loss: 0.6987 - acc: 0.4946 - val_loss: 0.6973 - val_acc: 0.5063\n",
      "Epoch 3/20\n",
      "8192/8192 [==============================] - 1s 124us/step - loss: 0.6971 - acc: 0.4890 - val_loss: 0.6963 - val_acc: 0.5029\n",
      "Epoch 4/20\n",
      "8192/8192 [==============================] - 1s 118us/step - loss: 0.6965 - acc: 0.4955 - val_loss: 0.6970 - val_acc: 0.4951\n",
      "Epoch 5/20\n",
      "8192/8192 [==============================] - 1s 123us/step - loss: 0.6966 - acc: 0.4938 - val_loss: 0.6960 - val_acc: 0.5063\n",
      "Epoch 6/20\n",
      "8192/8192 [==============================] - 1s 121us/step - loss: 0.6967 - acc: 0.4956 - val_loss: 0.6967 - val_acc: 0.5034\n",
      "Epoch 7/20\n",
      "8192/8192 [==============================] - 1s 124us/step - loss: 0.6967 - acc: 0.4956 - val_loss: 0.6962 - val_acc: 0.4990\n",
      "Epoch 8/20\n",
      "8192/8192 [==============================] - 1s 126us/step - loss: 0.6961 - acc: 0.4883 - val_loss: 0.6953 - val_acc: 0.4980\n",
      "Epoch 9/20\n",
      "8192/8192 [==============================] - 1s 121us/step - loss: 0.6954 - acc: 0.4993 - val_loss: 0.6956 - val_acc: 0.4922\n",
      "Epoch 10/20\n",
      "8192/8192 [==============================] - 1s 120us/step - loss: 0.6953 - acc: 0.4916 - val_loss: 0.6950 - val_acc: 0.5073\n",
      "Epoch 11/20\n",
      "8192/8192 [==============================] - 1s 123us/step - loss: 0.6957 - acc: 0.4857 - val_loss: 0.6950 - val_acc: 0.5054\n",
      "Epoch 12/20\n",
      "8192/8192 [==============================] - 1s 125us/step - loss: 0.6953 - acc: 0.5013 - val_loss: 0.6958 - val_acc: 0.5024\n",
      "Epoch 13/20\n",
      "8192/8192 [==============================] - 1s 123us/step - loss: 0.6956 - acc: 0.4850 - val_loss: 0.6954 - val_acc: 0.4976\n",
      "Epoch 14/20\n",
      "8192/8192 [==============================] - 1s 123us/step - loss: 0.6950 - acc: 0.4935 - val_loss: 0.6942 - val_acc: 0.5142\n",
      "Epoch 15/20\n",
      "8192/8192 [==============================] - 1s 125us/step - loss: 0.6941 - acc: 0.4869 - val_loss: 0.6940 - val_acc: 0.4937\n",
      "Epoch 16/20\n",
      "8192/8192 [==============================] - 1s 124us/step - loss: 0.6942 - acc: 0.4915 - val_loss: 0.6941 - val_acc: 0.5049\n",
      "Epoch 17/20\n",
      "8192/8192 [==============================] - 1s 125us/step - loss: 0.6940 - acc: 0.4994 - val_loss: 0.6938 - val_acc: 0.5000\n",
      "Epoch 18/20\n",
      "8192/8192 [==============================] - 1s 124us/step - loss: 0.6948 - acc: 0.4910 - val_loss: 0.6945 - val_acc: 0.4990\n",
      "Epoch 19/20\n",
      "8192/8192 [==============================] - 1s 124us/step - loss: 0.6944 - acc: 0.4838 - val_loss: 0.6939 - val_acc: 0.5005\n",
      "Epoch 20/20\n",
      "8192/8192 [==============================] - 1s 123us/step - loss: 0.6940 - acc: 0.4860 - val_loss: 0.6938 - val_acc: 0.4902\n"
     ]
    },
    {
     "data": {
      "application/vnd.jupyter.widget-view+json": {
       "model_id": "90450675ef374a33ba267c866c3332fb",
       "version_major": 2,
       "version_minor": 0
      },
      "text/plain": [
       "HBox(children=(IntProgress(value=0, max=2048), HTML(value='')))"
      ]
     },
     "metadata": {},
     "output_type": "display_data"
    },
    {
     "name": "stdout",
     "output_type": "stream",
     "text": [
      "Fitting Feature Model: \n",
      "Epoch 1/7\n",
      "2048/2048 [==============================] - 22s 11ms/step - loss: 33.7139\n",
      "Epoch 2/7\n",
      "2048/2048 [==============================] - 22s 11ms/step - loss: 25.4837\n",
      "Epoch 3/7\n",
      "2048/2048 [==============================] - 22s 11ms/step - loss: 22.1688\n",
      "Epoch 4/7\n",
      "2048/2048 [==============================] - 22s 11ms/step - loss: 19.5049\n",
      "Epoch 5/7\n",
      "2048/2048 [==============================] - 22s 11ms/step - loss: 17.8467\n",
      "Epoch 6/7\n",
      "2048/2048 [==============================] - 22s 11ms/step - loss: 13.0999\n",
      "Epoch 7/7\n",
      "2048/2048 [==============================] - 22s 11ms/step - loss: 11.3056\n",
      "Fine tuning Distance matrix: \n"
     ]
    },
    {
     "data": {
      "application/vnd.jupyter.widget-view+json": {
       "model_id": "2914375022e6483db10a36b02d88dc0b",
       "version_major": 2,
       "version_minor": 0
      },
      "text/plain": [
       "HBox(children=(IntProgress(value=0), HTML(value='')))"
      ]
     },
     "metadata": {},
     "output_type": "display_data"
    },
    {
     "name": "stdout",
     "output_type": "stream",
     "text": [
      "---------------------------------------------------------\n",
      "\n",
      "\n",
      "\n",
      "Training Loop 3\n",
      "Fetching Data: \n"
     ]
    },
    {
     "data": {
      "application/vnd.jupyter.widget-view+json": {
       "model_id": "017f8b86a4644d6fb7e8fbde13322ed9",
       "version_major": 2,
       "version_minor": 0
      },
      "text/plain": [
       "HBox(children=(IntProgress(value=0, max=2048), HTML(value='')))"
      ]
     },
     "metadata": {},
     "output_type": "display_data"
    },
    {
     "name": "stdout",
     "output_type": "stream",
     "text": [
      "4096/4096 [==============================] - 3s 811us/step\n"
     ]
    },
    {
     "data": {
      "application/vnd.jupyter.widget-view+json": {
       "model_id": "7b7f774a8c5f41bbb6a60a30610ffa66",
       "version_major": 2,
       "version_minor": 0
      },
      "text/plain": [
       "HBox(children=(IntProgress(value=0, max=512), HTML(value='')))"
      ]
     },
     "metadata": {},
     "output_type": "display_data"
    },
    {
     "name": "stdout",
     "output_type": "stream",
     "text": [
      "1024/1024 [==============================] - 1s 809us/step\n",
      "Fitting Classifier: \n",
      "Train on 8192 samples, validate on 2048 samples\n",
      "Epoch 1/20\n",
      "8192/8192 [==============================] - 1s 102us/step - loss: 0.6939 - acc: 0.4950 - val_loss: 0.6938 - val_acc: 0.5005\n",
      "Epoch 2/20\n",
      "8192/8192 [==============================] - 1s 122us/step - loss: 0.6935 - acc: 0.4991 - val_loss: 0.6934 - val_acc: 0.5059\n",
      "Epoch 3/20\n",
      "8192/8192 [==============================] - 1s 125us/step - loss: 0.6938 - acc: 0.5010 - val_loss: 0.6941 - val_acc: 0.5054\n",
      "Epoch 4/20\n",
      "8192/8192 [==============================] - 1s 121us/step - loss: 0.6941 - acc: 0.4896 - val_loss: 0.6937 - val_acc: 0.5049\n",
      "Epoch 5/20\n",
      "8192/8192 [==============================] - 1s 123us/step - loss: 0.6934 - acc: 0.4916 - val_loss: 0.6935 - val_acc: 0.5000\n",
      "Epoch 6/20\n",
      "8192/8192 [==============================] - 1s 125us/step - loss: 0.6933 - acc: 0.4945 - val_loss: 0.6932 - val_acc: 0.5000\n",
      "Epoch 7/20\n",
      "8192/8192 [==============================] - 1s 122us/step - loss: 0.6934 - acc: 0.5046 - val_loss: 0.6933 - val_acc: 0.4883\n",
      "Epoch 8/20\n",
      "8192/8192 [==============================] - 1s 121us/step - loss: 0.6934 - acc: 0.4989 - val_loss: 0.6933 - val_acc: 0.4995\n",
      "Epoch 9/20\n",
      "8192/8192 [==============================] - 1s 124us/step - loss: 0.6932 - acc: 0.4860 - val_loss: 0.6932 - val_acc: 0.4946\n",
      "Epoch 10/20\n",
      "8192/8192 [==============================] - 1s 123us/step - loss: 0.6932 - acc: 0.4894 - val_loss: 0.6932 - val_acc: 0.4995\n",
      "Epoch 11/20\n",
      "8192/8192 [==============================] - 1s 125us/step - loss: 0.6932 - acc: 0.4899 - val_loss: 0.6932 - val_acc: 0.4946\n",
      "Epoch 12/20\n",
      "8192/8192 [==============================] - 1s 125us/step - loss: 0.6932 - acc: 0.4906 - val_loss: 0.6932 - val_acc: 0.4995\n",
      "Epoch 13/20\n",
      "8192/8192 [==============================] - 1s 121us/step - loss: 0.6932 - acc: 0.4893 - val_loss: 0.6932 - val_acc: 0.4946\n",
      "Epoch 14/20\n",
      "8192/8192 [==============================] - 1s 121us/step - loss: 0.6932 - acc: 0.4993 - val_loss: 0.6932 - val_acc: 0.4995\n",
      "Epoch 15/20\n",
      "8192/8192 [==============================] - 1s 126us/step - loss: 0.6932 - acc: 0.4935 - val_loss: 0.6933 - val_acc: 0.4980\n",
      "Epoch 16/20\n",
      "8192/8192 [==============================] - 1s 115us/step - loss: 0.6934 - acc: 0.5012 - val_loss: 0.6935 - val_acc: 0.5029\n",
      "Epoch 17/20\n",
      "8192/8192 [==============================] - 1s 124us/step - loss: 0.6937 - acc: 0.4983 - val_loss: 0.6939 - val_acc: 0.4985\n",
      "Epoch 18/20\n",
      "8192/8192 [==============================] - 1s 124us/step - loss: 0.6946 - acc: 0.4969 - val_loss: 0.6951 - val_acc: 0.4937\n",
      "Epoch 19/20\n",
      "8192/8192 [==============================] - 1s 121us/step - loss: 0.6942 - acc: 0.4899 - val_loss: 0.6946 - val_acc: 0.5049\n",
      "Epoch 20/20\n",
      "8192/8192 [==============================] - 1s 124us/step - loss: 0.6950 - acc: 0.4956 - val_loss: 0.6945 - val_acc: 0.5171\n"
     ]
    },
    {
     "data": {
      "application/vnd.jupyter.widget-view+json": {
       "model_id": "dd519a6778b040d386627103219ccd22",
       "version_major": 2,
       "version_minor": 0
      },
      "text/plain": [
       "HBox(children=(IntProgress(value=0, max=2048), HTML(value='')))"
      ]
     },
     "metadata": {},
     "output_type": "display_data"
    },
    {
     "name": "stdout",
     "output_type": "stream",
     "text": [
      "Fitting Feature Model: \n",
      "Epoch 1/7\n",
      "2048/2048 [==============================] - 22s 11ms/step - loss: 28.9408\n",
      "Epoch 2/7\n",
      "2048/2048 [==============================] - 22s 11ms/step - loss: 22.2953\n",
      "Epoch 3/7\n",
      "2048/2048 [==============================] - 22s 11ms/step - loss: 20.8268\n",
      "Epoch 4/7\n",
      "2048/2048 [==============================] - 22s 11ms/step - loss: 19.5624\n",
      "Epoch 5/7\n",
      "2048/2048 [==============================] - 22s 11ms/step - loss: 17.2396\n",
      "Epoch 6/7\n",
      "2048/2048 [==============================] - 22s 11ms/step - loss: 14.9293\n",
      "Epoch 7/7\n",
      "2048/2048 [==============================] - 22s 11ms/step - loss: 13.0590\n",
      "Fine tuning Distance matrix: \n"
     ]
    },
    {
     "data": {
      "application/vnd.jupyter.widget-view+json": {
       "model_id": "959c53b15067421b8b0d2af1892d0c7d",
       "version_major": 2,
       "version_minor": 0
      },
      "text/plain": [
       "HBox(children=(IntProgress(value=0), HTML(value='')))"
      ]
     },
     "metadata": {},
     "output_type": "display_data"
    },
    {
     "name": "stdout",
     "output_type": "stream",
     "text": [
      "---------------------------------------------------------\n",
      "\n",
      "\n",
      "\n",
      "Training Loop 4\n",
      "Fetching Data: \n"
     ]
    },
    {
     "data": {
      "application/vnd.jupyter.widget-view+json": {
       "model_id": "d88913c976d6449ab12bc39eeb3ee37a",
       "version_major": 2,
       "version_minor": 0
      },
      "text/plain": [
       "HBox(children=(IntProgress(value=0, max=2048), HTML(value='')))"
      ]
     },
     "metadata": {},
     "output_type": "display_data"
    },
    {
     "name": "stdout",
     "output_type": "stream",
     "text": [
      "4096/4096 [==============================] - 3s 811us/step\n"
     ]
    },
    {
     "data": {
      "application/vnd.jupyter.widget-view+json": {
       "model_id": "f9abef07f25943a9986f953ee8038ca4",
       "version_major": 2,
       "version_minor": 0
      },
      "text/plain": [
       "HBox(children=(IntProgress(value=0, max=512), HTML(value='')))"
      ]
     },
     "metadata": {},
     "output_type": "display_data"
    },
    {
     "name": "stdout",
     "output_type": "stream",
     "text": [
      "1024/1024 [==============================] - 1s 828us/step\n",
      "Fitting Classifier: \n",
      "Train on 8192 samples, validate on 2048 samples\n",
      "Epoch 1/20\n",
      "8192/8192 [==============================] - 1s 108us/step - loss: 0.6957 - acc: 0.4908 - val_loss: 0.6958 - val_acc: 0.5005\n",
      "Epoch 2/20\n",
      "8192/8192 [==============================] - 1s 119us/step - loss: 0.6945 - acc: 0.4937 - val_loss: 0.6939 - val_acc: 0.4976\n",
      "Epoch 3/20\n",
      "8192/8192 [==============================] - 1s 125us/step - loss: 0.6937 - acc: 0.4839 - val_loss: 0.6936 - val_acc: 0.5000\n",
      "Epoch 4/20\n",
      "8192/8192 [==============================] - 1s 124us/step - loss: 0.6937 - acc: 0.4891 - val_loss: 0.6935 - val_acc: 0.4985\n",
      "Epoch 5/20\n",
      "8192/8192 [==============================] - 1s 121us/step - loss: 0.6936 - acc: 0.4958 - val_loss: 0.6937 - val_acc: 0.4976\n",
      "Epoch 6/20\n",
      "8192/8192 [==============================] - 1s 123us/step - loss: 0.6938 - acc: 0.4968 - val_loss: 0.6937 - val_acc: 0.4966\n",
      "Epoch 7/20\n",
      "8192/8192 [==============================] - 1s 125us/step - loss: 0.6935 - acc: 0.5023 - val_loss: 0.6935 - val_acc: 0.5044\n",
      "Epoch 8/20\n",
      "8192/8192 [==============================] - 1s 126us/step - loss: 0.6935 - acc: 0.4844 - val_loss: 0.6934 - val_acc: 0.5020\n",
      "Epoch 9/20\n",
      "8192/8192 [==============================] - 1s 125us/step - loss: 0.6943 - acc: 0.5018 - val_loss: 0.6939 - val_acc: 0.5000\n",
      "Epoch 10/20\n",
      "8192/8192 [==============================] - 1s 117us/step - loss: 0.6944 - acc: 0.4945 - val_loss: 0.6954 - val_acc: 0.5044\n",
      "Epoch 11/20\n",
      "8192/8192 [==============================] - 1s 127us/step - loss: 0.6949 - acc: 0.4977 - val_loss: 0.6945 - val_acc: 0.4961\n",
      "Epoch 12/20\n",
      "8192/8192 [==============================] - 1s 124us/step - loss: 0.6947 - acc: 0.4965 - val_loss: 0.6959 - val_acc: 0.4980\n",
      "Epoch 13/20\n",
      "8192/8192 [==============================] - 1s 124us/step - loss: 0.6950 - acc: 0.4855 - val_loss: 0.6943 - val_acc: 0.5000\n",
      "Epoch 14/20\n",
      "8192/8192 [==============================] - 1s 123us/step - loss: 0.6939 - acc: 0.4928 - val_loss: 0.6936 - val_acc: 0.4917\n",
      "Epoch 15/20\n",
      "8192/8192 [==============================] - 1s 123us/step - loss: 0.6937 - acc: 0.4862 - val_loss: 0.6935 - val_acc: 0.4985\n",
      "Epoch 16/20\n",
      "8192/8192 [==============================] - 1s 123us/step - loss: 0.6936 - acc: 0.4962 - val_loss: 0.6935 - val_acc: 0.4976\n",
      "Epoch 17/20\n",
      "8192/8192 [==============================] - 1s 124us/step - loss: 0.6934 - acc: 0.4950 - val_loss: 0.6936 - val_acc: 0.4893\n",
      "Epoch 18/20\n",
      "8192/8192 [==============================] - 1s 120us/step - loss: 0.6935 - acc: 0.4961 - val_loss: 0.6934 - val_acc: 0.4951\n",
      "Epoch 19/20\n",
      "8192/8192 [==============================] - 1s 123us/step - loss: 0.6934 - acc: 0.4883 - val_loss: 0.6934 - val_acc: 0.5024\n",
      "Epoch 20/20\n",
      "8192/8192 [==============================] - 1s 125us/step - loss: 0.6933 - acc: 0.4908 - val_loss: 0.6934 - val_acc: 0.5010\n"
     ]
    },
    {
     "data": {
      "application/vnd.jupyter.widget-view+json": {
       "model_id": "643c9e24ea6740eb9fc7fb27cc77c55b",
       "version_major": 2,
       "version_minor": 0
      },
      "text/plain": [
       "HBox(children=(IntProgress(value=0, max=2048), HTML(value='')))"
      ]
     },
     "metadata": {},
     "output_type": "display_data"
    },
    {
     "name": "stdout",
     "output_type": "stream",
     "text": [
      "Fitting Feature Model: \n",
      "Epoch 1/7\n",
      "2048/2048 [==============================] - 22s 11ms/step - loss: 26.5943\n",
      "Epoch 2/7\n",
      "2048/2048 [==============================] - 22s 11ms/step - loss: 22.3690\n",
      "Epoch 3/7\n",
      "2048/2048 [==============================] - 22s 11ms/step - loss: 19.6382\n",
      "Epoch 4/7\n",
      "2048/2048 [==============================] - 22s 11ms/step - loss: 17.4658\n",
      "Epoch 5/7\n",
      "2048/2048 [==============================] - 22s 11ms/step - loss: 15.6054\n",
      "Epoch 6/7\n",
      "2048/2048 [==============================] - 22s 11ms/step - loss: 15.9434\n",
      "Epoch 7/7\n",
      "2048/2048 [==============================] - 22s 11ms/step - loss: 14.0740\n",
      "Fine tuning Distance matrix: \n"
     ]
    },
    {
     "data": {
      "application/vnd.jupyter.widget-view+json": {
       "model_id": "8bfcee9913e84cbeb444be98300316bd",
       "version_major": 2,
       "version_minor": 0
      },
      "text/plain": [
       "HBox(children=(IntProgress(value=0), HTML(value='')))"
      ]
     },
     "metadata": {},
     "output_type": "display_data"
    },
    {
     "name": "stdout",
     "output_type": "stream",
     "text": [
      "---------------------------------------------------------\n",
      "\n",
      "\n",
      "\n",
      "Training Loop 5\n",
      "Fetching Data: \n"
     ]
    },
    {
     "data": {
      "application/vnd.jupyter.widget-view+json": {
       "model_id": "c4623827747c4f32b27da27521bcf466",
       "version_major": 2,
       "version_minor": 0
      },
      "text/plain": [
       "HBox(children=(IntProgress(value=0, max=2048), HTML(value='')))"
      ]
     },
     "metadata": {},
     "output_type": "display_data"
    },
    {
     "name": "stdout",
     "output_type": "stream",
     "text": [
      "4096/4096 [==============================] - 3s 812us/step\n"
     ]
    },
    {
     "data": {
      "application/vnd.jupyter.widget-view+json": {
       "model_id": "8d55c803eb2d4b0e84af47391f6fb7a2",
       "version_major": 2,
       "version_minor": 0
      },
      "text/plain": [
       "HBox(children=(IntProgress(value=0, max=512), HTML(value='')))"
      ]
     },
     "metadata": {},
     "output_type": "display_data"
    },
    {
     "name": "stdout",
     "output_type": "stream",
     "text": [
      "1024/1024 [==============================] - 1s 828us/step\n",
      "Fitting Classifier: \n",
      "Train on 8192 samples, validate on 2048 samples\n",
      "Epoch 1/20\n",
      "8192/8192 [==============================] - 1s 103us/step - loss: 0.6942 - acc: 0.4944 - val_loss: 0.6943 - val_acc: 0.4878\n",
      "Epoch 2/20\n",
      "8192/8192 [==============================] - 1s 128us/step - loss: 0.6938 - acc: 0.4946 - val_loss: 0.6934 - val_acc: 0.5000\n",
      "Epoch 3/20\n",
      "8192/8192 [==============================] - 1s 121us/step - loss: 0.6937 - acc: 0.4950 - val_loss: 0.6937 - val_acc: 0.5029\n",
      "Epoch 4/20\n",
      "8192/8192 [==============================] - 1s 122us/step - loss: 0.6942 - acc: 0.4956 - val_loss: 0.6938 - val_acc: 0.4966\n",
      "Epoch 5/20\n",
      "8192/8192 [==============================] - 1s 118us/step - loss: 0.6939 - acc: 0.4917 - val_loss: 0.6940 - val_acc: 0.4980\n",
      "Epoch 6/20\n",
      "8192/8192 [==============================] - 1s 123us/step - loss: 0.6944 - acc: 0.4993 - val_loss: 0.6954 - val_acc: 0.5010\n",
      "Epoch 7/20\n",
      "8192/8192 [==============================] - 1s 121us/step - loss: 0.6949 - acc: 0.4993 - val_loss: 0.6947 - val_acc: 0.4985\n",
      "Epoch 8/20\n",
      "8192/8192 [==============================] - 1s 124us/step - loss: 0.6955 - acc: 0.4985 - val_loss: 0.6961 - val_acc: 0.4966\n",
      "Epoch 9/20\n",
      "8192/8192 [==============================] - 1s 123us/step - loss: 0.6952 - acc: 0.4915 - val_loss: 0.6944 - val_acc: 0.5010\n",
      "Epoch 10/20\n",
      "8192/8192 [==============================] - 1s 121us/step - loss: 0.6952 - acc: 0.4967 - val_loss: 0.6949 - val_acc: 0.5083\n",
      "Epoch 11/20\n",
      "8192/8192 [==============================] - 1s 122us/step - loss: 0.6956 - acc: 0.4950 - val_loss: 0.6949 - val_acc: 0.4976\n",
      "Epoch 12/20\n",
      "8192/8192 [==============================] - 1s 126us/step - loss: 0.6953 - acc: 0.4904 - val_loss: 0.6950 - val_acc: 0.4985\n",
      "Epoch 13/20\n",
      "8192/8192 [==============================] - 1s 121us/step - loss: 0.6949 - acc: 0.5034 - val_loss: 0.6966 - val_acc: 0.5000\n",
      "Epoch 14/20\n",
      "8192/8192 [==============================] - 1s 120us/step - loss: 0.6964 - acc: 0.4957 - val_loss: 0.6947 - val_acc: 0.5015\n",
      "Epoch 15/20\n",
      "8192/8192 [==============================] - 1s 122us/step - loss: 0.6952 - acc: 0.4948 - val_loss: 0.6940 - val_acc: 0.5010\n",
      "Epoch 16/20\n",
      "8192/8192 [==============================] - 1s 117us/step - loss: 0.6949 - acc: 0.4974 - val_loss: 0.6963 - val_acc: 0.5078\n",
      "Epoch 17/20\n",
      "8192/8192 [==============================] - 1s 113us/step - loss: 0.6961 - acc: 0.4922 - val_loss: 0.6951 - val_acc: 0.4995\n",
      "Epoch 18/20\n",
      "8192/8192 [==============================] - 1s 123us/step - loss: 0.6956 - acc: 0.4987 - val_loss: 0.6952 - val_acc: 0.5005\n",
      "Epoch 19/20\n",
      "8192/8192 [==============================] - 1s 119us/step - loss: 0.6948 - acc: 0.4868 - val_loss: 0.6938 - val_acc: 0.5005\n",
      "Epoch 20/20\n",
      "8192/8192 [==============================] - 1s 124us/step - loss: 0.6942 - acc: 0.4908 - val_loss: 0.6949 - val_acc: 0.5000\n"
     ]
    },
    {
     "data": {
      "application/vnd.jupyter.widget-view+json": {
       "model_id": "b03e306f468a4c9e8039c482287cec8b",
       "version_major": 2,
       "version_minor": 0
      },
      "text/plain": [
       "HBox(children=(IntProgress(value=0, max=2048), HTML(value='')))"
      ]
     },
     "metadata": {},
     "output_type": "display_data"
    },
    {
     "name": "stdout",
     "output_type": "stream",
     "text": [
      "Fitting Feature Model: \n",
      "Epoch 1/7\n",
      "2048/2048 [==============================] - 22s 11ms/step - loss: 24.4294\n",
      "Epoch 2/7\n",
      "2048/2048 [==============================] - 22s 11ms/step - loss: 21.9284\n",
      "Epoch 3/7\n",
      "2048/2048 [==============================] - 22s 11ms/step - loss: 20.3325\n",
      "Epoch 4/7\n",
      "2048/2048 [==============================] - 22s 11ms/step - loss: 18.0791\n",
      "Epoch 5/7\n",
      "2048/2048 [==============================] - 22s 11ms/step - loss: 15.6886\n",
      "Epoch 6/7\n",
      "2048/2048 [==============================] - 22s 11ms/step - loss: 14.0271\n",
      "Epoch 7/7\n",
      "2048/2048 [==============================] - 22s 11ms/step - loss: 12.9401\n",
      "Fine tuning Distance matrix: \n"
     ]
    },
    {
     "data": {
      "application/vnd.jupyter.widget-view+json": {
       "model_id": "ca348421ffb24932b2639f56b58eac36",
       "version_major": 2,
       "version_minor": 0
      },
      "text/plain": [
       "HBox(children=(IntProgress(value=0), HTML(value='')))"
      ]
     },
     "metadata": {},
     "output_type": "display_data"
    },
    {
     "name": "stdout",
     "output_type": "stream",
     "text": [
      "---------------------------------------------------------\n",
      "\n",
      "\n",
      "\n",
      "Training Loop 6\n",
      "Fetching Data: \n"
     ]
    },
    {
     "data": {
      "application/vnd.jupyter.widget-view+json": {
       "model_id": "cf1392e31e2e43ce8cd97b302addb7ce",
       "version_major": 2,
       "version_minor": 0
      },
      "text/plain": [
       "HBox(children=(IntProgress(value=0, max=2048), HTML(value='')))"
      ]
     },
     "metadata": {},
     "output_type": "display_data"
    },
    {
     "name": "stdout",
     "output_type": "stream",
     "text": [
      "4096/4096 [==============================] - 3s 807us/step\n"
     ]
    },
    {
     "data": {
      "application/vnd.jupyter.widget-view+json": {
       "model_id": "1597d4870c7542e18c20257a51030658",
       "version_major": 2,
       "version_minor": 0
      },
      "text/plain": [
       "HBox(children=(IntProgress(value=0, max=512), HTML(value='')))"
      ]
     },
     "metadata": {},
     "output_type": "display_data"
    },
    {
     "name": "stdout",
     "output_type": "stream",
     "text": [
      "1024/1024 [==============================] - 1s 829us/step\n",
      "Fitting Classifier: \n",
      "Train on 8192 samples, validate on 2048 samples\n",
      "Epoch 1/20\n",
      "8192/8192 [==============================] - 1s 104us/step - loss: 0.6941 - acc: 0.4843 - val_loss: 0.6936 - val_acc: 0.4932\n",
      "Epoch 2/20\n",
      "8192/8192 [==============================] - 1s 127us/step - loss: 0.6936 - acc: 0.4884 - val_loss: 0.6936 - val_acc: 0.4966\n",
      "Epoch 3/20\n",
      "8192/8192 [==============================] - 1s 128us/step - loss: 0.6936 - acc: 0.4924 - val_loss: 0.6934 - val_acc: 0.5044\n",
      "Epoch 4/20\n",
      "8192/8192 [==============================] - 1s 123us/step - loss: 0.6934 - acc: 0.4948 - val_loss: 0.6935 - val_acc: 0.5054\n",
      "Epoch 5/20\n",
      "8192/8192 [==============================] - 1s 125us/step - loss: 0.6941 - acc: 0.4948 - val_loss: 0.6938 - val_acc: 0.5039\n",
      "Epoch 6/20\n",
      "8192/8192 [==============================] - 1s 124us/step - loss: 0.6941 - acc: 0.4916 - val_loss: 0.6937 - val_acc: 0.5015\n",
      "Epoch 7/20\n",
      "8192/8192 [==============================] - 1s 125us/step - loss: 0.6938 - acc: 0.4956 - val_loss: 0.6935 - val_acc: 0.5059\n",
      "Epoch 8/20\n",
      "8192/8192 [==============================] - 1s 130us/step - loss: 0.6935 - acc: 0.4895 - val_loss: 0.6933 - val_acc: 0.5020\n",
      "Epoch 9/20\n",
      "8192/8192 [==============================] - 1s 120us/step - loss: 0.6933 - acc: 0.4886 - val_loss: 0.6933 - val_acc: 0.4927\n",
      "Epoch 10/20\n",
      "8192/8192 [==============================] - 1s 123us/step - loss: 0.6933 - acc: 0.4894 - val_loss: 0.6933 - val_acc: 0.4956\n",
      "Epoch 11/20\n",
      "8192/8192 [==============================] - 1s 126us/step - loss: 0.6935 - acc: 0.4937 - val_loss: 0.6935 - val_acc: 0.5039\n",
      "Epoch 12/20\n",
      "8192/8192 [==============================] - 1s 126us/step - loss: 0.6935 - acc: 0.4895 - val_loss: 0.6933 - val_acc: 0.5034\n",
      "Epoch 13/20\n",
      "8192/8192 [==============================] - 1s 125us/step - loss: 0.6937 - acc: 0.4969 - val_loss: 0.6943 - val_acc: 0.5000\n",
      "Epoch 14/20\n",
      "8192/8192 [==============================] - 1s 124us/step - loss: 0.6937 - acc: 0.4967 - val_loss: 0.6941 - val_acc: 0.4985\n",
      "Epoch 15/20\n",
      "8192/8192 [==============================] - 1s 125us/step - loss: 0.6951 - acc: 0.4995 - val_loss: 0.6961 - val_acc: 0.5000\n",
      "Epoch 16/20\n",
      "8192/8192 [==============================] - 1s 125us/step - loss: 0.6948 - acc: 0.5018 - val_loss: 0.6952 - val_acc: 0.4961\n",
      "Epoch 17/20\n",
      "8192/8192 [==============================] - 1s 118us/step - loss: 0.6957 - acc: 0.4963 - val_loss: 0.6954 - val_acc: 0.4907\n",
      "Epoch 18/20\n",
      "8192/8192 [==============================] - 1s 124us/step - loss: 0.6949 - acc: 0.4877 - val_loss: 0.6942 - val_acc: 0.4976\n",
      "Epoch 19/20\n",
      "8192/8192 [==============================] - 1s 123us/step - loss: 0.6955 - acc: 0.5004 - val_loss: 0.6956 - val_acc: 0.4976\n",
      "Epoch 20/20\n",
      "8192/8192 [==============================] - 1s 122us/step - loss: 0.6950 - acc: 0.4922 - val_loss: 0.6948 - val_acc: 0.5015\n"
     ]
    },
    {
     "data": {
      "application/vnd.jupyter.widget-view+json": {
       "model_id": "47bd5afbd2364acf8f2fca01b66808aa",
       "version_major": 2,
       "version_minor": 0
      },
      "text/plain": [
       "HBox(children=(IntProgress(value=0, max=2048), HTML(value='')))"
      ]
     },
     "metadata": {},
     "output_type": "display_data"
    },
    {
     "name": "stdout",
     "output_type": "stream",
     "text": [
      "Fitting Feature Model: \n",
      "Epoch 1/7\n",
      "2048/2048 [==============================] - 22s 11ms/step - loss: 23.9203\n",
      "Epoch 2/7\n",
      "2048/2048 [==============================] - 22s 11ms/step - loss: 20.5670\n",
      "Epoch 3/7\n",
      "2048/2048 [==============================] - 22s 11ms/step - loss: 20.1781\n",
      "Epoch 4/7\n",
      "2048/2048 [==============================] - 22s 11ms/step - loss: 17.4499\n",
      "Epoch 5/7\n",
      "2048/2048 [==============================] - 22s 11ms/step - loss: 15.1486\n",
      "Epoch 6/7\n",
      "2048/2048 [==============================] - 22s 11ms/step - loss: 14.8714\n",
      "Epoch 7/7\n",
      "2048/2048 [==============================] - 22s 11ms/step - loss: 13.5328\n",
      "Fine tuning Distance matrix: \n"
     ]
    },
    {
     "data": {
      "application/vnd.jupyter.widget-view+json": {
       "model_id": "04844aa546e44998b198120e0e33415d",
       "version_major": 2,
       "version_minor": 0
      },
      "text/plain": [
       "HBox(children=(IntProgress(value=0), HTML(value='')))"
      ]
     },
     "metadata": {},
     "output_type": "display_data"
    },
    {
     "name": "stdout",
     "output_type": "stream",
     "text": [
      "---------------------------------------------------------\n",
      "\n",
      "\n",
      "\n",
      "Training Loop 7\n",
      "Fetching Data: \n"
     ]
    },
    {
     "data": {
      "application/vnd.jupyter.widget-view+json": {
       "model_id": "a2f8e3c94ac44d96893023c0a378da6c",
       "version_major": 2,
       "version_minor": 0
      },
      "text/plain": [
       "HBox(children=(IntProgress(value=0, max=2048), HTML(value='')))"
      ]
     },
     "metadata": {},
     "output_type": "display_data"
    },
    {
     "name": "stdout",
     "output_type": "stream",
     "text": [
      "4096/4096 [==============================] - 3s 810us/step\n"
     ]
    },
    {
     "data": {
      "application/vnd.jupyter.widget-view+json": {
       "model_id": "ab8b14aaf2a74ad0aadc05afbb8a6fb1",
       "version_major": 2,
       "version_minor": 0
      },
      "text/plain": [
       "HBox(children=(IntProgress(value=0, max=512), HTML(value='')))"
      ]
     },
     "metadata": {},
     "output_type": "display_data"
    },
    {
     "name": "stdout",
     "output_type": "stream",
     "text": [
      "1024/1024 [==============================] - 1s 829us/step\n",
      "Fitting Classifier: \n",
      "Train on 8192 samples, validate on 2048 samples\n",
      "Epoch 1/20\n",
      "8192/8192 [==============================] - 1s 108us/step - loss: 0.6950 - acc: 0.4908 - val_loss: 0.6948 - val_acc: 0.5005\n",
      "Epoch 2/20\n",
      "8192/8192 [==============================] - 1s 120us/step - loss: 0.6956 - acc: 0.5011 - val_loss: 0.6954 - val_acc: 0.4922\n",
      "Epoch 3/20\n",
      "8192/8192 [==============================] - 1s 117us/step - loss: 0.6944 - acc: 0.4928 - val_loss: 0.6946 - val_acc: 0.5010\n",
      "Epoch 4/20\n",
      "8192/8192 [==============================] - 1s 117us/step - loss: 0.6955 - acc: 0.4929 - val_loss: 0.6956 - val_acc: 0.4893\n",
      "Epoch 5/20\n",
      "8192/8192 [==============================] - 1s 123us/step - loss: 0.6968 - acc: 0.4977 - val_loss: 0.6956 - val_acc: 0.5000\n",
      "Epoch 6/20\n",
      "8192/8192 [==============================] - 1s 120us/step - loss: 0.6951 - acc: 0.4967 - val_loss: 0.6944 - val_acc: 0.4951\n",
      "Epoch 7/20\n",
      "8192/8192 [==============================] - 1s 123us/step - loss: 0.6951 - acc: 0.4941 - val_loss: 0.6948 - val_acc: 0.5068\n",
      "Epoch 8/20\n",
      "8192/8192 [==============================] - 1s 121us/step - loss: 0.6947 - acc: 0.4974 - val_loss: 0.6955 - val_acc: 0.5015\n",
      "Epoch 9/20\n",
      "8192/8192 [==============================] - 1s 126us/step - loss: 0.6957 - acc: 0.4985 - val_loss: 0.6962 - val_acc: 0.4951\n",
      "Epoch 10/20\n",
      "8192/8192 [==============================] - 1s 123us/step - loss: 0.6973 - acc: 0.5020 - val_loss: 0.6984 - val_acc: 0.5049\n",
      "Epoch 11/20\n",
      "8192/8192 [==============================] - 1s 121us/step - loss: 0.6963 - acc: 0.4960 - val_loss: 0.6953 - val_acc: 0.5059\n",
      "Epoch 12/20\n",
      "8192/8192 [==============================] - 1s 122us/step - loss: 0.6945 - acc: 0.4926 - val_loss: 0.6957 - val_acc: 0.5000\n",
      "Epoch 13/20\n",
      "8192/8192 [==============================] - 1s 119us/step - loss: 0.6941 - acc: 0.4915 - val_loss: 0.6938 - val_acc: 0.5000\n",
      "Epoch 14/20\n",
      "8192/8192 [==============================] - 1s 120us/step - loss: 0.6936 - acc: 0.4968 - val_loss: 0.6936 - val_acc: 0.5005\n",
      "Epoch 15/20\n",
      "8192/8192 [==============================] - 1s 123us/step - loss: 0.6934 - acc: 0.5010 - val_loss: 0.6934 - val_acc: 0.5049\n",
      "Epoch 16/20\n",
      "8192/8192 [==============================] - 1s 120us/step - loss: 0.6936 - acc: 0.5004 - val_loss: 0.6935 - val_acc: 0.4990\n",
      "Epoch 17/20\n",
      "8192/8192 [==============================] - 1s 118us/step - loss: 0.6941 - acc: 0.4939 - val_loss: 0.6941 - val_acc: 0.5034\n",
      "Epoch 18/20\n",
      "8192/8192 [==============================] - 1s 123us/step - loss: 0.6946 - acc: 0.5000 - val_loss: 0.6962 - val_acc: 0.5000\n",
      "Epoch 19/20\n",
      "8192/8192 [==============================] - 1s 121us/step - loss: 0.6960 - acc: 0.4935 - val_loss: 0.6956 - val_acc: 0.4990\n",
      "Epoch 20/20\n",
      "8192/8192 [==============================] - 1s 122us/step - loss: 0.6946 - acc: 0.4993 - val_loss: 0.6954 - val_acc: 0.4976\n"
     ]
    },
    {
     "data": {
      "application/vnd.jupyter.widget-view+json": {
       "model_id": "66775163a3b44da684872f9a86f56597",
       "version_major": 2,
       "version_minor": 0
      },
      "text/plain": [
       "HBox(children=(IntProgress(value=0, max=2048), HTML(value='')))"
      ]
     },
     "metadata": {},
     "output_type": "display_data"
    },
    {
     "name": "stdout",
     "output_type": "stream",
     "text": [
      "Fitting Feature Model: \n",
      "Epoch 1/7\n",
      "2048/2048 [==============================] - 22s 11ms/step - loss: 25.0905\n",
      "Epoch 2/7\n",
      "2048/2048 [==============================] - 22s 11ms/step - loss: 19.7080\n",
      "Epoch 3/7\n",
      "2048/2048 [==============================] - 22s 11ms/step - loss: 18.0860\n",
      "Epoch 4/7\n",
      "2048/2048 [==============================] - 22s 11ms/step - loss: 15.4598\n",
      "Epoch 5/7\n",
      "2048/2048 [==============================] - 22s 11ms/step - loss: 13.1229\n",
      "Epoch 6/7\n",
      "2048/2048 [==============================] - 22s 11ms/step - loss: 12.1926\n",
      "Epoch 7/7\n",
      "2048/2048 [==============================] - 22s 11ms/step - loss: 11.1291\n",
      "Fine tuning Distance matrix: \n"
     ]
    },
    {
     "data": {
      "application/vnd.jupyter.widget-view+json": {
       "model_id": "1146d2863ade421bad98d3516dafcf1e",
       "version_major": 2,
       "version_minor": 0
      },
      "text/plain": [
       "HBox(children=(IntProgress(value=0), HTML(value='')))"
      ]
     },
     "metadata": {},
     "output_type": "display_data"
    },
    {
     "name": "stdout",
     "output_type": "stream",
     "text": [
      "---------------------------------------------------------\n",
      "\n",
      "\n",
      "\n",
      "Training Loop 8\n",
      "Fetching Data: \n"
     ]
    },
    {
     "data": {
      "application/vnd.jupyter.widget-view+json": {
       "model_id": "48ac786d567b4dc5b9653514f3f9b802",
       "version_major": 2,
       "version_minor": 0
      },
      "text/plain": [
       "HBox(children=(IntProgress(value=0, max=2048), HTML(value='')))"
      ]
     },
     "metadata": {},
     "output_type": "display_data"
    },
    {
     "name": "stdout",
     "output_type": "stream",
     "text": [
      "4096/4096 [==============================] - 3s 804us/step\n"
     ]
    },
    {
     "data": {
      "application/vnd.jupyter.widget-view+json": {
       "model_id": "187df333400c47639e19bc7cabfc64ed",
       "version_major": 2,
       "version_minor": 0
      },
      "text/plain": [
       "HBox(children=(IntProgress(value=0, max=512), HTML(value='')))"
      ]
     },
     "metadata": {},
     "output_type": "display_data"
    },
    {
     "name": "stdout",
     "output_type": "stream",
     "text": [
      "1024/1024 [==============================] - 1s 827us/step\n",
      "Fitting Classifier: \n",
      "Train on 8192 samples, validate on 2048 samples\n",
      "Epoch 1/20\n",
      "8192/8192 [==============================] - 1s 106us/step - loss: 0.6949 - acc: 0.4943 - val_loss: 0.6953 - val_acc: 0.5112\n",
      "Epoch 2/20\n",
      "8192/8192 [==============================] - 1s 122us/step - loss: 0.6962 - acc: 0.4977 - val_loss: 0.6951 - val_acc: 0.5005\n",
      "Epoch 3/20\n",
      "8192/8192 [==============================] - 1s 119us/step - loss: 0.6958 - acc: 0.4939 - val_loss: 0.6955 - val_acc: 0.5073\n",
      "Epoch 4/20\n",
      "8192/8192 [==============================] - 1s 121us/step - loss: 0.6958 - acc: 0.4994 - val_loss: 0.6951 - val_acc: 0.5127\n",
      "Epoch 5/20\n",
      "8192/8192 [==============================] - 1s 121us/step - loss: 0.6953 - acc: 0.4924 - val_loss: 0.6941 - val_acc: 0.5039\n",
      "Epoch 6/20\n",
      "8192/8192 [==============================] - 1s 123us/step - loss: 0.6953 - acc: 0.4983 - val_loss: 0.6963 - val_acc: 0.5000\n",
      "Epoch 7/20\n",
      "8192/8192 [==============================] - 1s 125us/step - loss: 0.6964 - acc: 0.4867 - val_loss: 0.6956 - val_acc: 0.5034\n",
      "Epoch 8/20\n",
      "8192/8192 [==============================] - 1s 127us/step - loss: 0.6947 - acc: 0.4993 - val_loss: 0.6940 - val_acc: 0.5000\n",
      "Epoch 9/20\n",
      "8192/8192 [==============================] - 1s 121us/step - loss: 0.6945 - acc: 0.4934 - val_loss: 0.6947 - val_acc: 0.5034\n",
      "Epoch 10/20\n",
      "8192/8192 [==============================] - 1s 124us/step - loss: 0.6938 - acc: 0.4966 - val_loss: 0.6936 - val_acc: 0.4971\n",
      "Epoch 11/20\n",
      "8192/8192 [==============================] - 1s 121us/step - loss: 0.6936 - acc: 0.4902 - val_loss: 0.6935 - val_acc: 0.5020\n",
      "Epoch 12/20\n",
      "8192/8192 [==============================] - 1s 121us/step - loss: 0.6935 - acc: 0.4973 - val_loss: 0.6934 - val_acc: 0.4990\n",
      "Epoch 13/20\n",
      "8192/8192 [==============================] - 1s 124us/step - loss: 0.6934 - acc: 0.5011 - val_loss: 0.6935 - val_acc: 0.5034\n",
      "Epoch 14/20\n",
      "8192/8192 [==============================] - 1s 125us/step - loss: 0.6935 - acc: 0.5057 - val_loss: 0.6943 - val_acc: 0.4966\n",
      "Epoch 15/20\n",
      "8192/8192 [==============================] - 1s 122us/step - loss: 0.6949 - acc: 0.4991 - val_loss: 0.6947 - val_acc: 0.4893\n",
      "Epoch 16/20\n",
      "8192/8192 [==============================] - 1s 124us/step - loss: 0.6947 - acc: 0.4998 - val_loss: 0.6945 - val_acc: 0.4956\n",
      "Epoch 17/20\n",
      "8192/8192 [==============================] - 1s 128us/step - loss: 0.6942 - acc: 0.4939 - val_loss: 0.6941 - val_acc: 0.4995\n",
      "Epoch 18/20\n",
      "8192/8192 [==============================] - 1s 124us/step - loss: 0.6944 - acc: 0.4948 - val_loss: 0.6937 - val_acc: 0.5024\n",
      "Epoch 19/20\n",
      "8192/8192 [==============================] - 1s 123us/step - loss: 0.6939 - acc: 0.5073 - val_loss: 0.6949 - val_acc: 0.5010\n",
      "Epoch 20/20\n",
      "8192/8192 [==============================] - 1s 123us/step - loss: 0.6944 - acc: 0.4955 - val_loss: 0.6940 - val_acc: 0.5024\n"
     ]
    },
    {
     "data": {
      "application/vnd.jupyter.widget-view+json": {
       "model_id": "4fb19d0ee8b64ee9b686b69e21d35b82",
       "version_major": 2,
       "version_minor": 0
      },
      "text/plain": [
       "HBox(children=(IntProgress(value=0, max=2048), HTML(value='')))"
      ]
     },
     "metadata": {},
     "output_type": "display_data"
    },
    {
     "name": "stdout",
     "output_type": "stream",
     "text": [
      "Fitting Feature Model: \n",
      "Epoch 1/7\n",
      "2048/2048 [==============================] - 22s 11ms/step - loss: 26.1422\n",
      "Epoch 2/7\n",
      "2048/2048 [==============================] - 22s 11ms/step - loss: 19.3310\n",
      "Epoch 3/7\n",
      "2048/2048 [==============================] - 22s 11ms/step - loss: 16.8124\n",
      "Epoch 4/7\n",
      "2048/2048 [==============================] - 22s 11ms/step - loss: 15.9515\n",
      "Epoch 5/7\n",
      "2048/2048 [==============================] - 22s 11ms/step - loss: 14.7290\n",
      "Epoch 6/7\n",
      "2048/2048 [==============================] - 22s 11ms/step - loss: 13.0581\n",
      "Epoch 7/7\n",
      "2048/2048 [==============================] - 22s 11ms/step - loss: 11.1628\n",
      "Fine tuning Distance matrix: \n"
     ]
    },
    {
     "data": {
      "application/vnd.jupyter.widget-view+json": {
       "model_id": "a19af08fd0e047b396d2c97c5fc8f0ca",
       "version_major": 2,
       "version_minor": 0
      },
      "text/plain": [
       "HBox(children=(IntProgress(value=0), HTML(value='')))"
      ]
     },
     "metadata": {},
     "output_type": "display_data"
    },
    {
     "name": "stdout",
     "output_type": "stream",
     "text": [
      "---------------------------------------------------------\n",
      "\n",
      "\n",
      "\n",
      "Training Loop 9\n",
      "Fetching Data: \n"
     ]
    },
    {
     "data": {
      "application/vnd.jupyter.widget-view+json": {
       "model_id": "38e26bfbb2c947cd84d8f177290a9b19",
       "version_major": 2,
       "version_minor": 0
      },
      "text/plain": [
       "HBox(children=(IntProgress(value=0, max=2048), HTML(value='')))"
      ]
     },
     "metadata": {},
     "output_type": "display_data"
    },
    {
     "name": "stdout",
     "output_type": "stream",
     "text": [
      "4096/4096 [==============================] - 3s 815us/step\n"
     ]
    },
    {
     "data": {
      "application/vnd.jupyter.widget-view+json": {
       "model_id": "599b5a26f457445ca10c0707aa45f986",
       "version_major": 2,
       "version_minor": 0
      },
      "text/plain": [
       "HBox(children=(IntProgress(value=0, max=512), HTML(value='')))"
      ]
     },
     "metadata": {},
     "output_type": "display_data"
    },
    {
     "name": "stdout",
     "output_type": "stream",
     "text": [
      "1024/1024 [==============================] - 1s 819us/step\n",
      "Fitting Classifier: \n",
      "Train on 8192 samples, validate on 2048 samples\n",
      "Epoch 1/20\n",
      "8192/8192 [==============================] - 1s 101us/step - loss: 0.6942 - acc: 0.4955 - val_loss: 0.6940 - val_acc: 0.5024\n",
      "Epoch 2/20\n",
      "8192/8192 [==============================] - 1s 124us/step - loss: 0.6942 - acc: 0.4979 - val_loss: 0.6939 - val_acc: 0.4985\n",
      "Epoch 3/20\n",
      "8192/8192 [==============================] - 1s 120us/step - loss: 0.6938 - acc: 0.4993 - val_loss: 0.6936 - val_acc: 0.5000\n",
      "Epoch 4/20\n",
      "8192/8192 [==============================] - 1s 122us/step - loss: 0.6937 - acc: 0.4983 - val_loss: 0.6933 - val_acc: 0.5000\n",
      "Epoch 5/20\n",
      "8192/8192 [==============================] - 1s 120us/step - loss: 0.6934 - acc: 0.4965 - val_loss: 0.6933 - val_acc: 0.4961\n",
      "Epoch 6/20\n",
      "8192/8192 [==============================] - 1s 126us/step - loss: 0.6934 - acc: 0.5007 - val_loss: 0.6936 - val_acc: 0.4897\n",
      "Epoch 7/20\n",
      "8192/8192 [==============================] - 1s 118us/step - loss: 0.6938 - acc: 0.5007 - val_loss: 0.6952 - val_acc: 0.4995\n",
      "Epoch 8/20\n",
      "8192/8192 [==============================] - 1s 121us/step - loss: 0.6971 - acc: 0.5009 - val_loss: 0.6957 - val_acc: 0.5015\n",
      "Epoch 9/20\n",
      "8192/8192 [==============================] - 1s 120us/step - loss: 0.6959 - acc: 0.4968 - val_loss: 0.6950 - val_acc: 0.4810\n",
      "Epoch 10/20\n",
      "8192/8192 [==============================] - 1s 121us/step - loss: 0.6945 - acc: 0.5023 - val_loss: 0.6938 - val_acc: 0.4990\n",
      "Epoch 11/20\n",
      "8192/8192 [==============================] - 1s 122us/step - loss: 0.6937 - acc: 0.4927 - val_loss: 0.6933 - val_acc: 0.5000\n",
      "Epoch 12/20\n",
      "8192/8192 [==============================] - 1s 122us/step - loss: 0.6934 - acc: 0.4966 - val_loss: 0.6934 - val_acc: 0.4995\n",
      "Epoch 13/20\n",
      "8192/8192 [==============================] - 1s 121us/step - loss: 0.6934 - acc: 0.4987 - val_loss: 0.6935 - val_acc: 0.4946\n",
      "Epoch 14/20\n",
      "8192/8192 [==============================] - 1s 124us/step - loss: 0.6933 - acc: 0.4963 - val_loss: 0.6933 - val_acc: 0.5054\n",
      "Epoch 15/20\n",
      "8192/8192 [==============================] - 1s 125us/step - loss: 0.6936 - acc: 0.5062 - val_loss: 0.6946 - val_acc: 0.5034\n",
      "Epoch 16/20\n",
      "8192/8192 [==============================] - 1s 124us/step - loss: 0.6958 - acc: 0.4938 - val_loss: 0.6965 - val_acc: 0.5029\n",
      "Epoch 17/20\n",
      "8192/8192 [==============================] - 1s 120us/step - loss: 0.6949 - acc: 0.4906 - val_loss: 0.6946 - val_acc: 0.5000\n",
      "Epoch 18/20\n",
      "8192/8192 [==============================] - 1s 124us/step - loss: 0.6942 - acc: 0.4917 - val_loss: 0.6935 - val_acc: 0.5020\n",
      "Epoch 19/20\n",
      "8192/8192 [==============================] - 1s 125us/step - loss: 0.6934 - acc: 0.4878 - val_loss: 0.6933 - val_acc: 0.5015\n",
      "Epoch 20/20\n",
      "8192/8192 [==============================] - 1s 120us/step - loss: 0.6933 - acc: 0.4912 - val_loss: 0.6933 - val_acc: 0.4976\n"
     ]
    },
    {
     "data": {
      "application/vnd.jupyter.widget-view+json": {
       "model_id": "cc9f6fe17648432ab6a78d37515ad536",
       "version_major": 2,
       "version_minor": 0
      },
      "text/plain": [
       "HBox(children=(IntProgress(value=0, max=2048), HTML(value='')))"
      ]
     },
     "metadata": {},
     "output_type": "display_data"
    },
    {
     "name": "stdout",
     "output_type": "stream",
     "text": [
      "Fitting Feature Model: \n",
      "Epoch 1/7\n",
      "2048/2048 [==============================] - 22s 11ms/step - loss: 24.7105\n",
      "Epoch 2/7\n",
      "2048/2048 [==============================] - 22s 11ms/step - loss: 19.2252\n",
      "Epoch 3/7\n",
      "2048/2048 [==============================] - 22s 11ms/step - loss: 17.1236\n",
      "Epoch 4/7\n",
      "2048/2048 [==============================] - 22s 11ms/step - loss: 14.5130\n",
      "Epoch 5/7\n",
      "2048/2048 [==============================] - 22s 11ms/step - loss: 13.8688\n",
      "Epoch 6/7\n",
      "2048/2048 [==============================] - 22s 11ms/step - loss: 11.2937\n",
      "Epoch 7/7\n",
      "2048/2048 [==============================] - 22s 11ms/step - loss: 11.2365\n",
      "Fine tuning Distance matrix: \n"
     ]
    },
    {
     "data": {
      "application/vnd.jupyter.widget-view+json": {
       "model_id": "788a267194ab48be88ada49f5860ca52",
       "version_major": 2,
       "version_minor": 0
      },
      "text/plain": [
       "HBox(children=(IntProgress(value=0), HTML(value='')))"
      ]
     },
     "metadata": {},
     "output_type": "display_data"
    },
    {
     "name": "stdout",
     "output_type": "stream",
     "text": [
      "---------------------------------------------------------\n",
      "\n",
      "\n",
      "\n",
      "Training Loop 10\n",
      "Fetching Data: \n"
     ]
    },
    {
     "data": {
      "application/vnd.jupyter.widget-view+json": {
       "model_id": "f4f50a4c92424a099097a59f1e4e3d22",
       "version_major": 2,
       "version_minor": 0
      },
      "text/plain": [
       "HBox(children=(IntProgress(value=0, max=2048), HTML(value='')))"
      ]
     },
     "metadata": {},
     "output_type": "display_data"
    },
    {
     "name": "stdout",
     "output_type": "stream",
     "text": [
      "4096/4096 [==============================] - 3s 811us/step\n"
     ]
    },
    {
     "data": {
      "application/vnd.jupyter.widget-view+json": {
       "model_id": "16f4b5927c7e4fc89c1dd4234d7e3838",
       "version_major": 2,
       "version_minor": 0
      },
      "text/plain": [
       "HBox(children=(IntProgress(value=0, max=512), HTML(value='')))"
      ]
     },
     "metadata": {},
     "output_type": "display_data"
    },
    {
     "name": "stdout",
     "output_type": "stream",
     "text": [
      "1024/1024 [==============================] - 1s 821us/step\n",
      "Fitting Classifier: \n",
      "Train on 8192 samples, validate on 2048 samples\n",
      "Epoch 1/20\n",
      "8192/8192 [==============================] - 1s 104us/step - loss: 0.6944 - acc: 0.5033 - val_loss: 0.6953 - val_acc: 0.4995\n",
      "Epoch 2/20\n",
      "8192/8192 [==============================] - 1s 119us/step - loss: 0.6944 - acc: 0.5023 - val_loss: 0.6944 - val_acc: 0.5024\n",
      "Epoch 3/20\n",
      "8192/8192 [==============================] - 1s 121us/step - loss: 0.6943 - acc: 0.4956 - val_loss: 0.6944 - val_acc: 0.5156\n",
      "Epoch 4/20\n",
      "8192/8192 [==============================] - 1s 122us/step - loss: 0.6950 - acc: 0.4932 - val_loss: 0.6945 - val_acc: 0.5088\n",
      "Epoch 5/20\n",
      "8192/8192 [==============================] - 1s 120us/step - loss: 0.6953 - acc: 0.5018 - val_loss: 0.6945 - val_acc: 0.5020\n",
      "Epoch 6/20\n",
      "8192/8192 [==============================] - 1s 124us/step - loss: 0.6952 - acc: 0.5002 - val_loss: 0.6950 - val_acc: 0.4971\n",
      "Epoch 7/20\n",
      "8192/8192 [==============================] - 1s 117us/step - loss: 0.6939 - acc: 0.4873 - val_loss: 0.6935 - val_acc: 0.5020\n",
      "Epoch 8/20\n",
      "8192/8192 [==============================] - 1s 124us/step - loss: 0.6933 - acc: 0.4869 - val_loss: 0.6932 - val_acc: 0.5000\n",
      "Epoch 9/20\n",
      "8192/8192 [==============================] - 1s 122us/step - loss: 0.6932 - acc: 0.5035 - val_loss: 0.6933 - val_acc: 0.5000\n",
      "Epoch 10/20\n",
      "8192/8192 [==============================] - 1s 122us/step - loss: 0.6933 - acc: 0.5029 - val_loss: 0.6933 - val_acc: 0.5068\n",
      "Epoch 11/20\n",
      "8192/8192 [==============================] - 1s 127us/step - loss: 0.6934 - acc: 0.4978 - val_loss: 0.6934 - val_acc: 0.5000\n",
      "Epoch 12/20\n",
      "8192/8192 [==============================] - 1s 122us/step - loss: 0.6935 - acc: 0.4897 - val_loss: 0.6933 - val_acc: 0.4995\n",
      "Epoch 13/20\n",
      "8192/8192 [==============================] - 1s 124us/step - loss: 0.6934 - acc: 0.4955 - val_loss: 0.6936 - val_acc: 0.5024\n",
      "Epoch 14/20\n",
      "8192/8192 [==============================] - 1s 122us/step - loss: 0.6934 - acc: 0.4901 - val_loss: 0.6932 - val_acc: 0.4922\n",
      "Epoch 15/20\n",
      "8192/8192 [==============================] - 1s 121us/step - loss: 0.6932 - acc: 0.4886 - val_loss: 0.6932 - val_acc: 0.5059\n",
      "Epoch 16/20\n",
      "8192/8192 [==============================] - 1s 122us/step - loss: 0.6933 - acc: 0.5037 - val_loss: 0.6933 - val_acc: 0.5000\n",
      "Epoch 17/20\n",
      "8192/8192 [==============================] - 1s 119us/step - loss: 0.6940 - acc: 0.4939 - val_loss: 0.6944 - val_acc: 0.5078\n",
      "Epoch 18/20\n",
      "8192/8192 [==============================] - 1s 121us/step - loss: 0.6939 - acc: 0.5007 - val_loss: 0.6937 - val_acc: 0.4995\n",
      "Epoch 19/20\n",
      "8192/8192 [==============================] - 1s 123us/step - loss: 0.6938 - acc: 0.4958 - val_loss: 0.6941 - val_acc: 0.5010\n",
      "Epoch 20/20\n",
      "8192/8192 [==============================] - 1s 120us/step - loss: 0.6943 - acc: 0.4927 - val_loss: 0.6948 - val_acc: 0.5000\n"
     ]
    },
    {
     "data": {
      "application/vnd.jupyter.widget-view+json": {
       "model_id": "89d8599d8fcb4ce0a7b008ae8c0767db",
       "version_major": 2,
       "version_minor": 0
      },
      "text/plain": [
       "HBox(children=(IntProgress(value=0, max=2048), HTML(value='')))"
      ]
     },
     "metadata": {},
     "output_type": "display_data"
    },
    {
     "name": "stdout",
     "output_type": "stream",
     "text": [
      "Fitting Feature Model: \n",
      "Epoch 1/7\n",
      "2048/2048 [==============================] - 22s 11ms/step - loss: 25.2424\n",
      "Epoch 2/7\n",
      "2048/2048 [==============================] - 22s 11ms/step - loss: 20.2803\n",
      "Epoch 3/7\n",
      "2048/2048 [==============================] - 22s 11ms/step - loss: 18.0580\n",
      "Epoch 4/7\n",
      "2048/2048 [==============================] - 22s 11ms/step - loss: 15.6779\n",
      "Epoch 5/7\n",
      "2048/2048 [==============================] - 22s 11ms/step - loss: 14.3892\n",
      "Epoch 6/7\n",
      "2048/2048 [==============================] - 22s 11ms/step - loss: 14.3586\n",
      "Epoch 7/7\n",
      "2048/2048 [==============================] - 22s 11ms/step - loss: 12.2494\n",
      "Fine tuning Distance matrix: \n"
     ]
    },
    {
     "data": {
      "application/vnd.jupyter.widget-view+json": {
       "model_id": "fadd7d738c85410ebc6a22a5be065098",
       "version_major": 2,
       "version_minor": 0
      },
      "text/plain": [
       "HBox(children=(IntProgress(value=0), HTML(value='')))"
      ]
     },
     "metadata": {},
     "output_type": "display_data"
    },
    {
     "name": "stdout",
     "output_type": "stream",
     "text": [
      "---------------------------------------------------------\n",
      "\n",
      "\n",
      "\n",
      "Training Loop 11\n",
      "Fetching Data: \n"
     ]
    },
    {
     "data": {
      "application/vnd.jupyter.widget-view+json": {
       "model_id": "1566a0411e004dd6878f3dfcb3e1eecf",
       "version_major": 2,
       "version_minor": 0
      },
      "text/plain": [
       "HBox(children=(IntProgress(value=0, max=2048), HTML(value='')))"
      ]
     },
     "metadata": {},
     "output_type": "display_data"
    },
    {
     "name": "stdout",
     "output_type": "stream",
     "text": [
      "4096/4096 [==============================] - 3s 808us/step\n"
     ]
    },
    {
     "data": {
      "application/vnd.jupyter.widget-view+json": {
       "model_id": "dec566c4236b4e569c30a8d8d269590d",
       "version_major": 2,
       "version_minor": 0
      },
      "text/plain": [
       "HBox(children=(IntProgress(value=0, max=512), HTML(value='')))"
      ]
     },
     "metadata": {},
     "output_type": "display_data"
    },
    {
     "name": "stdout",
     "output_type": "stream",
     "text": [
      "1024/1024 [==============================] - 1s 820us/step\n",
      "Fitting Classifier: \n",
      "Train on 8192 samples, validate on 2048 samples\n",
      "Epoch 1/20\n",
      "8192/8192 [==============================] - 1s 101us/step - loss: 0.6941 - acc: 0.5034 - val_loss: 0.6946 - val_acc: 0.5015\n",
      "Epoch 2/20\n",
      "8192/8192 [==============================] - 1s 121us/step - loss: 0.6943 - acc: 0.4984 - val_loss: 0.6949 - val_acc: 0.4966\n",
      "Epoch 3/20\n",
      "8192/8192 [==============================] - 1s 122us/step - loss: 0.6946 - acc: 0.4926 - val_loss: 0.6945 - val_acc: 0.4976\n",
      "Epoch 4/20\n",
      "8192/8192 [==============================] - 1s 124us/step - loss: 0.6940 - acc: 0.4977 - val_loss: 0.6937 - val_acc: 0.5005\n",
      "Epoch 5/20\n",
      "8192/8192 [==============================] - 1s 123us/step - loss: 0.6935 - acc: 0.4968 - val_loss: 0.6934 - val_acc: 0.5000\n",
      "Epoch 6/20\n",
      "8192/8192 [==============================] - 1s 122us/step - loss: 0.6934 - acc: 0.4967 - val_loss: 0.6933 - val_acc: 0.5000\n",
      "Epoch 7/20\n",
      "8192/8192 [==============================] - 1s 121us/step - loss: 0.6936 - acc: 0.4960 - val_loss: 0.6933 - val_acc: 0.5039\n",
      "Epoch 8/20\n",
      "8192/8192 [==============================] - 1s 123us/step - loss: 0.6933 - acc: 0.4906 - val_loss: 0.6932 - val_acc: 0.5000\n",
      "Epoch 9/20\n",
      "8192/8192 [==============================] - 1s 122us/step - loss: 0.6933 - acc: 0.5015 - val_loss: 0.6933 - val_acc: 0.5015\n",
      "Epoch 10/20\n",
      "8192/8192 [==============================] - 1s 124us/step - loss: 0.6935 - acc: 0.4994 - val_loss: 0.6934 - val_acc: 0.5000\n",
      "Epoch 11/20\n",
      "8192/8192 [==============================] - 1s 125us/step - loss: 0.6932 - acc: 0.4983 - val_loss: 0.6932 - val_acc: 0.5000\n",
      "Epoch 12/20\n",
      "8192/8192 [==============================] - 1s 124us/step - loss: 0.6933 - acc: 0.4921 - val_loss: 0.6934 - val_acc: 0.5039\n",
      "Epoch 13/20\n",
      "8192/8192 [==============================] - 1s 122us/step - loss: 0.6934 - acc: 0.4985 - val_loss: 0.6932 - val_acc: 0.5015\n",
      "Epoch 14/20\n",
      "8192/8192 [==============================] - 1s 128us/step - loss: 0.6932 - acc: 0.4927 - val_loss: 0.6932 - val_acc: 0.4976\n",
      "Epoch 15/20\n",
      "8192/8192 [==============================] - 1s 125us/step - loss: 0.6932 - acc: 0.4969 - val_loss: 0.6932 - val_acc: 0.4995\n",
      "Epoch 16/20\n",
      "8192/8192 [==============================] - 1s 122us/step - loss: 0.6933 - acc: 0.4969 - val_loss: 0.6933 - val_acc: 0.4917\n",
      "Epoch 17/20\n",
      "8192/8192 [==============================] - 1s 126us/step - loss: 0.6936 - acc: 0.5010 - val_loss: 0.6940 - val_acc: 0.4927\n",
      "Epoch 18/20\n",
      "8192/8192 [==============================] - 1s 128us/step - loss: 0.6938 - acc: 0.5007 - val_loss: 0.6966 - val_acc: 0.4966\n",
      "Epoch 19/20\n",
      "8192/8192 [==============================] - 1s 125us/step - loss: 0.6994 - acc: 0.5043 - val_loss: 0.6978 - val_acc: 0.5000\n",
      "Epoch 20/20\n",
      "8192/8192 [==============================] - 1s 123us/step - loss: 0.6960 - acc: 0.5037 - val_loss: 0.6944 - val_acc: 0.4995\n"
     ]
    },
    {
     "data": {
      "application/vnd.jupyter.widget-view+json": {
       "model_id": "b619fe3c07684101a4c9bef0eb48281b",
       "version_major": 2,
       "version_minor": 0
      },
      "text/plain": [
       "HBox(children=(IntProgress(value=0, max=2048), HTML(value='')))"
      ]
     },
     "metadata": {},
     "output_type": "display_data"
    },
    {
     "name": "stdout",
     "output_type": "stream",
     "text": [
      "Fitting Feature Model: \n",
      "Epoch 1/7\n",
      "2048/2048 [==============================] - 22s 11ms/step - loss: 24.9885\n",
      "Epoch 2/7\n",
      "2048/2048 [==============================] - 22s 11ms/step - loss: 19.2474\n",
      "Epoch 3/7\n",
      "2048/2048 [==============================] - 22s 11ms/step - loss: 17.0454\n",
      "Epoch 4/7\n",
      "2048/2048 [==============================] - 22s 11ms/step - loss: 15.6801\n",
      "Epoch 5/7\n",
      "2048/2048 [==============================] - 22s 11ms/step - loss: 14.4551\n",
      "Epoch 6/7\n",
      "2048/2048 [==============================] - 22s 11ms/step - loss: 13.4765\n",
      "Epoch 7/7\n",
      "2048/2048 [==============================] - 22s 11ms/step - loss: 10.5241\n",
      "Fine tuning Distance matrix: \n"
     ]
    },
    {
     "data": {
      "application/vnd.jupyter.widget-view+json": {
       "model_id": "119b244c737746b380227075f0e2aef7",
       "version_major": 2,
       "version_minor": 0
      },
      "text/plain": [
       "HBox(children=(IntProgress(value=0), HTML(value='')))"
      ]
     },
     "metadata": {},
     "output_type": "display_data"
    },
    {
     "name": "stdout",
     "output_type": "stream",
     "text": [
      "---------------------------------------------------------\n",
      "\n",
      "\n",
      "\n",
      "Training Loop 12\n",
      "Fetching Data: \n"
     ]
    },
    {
     "data": {
      "application/vnd.jupyter.widget-view+json": {
       "model_id": "331e6f054d624829a1314d797730528c",
       "version_major": 2,
       "version_minor": 0
      },
      "text/plain": [
       "HBox(children=(IntProgress(value=0, max=2048), HTML(value='')))"
      ]
     },
     "metadata": {},
     "output_type": "display_data"
    },
    {
     "name": "stdout",
     "output_type": "stream",
     "text": [
      "4096/4096 [==============================] - 3s 821us/step\n"
     ]
    },
    {
     "data": {
      "application/vnd.jupyter.widget-view+json": {
       "model_id": "0a8216b7fac349d5b94f065f6204c9e6",
       "version_major": 2,
       "version_minor": 0
      },
      "text/plain": [
       "HBox(children=(IntProgress(value=0, max=512), HTML(value='')))"
      ]
     },
     "metadata": {},
     "output_type": "display_data"
    },
    {
     "name": "stdout",
     "output_type": "stream",
     "text": [
      "1024/1024 [==============================] - 1s 823us/step\n",
      "Fitting Classifier: \n",
      "Train on 8192 samples, validate on 2048 samples\n",
      "Epoch 1/20\n",
      "8192/8192 [==============================] - 1s 107us/step - loss: 0.6955 - acc: 0.4923 - val_loss: 0.6955 - val_acc: 0.4971\n",
      "Epoch 2/20\n",
      "8192/8192 [==============================] - 1s 125us/step - loss: 0.6965 - acc: 0.4971 - val_loss: 0.6961 - val_acc: 0.5000\n",
      "Epoch 3/20\n",
      "8192/8192 [==============================] - 1s 122us/step - loss: 0.6956 - acc: 0.4945 - val_loss: 0.6945 - val_acc: 0.5000\n",
      "Epoch 4/20\n",
      "8192/8192 [==============================] - 1s 118us/step - loss: 0.6942 - acc: 0.4919 - val_loss: 0.6934 - val_acc: 0.5000\n",
      "Epoch 5/20\n",
      "8192/8192 [==============================] - 1s 121us/step - loss: 0.6938 - acc: 0.5009 - val_loss: 0.6937 - val_acc: 0.5039\n",
      "Epoch 6/20\n",
      "8192/8192 [==============================] - 1s 121us/step - loss: 0.6936 - acc: 0.4868 - val_loss: 0.6932 - val_acc: 0.5000\n",
      "Epoch 7/20\n",
      "8192/8192 [==============================] - 1s 127us/step - loss: 0.6932 - acc: 0.4890 - val_loss: 0.6932 - val_acc: 0.4990\n",
      "Epoch 8/20\n",
      "8192/8192 [==============================] - 1s 121us/step - loss: 0.6932 - acc: 0.4969 - val_loss: 0.6932 - val_acc: 0.5000\n",
      "Epoch 9/20\n",
      "8192/8192 [==============================] - 1s 124us/step - loss: 0.6932 - acc: 0.4972 - val_loss: 0.6932 - val_acc: 0.5059\n",
      "Epoch 10/20\n",
      "8192/8192 [==============================] - 1s 121us/step - loss: 0.6932 - acc: 0.5000 - val_loss: 0.6932 - val_acc: 0.5000\n",
      "Epoch 11/20\n",
      "8192/8192 [==============================] - 1s 122us/step - loss: 0.6932 - acc: 0.4857 - val_loss: 0.6931 - val_acc: 0.5000\n",
      "Epoch 12/20\n",
      "8192/8192 [==============================] - 1s 120us/step - loss: 0.6931 - acc: 0.4973 - val_loss: 0.6932 - val_acc: 0.5000\n",
      "Epoch 13/20\n",
      "8192/8192 [==============================] - 1s 119us/step - loss: 0.6932 - acc: 0.4952 - val_loss: 0.6932 - val_acc: 0.5000\n",
      "Epoch 14/20\n",
      "8192/8192 [==============================] - 1s 123us/step - loss: 0.6932 - acc: 0.4921 - val_loss: 0.6932 - val_acc: 0.5000\n",
      "Epoch 15/20\n",
      "8192/8192 [==============================] - 1s 122us/step - loss: 0.6931 - acc: 0.4982 - val_loss: 0.6931 - val_acc: 0.5000\n",
      "Epoch 16/20\n",
      "8192/8192 [==============================] - 1s 124us/step - loss: 0.6931 - acc: 0.4935 - val_loss: 0.6931 - val_acc: 0.5000\n",
      "Epoch 17/20\n",
      "8192/8192 [==============================] - 1s 122us/step - loss: 0.6931 - acc: 0.4932 - val_loss: 0.6931 - val_acc: 0.5000\n",
      "Epoch 18/20\n",
      "8192/8192 [==============================] - 1s 122us/step - loss: 0.6931 - acc: 0.5000 - val_loss: 0.6931 - val_acc: 0.5000\n",
      "Epoch 19/20\n",
      "8192/8192 [==============================] - 1s 122us/step - loss: 0.6931 - acc: 0.4910 - val_loss: 0.6931 - val_acc: 0.5000\n",
      "Epoch 20/20\n",
      "8192/8192 [==============================] - 1s 120us/step - loss: 0.6931 - acc: 0.4946 - val_loss: 0.6931 - val_acc: 0.5000\n"
     ]
    },
    {
     "data": {
      "application/vnd.jupyter.widget-view+json": {
       "model_id": "aedde471370543f49001e5f7a2c0fefa",
       "version_major": 2,
       "version_minor": 0
      },
      "text/plain": [
       "HBox(children=(IntProgress(value=0, max=2048), HTML(value='')))"
      ]
     },
     "metadata": {},
     "output_type": "display_data"
    },
    {
     "name": "stdout",
     "output_type": "stream",
     "text": [
      "Fitting Feature Model: \n",
      "Epoch 1/7\n",
      "2048/2048 [==============================] - 22s 11ms/step - loss: 22.6202\n",
      "Epoch 2/7\n",
      "2048/2048 [==============================] - 22s 11ms/step - loss: 18.4109\n",
      "Epoch 3/7\n",
      "2048/2048 [==============================] - 22s 11ms/step - loss: 15.8841\n",
      "Epoch 4/7\n",
      "2048/2048 [==============================] - 22s 11ms/step - loss: 13.9313\n",
      "Epoch 5/7\n",
      "2048/2048 [==============================] - 22s 11ms/step - loss: 12.3332\n",
      "Epoch 6/7\n",
      "2048/2048 [==============================] - 22s 11ms/step - loss: 10.4156\n",
      "Epoch 7/7\n",
      "2048/2048 [==============================] - 22s 11ms/step - loss: 8.8765\n",
      "Fine tuning Distance matrix: \n"
     ]
    },
    {
     "data": {
      "application/vnd.jupyter.widget-view+json": {
       "model_id": "492ed44789724602a0e09d012ca895ec",
       "version_major": 2,
       "version_minor": 0
      },
      "text/plain": [
       "HBox(children=(IntProgress(value=0), HTML(value='')))"
      ]
     },
     "metadata": {},
     "output_type": "display_data"
    },
    {
     "name": "stdout",
     "output_type": "stream",
     "text": [
      "---------------------------------------------------------\n",
      "\n",
      "\n",
      "\n",
      "Training Loop 13\n",
      "Fetching Data: \n"
     ]
    },
    {
     "data": {
      "application/vnd.jupyter.widget-view+json": {
       "model_id": "040bb8271e5049feb9c03c1c3e6b8657",
       "version_major": 2,
       "version_minor": 0
      },
      "text/plain": [
       "HBox(children=(IntProgress(value=0, max=2048), HTML(value='')))"
      ]
     },
     "metadata": {},
     "output_type": "display_data"
    },
    {
     "name": "stdout",
     "output_type": "stream",
     "text": [
      "4096/4096 [==============================] - 3s 815us/step\n"
     ]
    },
    {
     "data": {
      "application/vnd.jupyter.widget-view+json": {
       "model_id": "5d6d899426ea42c4b8d894df574d8b5b",
       "version_major": 2,
       "version_minor": 0
      },
      "text/plain": [
       "HBox(children=(IntProgress(value=0, max=512), HTML(value='')))"
      ]
     },
     "metadata": {},
     "output_type": "display_data"
    },
    {
     "name": "stdout",
     "output_type": "stream",
     "text": [
      "1024/1024 [==============================] - 1s 827us/step\n",
      "Fitting Classifier: \n",
      "Train on 8192 samples, validate on 2048 samples\n",
      "Epoch 1/20\n",
      "8192/8192 [==============================] - 1s 103us/step - loss: 0.6931 - acc: 0.4937 - val_loss: 0.6931 - val_acc: 0.5000\n",
      "Epoch 2/20\n",
      "8192/8192 [==============================] - 1s 124us/step - loss: 0.6931 - acc: 0.4963 - val_loss: 0.6931 - val_acc: 0.5000\n",
      "Epoch 3/20\n",
      "8192/8192 [==============================] - 1s 123us/step - loss: 0.6931 - acc: 0.4971 - val_loss: 0.6931 - val_acc: 0.5000\n",
      "Epoch 4/20\n",
      "8192/8192 [==============================] - 1s 124us/step - loss: 0.6931 - acc: 0.4973 - val_loss: 0.6931 - val_acc: 0.5000\n",
      "Epoch 5/20\n",
      "8192/8192 [==============================] - 1s 122us/step - loss: 0.6931 - acc: 0.4915 - val_loss: 0.6931 - val_acc: 0.5000\n",
      "Epoch 6/20\n",
      "8192/8192 [==============================] - 1s 122us/step - loss: 0.6931 - acc: 0.5000 - val_loss: 0.6931 - val_acc: 0.5000\n",
      "Epoch 7/20\n",
      "8192/8192 [==============================] - 1s 119us/step - loss: 0.6931 - acc: 0.4971 - val_loss: 0.6931 - val_acc: 0.5000\n",
      "Epoch 8/20\n",
      "8192/8192 [==============================] - 1s 122us/step - loss: 0.6931 - acc: 0.4968 - val_loss: 0.6931 - val_acc: 0.5000\n",
      "Epoch 9/20\n",
      "8192/8192 [==============================] - 1s 117us/step - loss: 0.6931 - acc: 0.4993 - val_loss: 0.6931 - val_acc: 0.5000\n",
      "Epoch 10/20\n",
      "8192/8192 [==============================] - 1s 122us/step - loss: 0.6931 - acc: 0.4983 - val_loss: 0.6931 - val_acc: 0.5000\n",
      "Epoch 11/20\n",
      "8192/8192 [==============================] - 1s 125us/step - loss: 0.6931 - acc: 0.5000 - val_loss: 0.6931 - val_acc: 0.5000\n",
      "Epoch 12/20\n",
      "8192/8192 [==============================] - 1s 117us/step - loss: 0.6931 - acc: 0.4907 - val_loss: 0.6931 - val_acc: 0.5000\n",
      "Epoch 13/20\n",
      "8192/8192 [==============================] - 1s 124us/step - loss: 0.6931 - acc: 0.4963 - val_loss: 0.6931 - val_acc: 0.5000\n",
      "Epoch 14/20\n",
      "8192/8192 [==============================] - 1s 126us/step - loss: 0.6931 - acc: 0.4978 - val_loss: 0.6931 - val_acc: 0.5000\n",
      "Epoch 15/20\n",
      "8192/8192 [==============================] - 1s 120us/step - loss: 0.6931 - acc: 0.4995 - val_loss: 0.6931 - val_acc: 0.5000\n",
      "Epoch 16/20\n",
      "8192/8192 [==============================] - 1s 116us/step - loss: 0.6931 - acc: 0.4919 - val_loss: 0.6931 - val_acc: 0.5000\n",
      "Epoch 17/20\n",
      "8192/8192 [==============================] - 1s 124us/step - loss: 0.6931 - acc: 0.5000 - val_loss: 0.6931 - val_acc: 0.5000\n",
      "Epoch 18/20\n",
      "8192/8192 [==============================] - 1s 122us/step - loss: 0.6931 - acc: 0.4902 - val_loss: 0.6931 - val_acc: 0.5000\n",
      "Epoch 19/20\n",
      "8192/8192 [==============================] - 1s 121us/step - loss: 0.6931 - acc: 0.4951 - val_loss: 0.6931 - val_acc: 0.5000\n",
      "Epoch 20/20\n",
      "8192/8192 [==============================] - 1s 121us/step - loss: 0.6931 - acc: 0.4912 - val_loss: 0.6931 - val_acc: 0.5000\n"
     ]
    },
    {
     "data": {
      "application/vnd.jupyter.widget-view+json": {
       "model_id": "8183467438b44505875ca744023f1667",
       "version_major": 2,
       "version_minor": 0
      },
      "text/plain": [
       "HBox(children=(IntProgress(value=0, max=2048), HTML(value='')))"
      ]
     },
     "metadata": {},
     "output_type": "display_data"
    },
    {
     "name": "stdout",
     "output_type": "stream",
     "text": [
      "Fitting Feature Model: \n",
      "Epoch 1/7\n",
      "2048/2048 [==============================] - 22s 11ms/step - loss: 23.5271\n",
      "Epoch 2/7\n",
      "2048/2048 [==============================] - 22s 11ms/step - loss: 17.6267\n",
      "Epoch 3/7\n",
      "2048/2048 [==============================] - 22s 11ms/step - loss: 16.4898\n",
      "Epoch 4/7\n",
      "2048/2048 [==============================] - 22s 11ms/step - loss: 12.8364\n",
      "Epoch 5/7\n",
      "2048/2048 [==============================] - 22s 11ms/step - loss: 10.2601\n",
      "Epoch 6/7\n",
      "2048/2048 [==============================] - 22s 11ms/step - loss: 9.2288\n",
      "Epoch 7/7\n",
      "2048/2048 [==============================] - 22s 11ms/step - loss: 8.3748\n",
      "Fine tuning Distance matrix: \n"
     ]
    },
    {
     "data": {
      "application/vnd.jupyter.widget-view+json": {
       "model_id": "10a5242d1d65428db210f9f8cdb51cfc",
       "version_major": 2,
       "version_minor": 0
      },
      "text/plain": [
       "HBox(children=(IntProgress(value=0), HTML(value='')))"
      ]
     },
     "metadata": {},
     "output_type": "display_data"
    },
    {
     "name": "stdout",
     "output_type": "stream",
     "text": [
      "---------------------------------------------------------\n",
      "\n",
      "\n",
      "\n",
      "Training Loop 14\n",
      "Fetching Data: \n"
     ]
    },
    {
     "data": {
      "application/vnd.jupyter.widget-view+json": {
       "model_id": "77f7ddf88d674afe89df2ee84986d6fa",
       "version_major": 2,
       "version_minor": 0
      },
      "text/plain": [
       "HBox(children=(IntProgress(value=0, max=2048), HTML(value='')))"
      ]
     },
     "metadata": {},
     "output_type": "display_data"
    },
    {
     "name": "stdout",
     "output_type": "stream",
     "text": [
      "4096/4096 [==============================] - 3s 809us/step\n"
     ]
    },
    {
     "data": {
      "application/vnd.jupyter.widget-view+json": {
       "model_id": "e5c6a1a89d1841a99c38a1c2bf470dca",
       "version_major": 2,
       "version_minor": 0
      },
      "text/plain": [
       "HBox(children=(IntProgress(value=0, max=512), HTML(value='')))"
      ]
     },
     "metadata": {},
     "output_type": "display_data"
    },
    {
     "name": "stdout",
     "output_type": "stream",
     "text": [
      "1024/1024 [==============================] - 1s 809us/step\n",
      "Fitting Classifier: \n",
      "Train on 8192 samples, validate on 2048 samples\n",
      "Epoch 1/20\n",
      "8192/8192 [==============================] - 1s 103us/step - loss: 0.6931 - acc: 0.5000 - val_loss: 0.6931 - val_acc: 0.5000\n",
      "Epoch 2/20\n",
      "8192/8192 [==============================] - 1s 121us/step - loss: 0.6931 - acc: 0.4934 - val_loss: 0.6931 - val_acc: 0.5000\n",
      "Epoch 3/20\n",
      "8192/8192 [==============================] - 1s 124us/step - loss: 0.6931 - acc: 0.4988 - val_loss: 0.6931 - val_acc: 0.5000\n",
      "Epoch 4/20\n",
      "8192/8192 [==============================] - 1s 125us/step - loss: 0.6931 - acc: 0.5000 - val_loss: 0.6931 - val_acc: 0.5000\n",
      "Epoch 5/20\n",
      "8192/8192 [==============================] - 1s 127us/step - loss: 0.6931 - acc: 0.4941 - val_loss: 0.6931 - val_acc: 0.5000\n",
      "Epoch 6/20\n",
      "8192/8192 [==============================] - 1s 127us/step - loss: 0.6931 - acc: 0.5000 - val_loss: 0.6931 - val_acc: 0.5000\n",
      "Epoch 7/20\n",
      "8192/8192 [==============================] - 1s 127us/step - loss: 0.6931 - acc: 0.5000 - val_loss: 0.6931 - val_acc: 0.5000\n",
      "Epoch 8/20\n",
      "8192/8192 [==============================] - 1s 122us/step - loss: 0.6931 - acc: 0.5000 - val_loss: 0.6931 - val_acc: 0.5000\n",
      "Epoch 9/20\n",
      "8192/8192 [==============================] - 1s 127us/step - loss: 0.6931 - acc: 0.5000 - val_loss: 0.6931 - val_acc: 0.5000\n",
      "Epoch 10/20\n",
      "8192/8192 [==============================] - 1s 124us/step - loss: 0.6931 - acc: 0.5000 - val_loss: 0.6931 - val_acc: 0.5000\n",
      "Epoch 11/20\n",
      "8192/8192 [==============================] - 1s 123us/step - loss: 0.6931 - acc: 0.5000 - val_loss: 0.6931 - val_acc: 0.5000\n",
      "Epoch 12/20\n",
      "8192/8192 [==============================] - 1s 122us/step - loss: 0.6931 - acc: 0.5000 - val_loss: 0.6931 - val_acc: 0.5000\n",
      "Epoch 13/20\n",
      "8192/8192 [==============================] - 1s 124us/step - loss: 0.6931 - acc: 0.5000 - val_loss: 0.6931 - val_acc: 0.5000\n",
      "Epoch 14/20\n",
      "8192/8192 [==============================] - 1s 121us/step - loss: 0.6931 - acc: 0.5000 - val_loss: 0.6931 - val_acc: 0.5000\n",
      "Epoch 15/20\n",
      "8192/8192 [==============================] - 1s 117us/step - loss: 0.6931 - acc: 0.5000 - val_loss: 0.6931 - val_acc: 0.5000\n",
      "Epoch 16/20\n",
      "8192/8192 [==============================] - 1s 123us/step - loss: 0.6931 - acc: 0.5000 - val_loss: 0.6931 - val_acc: 0.5000\n",
      "Epoch 17/20\n",
      "8192/8192 [==============================] - 1s 122us/step - loss: 0.6931 - acc: 0.5000 - val_loss: 0.6931 - val_acc: 0.5000\n",
      "Epoch 18/20\n",
      "8192/8192 [==============================] - 1s 119us/step - loss: 0.6931 - acc: 0.5000 - val_loss: 0.6931 - val_acc: 0.5000\n",
      "Epoch 19/20\n",
      "8192/8192 [==============================] - 1s 124us/step - loss: 0.6931 - acc: 0.5000 - val_loss: 0.6931 - val_acc: 0.5000\n",
      "Epoch 20/20\n",
      "8192/8192 [==============================] - 1s 122us/step - loss: 0.6931 - acc: 0.5000 - val_loss: 0.6931 - val_acc: 0.5000\n"
     ]
    },
    {
     "data": {
      "application/vnd.jupyter.widget-view+json": {
       "model_id": "ae946f7981494942acb816dbef2b1301",
       "version_major": 2,
       "version_minor": 0
      },
      "text/plain": [
       "HBox(children=(IntProgress(value=0, max=2048), HTML(value='')))"
      ]
     },
     "metadata": {},
     "output_type": "display_data"
    },
    {
     "name": "stdout",
     "output_type": "stream",
     "text": [
      "Fitting Feature Model: \n",
      "Epoch 1/7\n",
      "2048/2048 [==============================] - 22s 11ms/step - loss: 23.2956\n",
      "Epoch 2/7\n",
      "2048/2048 [==============================] - 22s 11ms/step - loss: 17.4702\n",
      "Epoch 3/7\n",
      "2048/2048 [==============================] - 22s 11ms/step - loss: 14.8208\n",
      "Epoch 4/7\n",
      "2048/2048 [==============================] - 22s 11ms/step - loss: 11.6182\n",
      "Epoch 5/7\n",
      "2048/2048 [==============================] - 22s 11ms/step - loss: 10.1120\n",
      "Epoch 6/7\n",
      "2048/2048 [==============================] - 22s 11ms/step - loss: 8.4420\n",
      "Epoch 7/7\n",
      "2048/2048 [==============================] - 22s 11ms/step - loss: 5.8502\n",
      "Fine tuning Distance matrix: \n"
     ]
    },
    {
     "data": {
      "application/vnd.jupyter.widget-view+json": {
       "model_id": "22a90bb99e794a22a315ba75429426d5",
       "version_major": 2,
       "version_minor": 0
      },
      "text/plain": [
       "HBox(children=(IntProgress(value=0), HTML(value='')))"
      ]
     },
     "metadata": {},
     "output_type": "display_data"
    },
    {
     "name": "stdout",
     "output_type": "stream",
     "text": [
      "---------------------------------------------------------\n",
      "\n",
      "\n",
      "\n"
     ]
    }
   ],
   "source": [
    "from keras_tqdm import TQDMNotebookCallback\n",
    "train = TripletSequence(tr_dir=tr_dir, tr_df=tr_df[768:], W = np.eye(128), model=feature_model, batch_size=2048)\n",
    "val = TripletSequence(tr_dir=tr_dir, tr_df=tr_df[:768], W = np.eye(128), model=feature_model, batch_size=512)\n",
    "nrml = NRML(N=2048, K=17, d=128)\n",
    "nrml.build_model()\n",
    "\n",
    "num_runs = 15\n",
    "\n",
    "for i in range(num_runs):\n",
    "    print('Training Loop {0}'.format(i))\n",
    "    print('Fetching Data: ')\n",
    "    [[anchors, positives], [x, y]] = train.__getitem__(1)\n",
    "    [[vanchors, vpositives], [vx, vy]] = val.__getitem__(1)\n",
    "    \n",
    "    ones = np.ones((2*len(x),))\n",
    "    zeros = np.zeros((2*len(x),))\n",
    "    opt = np.concatenate([ones, zeros])\n",
    "    c_trx = np.concatenate([x, y, x, y[::-1,:]])\n",
    "    c_try = np.concatenate([y, x, y[::-1,:], x])\n",
    "    \n",
    "    vones = np.ones((2*len(vx)))\n",
    "    vzeros = np.zeros((2*len(vx)))\n",
    "    vopt = np.concatenate([vones, vzeros])\n",
    "    vc_trx = np.concatenate([vx, vy, vx,         vy[::-1,:]])\n",
    "    vc_try = np.concatenate([vy, vx, vy[::-1,:], vx])\n",
    "    print('Fitting Classifier: ')\n",
    "    classifier.fit(x = [c_trx, c_try], y = [opt], shuffle=True,\n",
    "                   validation_data = ([vc_trx, vc_try], [vopt]),\n",
    "                   batch_size=128,\n",
    "                   verbose = 1, epochs=20)\n",
    "    del vc_trx, vc_try, vopt, vones, vzeros, c_trx, c_try, opt, ones, zeros\n",
    "    negatives = []\n",
    "    pool_img =np.concatenate([anchors, positives])\n",
    "    my_pool = np.concatenate([y, x])\n",
    "    for i in tnrange(len(x)):\n",
    "        ind = list(range(len(pool_img)))\n",
    "        ind.pop(i)\n",
    "        ind.pop(len(x)+i-1)\n",
    "        ind = np.random.choice(ind, size = (256,))\n",
    "        mx = [np.expand_dims(x[i,:],0)]\n",
    "        mx = np.concatenate(len(ind)*mx)\n",
    "        pool = pool_img[ind,:,:,:]\n",
    "        my = my_pool[ind,:]\n",
    "        myp = classifier.predict([mx, my])\n",
    "        neg_img = pool_img[np.argmax(myp)]\n",
    "        negatives.append(neg_img)\n",
    "    negatives = np.array(negatives)\n",
    "    print('Fitting Feature Model: ')\n",
    "    model.fit(x = [anchors, positives, negatives], y = [],\n",
    "              callbacks=[], \n",
    "              batch_size=32, \n",
    "              verbose = 1, epochs=7)\n",
    "    print('Fine tuning Distance matrix: ')\n",
    "    nrml.fit(x, y, 100, .00075)\n",
    "    if i != num_runs - 1:\n",
    "        train.W = nrml.W\n",
    "    print('---------------------------------------------------------')\n",
    "    print('\\n\\n')"
   ]
  },
  {
   "cell_type": "code",
   "execution_count": null,
   "metadata": {
    "ExecuteTime": {
     "end_time": "2019-07-22T11:32:10.967375Z",
     "start_time": "2019-07-22T11:32:10.198203Z"
    }
   },
   "outputs": [],
   "source": [
    "model.save_weights('model.h5')"
   ]
  },
  {
   "cell_type": "code",
   "execution_count": null,
   "metadata": {
    "ExecuteTime": {
     "end_time": "2019-07-22T09:43:39.823016Z",
     "start_time": "2019-07-22T09:43:13.479555Z"
    }
   },
   "outputs": [],
   "source": [
    "[[anchors, positives, negatives], [x, y]] = train.__getitem__(1)"
   ]
  },
  {
   "cell_type": "code",
   "execution_count": null,
   "metadata": {
    "ExecuteTime": {
     "end_time": "2019-07-22T09:43:59.623399Z",
     "start_time": "2019-07-22T09:43:44.289087Z"
    }
   },
   "outputs": [],
   "source": [
    "y_bar = feature_model.predict(negatives, verbose = 1)"
   ]
  },
  {
   "cell_type": "code",
   "execution_count": null,
   "metadata": {},
   "outputs": [],
   "source": [
    "K.eval(K.sum((x-y)**2, -1))"
   ]
  },
  {
   "cell_type": "code",
   "execution_count": null,
   "metadata": {},
   "outputs": [],
   "source": [
    "K.eval(K.sum((x-y_bar)**2, -1))"
   ]
  },
  {
   "cell_type": "code",
   "execution_count": null,
   "metadata": {
    "ExecuteTime": {
     "end_time": "2019-07-20T11:08:30.547714Z",
     "start_time": "2019-07-20T11:08:20.811506Z"
    }
   },
   "outputs": [],
   "source": [
    "res = K.eval(K.sum((x-y)**2, -1)) < K.eval(K.sum((x-y_bar)**2, -1))"
   ]
  },
  {
   "cell_type": "code",
   "execution_count": null,
   "metadata": {
    "ExecuteTime": {
     "end_time": "2019-07-22T09:44:14.336296Z",
     "start_time": "2019-07-22T09:44:14.330398Z"
    }
   },
   "outputs": [],
   "source": [
    "len(res)"
   ]
  },
  {
   "cell_type": "code",
   "execution_count": null,
   "metadata": {
    "ExecuteTime": {
     "end_time": "2019-07-22T09:44:16.936915Z",
     "start_time": "2019-07-22T09:44:16.930434Z"
    }
   },
   "outputs": [],
   "source": [
    "np.sum(res)"
   ]
  },
  {
   "cell_type": "code",
   "execution_count": null,
   "metadata": {
    "ExecuteTime": {
     "end_time": "2019-07-22T09:44:09.845342Z",
     "start_time": "2019-07-22T09:44:09.818451Z"
    }
   },
   "outputs": [],
   "source": [
    "def kld(y_true, y_pred):\n",
    "    y_true = np.clip(y_true, np.finfo(float).eps, 1)\n",
    "    y_pred = np.clip(y_pred, np.finfo(float).eps, 1)\n",
    "    return np.sum(y_true * np.log(y_true / y_pred), axis=-1)\n",
    "\n",
    "res = kld(x,y) < kld(x,y_bar)"
   ]
  },
  {
   "cell_type": "code",
   "execution_count": null,
   "metadata": {},
   "outputs": [],
   "source": []
  }
 ],
 "metadata": {
  "kernelspec": {
   "display_name": "Python 3",
   "language": "python",
   "name": "python3"
  },
  "language_info": {
   "codemirror_mode": {
    "name": "ipython",
    "version": 3
   },
   "file_extension": ".py",
   "mimetype": "text/x-python",
   "name": "python",
   "nbconvert_exporter": "python",
   "pygments_lexer": "ipython3",
   "version": "3.5.2"
  },
  "varInspector": {
   "cols": {
    "lenName": 16,
    "lenType": 16,
    "lenVar": 40
   },
   "kernels_config": {
    "python": {
     "delete_cmd_postfix": "",
     "delete_cmd_prefix": "del ",
     "library": "var_list.py",
     "varRefreshCmd": "print(var_dic_list())"
    },
    "r": {
     "delete_cmd_postfix": ") ",
     "delete_cmd_prefix": "rm(",
     "library": "var_list.r",
     "varRefreshCmd": "cat(var_dic_list()) "
    }
   },
   "position": {
    "height": "642px",
    "left": "1432px",
    "right": "20px",
    "top": "128px",
    "width": "341px"
   },
   "types_to_exclude": [
    "module",
    "function",
    "builtin_function_or_method",
    "instance",
    "_Feature"
   ],
   "window_display": false
  }
 },
 "nbformat": 4,
 "nbformat_minor": 2
}
